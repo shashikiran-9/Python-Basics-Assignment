{
 "cells": [
  {
   "cell_type": "markdown",
   "id": "c56b507f",
   "metadata": {},
   "source": [
    "                                  Assignment No 13 (Python Basics)"
   ]
  },
  {
   "cell_type": "code",
   "execution_count": null,
   "id": "562e2174",
   "metadata": {},
   "outputs": [],
   "source": []
  },
  {
   "cell_type": "markdown",
   "id": "045aca12",
   "metadata": {},
   "source": [
    "Que1. What advantages do Excel spreadsheets have over CSV spreadsheets?\n",
    "\n",
    "Ans:\n",
    "    The Advantages of Excel over CSV are: Excel(XLS and XLSX) file formats are better for stroing and analysing complex data.       An Excel (XLS and XLSX) file formats are better for storing and analysing complex data. An Excel not only stores data but       also do operations on the data using macros, formulas etc. CSV files are plain-text files, Does not contain formatting,         formulas, macros,etc it is also known as flat files."
   ]
  },
  {
   "cell_type": "code",
   "execution_count": null,
   "id": "d7dd2d31",
   "metadata": {},
   "outputs": [],
   "source": []
  },
  {
   "cell_type": "markdown",
   "id": "25c6acec",
   "metadata": {},
   "source": [
    "Que2. What do you pass to csv.reader() and csv.writer() to create reader and writer objects?\n"
   ]
  },
  {
   "cell_type": "code",
   "execution_count": null,
   "id": "8adccf8f",
   "metadata": {},
   "outputs": [],
   "source": [
    "import csv\n",
    "with open('text.csv', 'r') as file:\n",
    "    reader = csv.reader(file)\n",
    "    for row in reader:\n",
    "        print(row)\n"
   ]
  },
  {
   "cell_type": "code",
   "execution_count": null,
   "id": "e8598b29",
   "metadata": {},
   "outputs": [],
   "source": []
  },
  {
   "cell_type": "markdown",
   "id": "572df1cc",
   "metadata": {},
   "source": [
    "Que3. What modes do File objects for reader and writer objects need to be opened in?\n",
    "\n",
    "Ans:\n",
    "     For csv.reader(iterable_file_object), the file objects needed to be opened in read mode mode='r' Whereas for                    csv.writer(iterable_file_object) the file objects needed to be opened in write mode mode='w'.\n",
    "     "
   ]
  },
  {
   "cell_type": "code",
   "execution_count": null,
   "id": "b6c5c463",
   "metadata": {},
   "outputs": [],
   "source": []
  },
  {
   "cell_type": "markdown",
   "id": "d6b16371",
   "metadata": {},
   "source": [
    "Que4. What method takes a list argument and writes it to a CSV file?\n"
   ]
  },
  {
   "cell_type": "code",
   "execution_count": 2,
   "id": "0933ba94",
   "metadata": {},
   "outputs": [],
   "source": [
    "import csv \n",
    "fields = ['Name', 'Branch', 'Year', 'CGPA']\n",
    "rows = [\n",
    "             ['Nitin', 'COE', '2', '9.0'],\n",
    "             ['Kartik', 'COE', '2', '9.1'],\n",
    "             ['Ram', 'IT', '2', '9.3']\n",
    "       ]\n",
    "with open(\"university_record.csv\", 'w') as csvfile:\n",
    "    csvwriter = csv.writer(csvfile)\n",
    "    csvwriter.writerow(fields)\n",
    "    csvwriter.writerows(rows)\n",
    "    \n"
   ]
  },
  {
   "cell_type": "code",
   "execution_count": null,
   "id": "2d829125",
   "metadata": {},
   "outputs": [],
   "source": []
  },
  {
   "cell_type": "markdown",
   "id": "f0da8ee4",
   "metadata": {},
   "source": [
    "Que5. What do the keyword arguments delimiter and line terminator do?\n",
    "\n",
    "Ans:\n",
    "     The delimiter argument changes the string used to separate cells in row. The lineterminator argument changes the string        used to separate rows.\n",
    "     "
   ]
  },
  {
   "cell_type": "code",
   "execution_count": null,
   "id": "a9822ae0",
   "metadata": {},
   "outputs": [],
   "source": []
  },
  {
   "cell_type": "markdown",
   "id": "1e6caa6b",
   "metadata": {},
   "source": [
    "Que6. What function takes a string of JSON data and returns a Python data structure?\n",
    "\n",
    "Ans:\n",
    "     loads() method takes a string of JSON data and returns a Python data structure.\n",
    "     "
   ]
  },
  {
   "cell_type": "code",
   "execution_count": 3,
   "id": "07c246b2",
   "metadata": {},
   "outputs": [
    {
     "name": "stdout",
     "output_type": "stream",
     "text": [
      "{\n",
      "    \"Name\": \"Rajeshree Chamat\",\n",
      "    \"Qualification\": \"B.Sc\"\n",
      "    }\n",
      "Type of my_details_json is <class 'str'>\n",
      "{'Name': 'Rajeshree Chamat', 'Qualification': 'B.Sc'}\n",
      "Type of my_details is <class 'dict'>\n"
     ]
    }
   ],
   "source": [
    "# Example of json.loads() method\n",
    "import json\n",
    "my_details_json ='''{\n",
    "    \"Name\": \"Rajeshree Chamat\",\n",
    "    \"Qualification\": \"B.Sc\"\n",
    "    }'''\n",
    "print(my_details_json)\n",
    "print(f'Type of my_details_json is {type(my_details_json)}')\n",
    "my_details = json.loads(my_details_json)\n",
    "print(my_details)\n",
    "print(f'Type of my_details is {type(my_details)}')\n"
   ]
  },
  {
   "cell_type": "code",
   "execution_count": null,
   "id": "6ef62461",
   "metadata": {},
   "outputs": [],
   "source": []
  },
  {
   "cell_type": "markdown",
   "id": "fd1a8372",
   "metadata": {},
   "source": [
    "Que7. What function takes a Python data structure and returns a string of JSON data?\n",
    "\n",
    "Ans:\n",
    "     dump() method takes a python data structure and returns a string of JSON data.\n",
    "     "
   ]
  },
  {
   "cell_type": "code",
   "execution_count": 4,
   "id": "b186099a",
   "metadata": {},
   "outputs": [
    {
     "name": "stdout",
     "output_type": "stream",
     "text": [
      "{'Name': 'Rajeshree Chamat', 'Qualification': 'B.Sc'}\n",
      "Type of my_details is <class 'dict'>\n",
      "{\n",
      "    \"Name\": \"Rajeshree Chamat\",\n",
      "    \"Qualification\": \"B.Sc\"\n",
      "}\n",
      "Type of my_details_json is <class 'str'>\n"
     ]
    }
   ],
   "source": [
    "# Example of json.dumps() method\n",
    "import json\n",
    "my_details = {\n",
    "    \"Name\": \"Rajeshree Chamat\",\n",
    "    \"Qualification\": \"B.Sc\"\n",
    "}    \n",
    "print(my_details)\n",
    "print(f'Type of my_details is {type(my_details)}')\n",
    "my_details_json = json.dumps(my_details, indent=4, sort_keys=True)\n",
    "print(my_details_json)\n",
    "print(f'Type of my_details_json is {type(my_details_json)}')\n"
   ]
  },
  {
   "cell_type": "code",
   "execution_count": null,
   "id": "2a9a3fc3",
   "metadata": {},
   "outputs": [],
   "source": []
  }
 ],
 "metadata": {
  "kernelspec": {
   "display_name": "Python 3 (ipykernel)",
   "language": "python",
   "name": "python3"
  },
  "language_info": {
   "codemirror_mode": {
    "name": "ipython",
    "version": 3
   },
   "file_extension": ".py",
   "mimetype": "text/x-python",
   "name": "python",
   "nbconvert_exporter": "python",
   "pygments_lexer": "ipython3",
   "version": "3.9.13"
  }
 },
 "nbformat": 4,
 "nbformat_minor": 5
}
