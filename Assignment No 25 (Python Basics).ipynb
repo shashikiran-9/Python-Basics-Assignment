{
 "cells": [
  {
   "cell_type": "markdown",
   "id": "16178cac",
   "metadata": {},
   "source": [
    "                             Assignment No 25 (Python Basics)"
   ]
  },
  {
   "cell_type": "code",
   "execution_count": null,
   "id": "141e8383",
   "metadata": {},
   "outputs": [],
   "source": []
  },
  {
   "cell_type": "markdown",
   "id": "b2f396bb",
   "metadata": {},
   "source": [
    "Que 1) . What is the difference between enclosing a list comprehension in square brackets and\n",
    "         parentheses?\n"
   ]
  },
  {
   "cell_type": "code",
   "execution_count": 2,
   "id": "1afad775",
   "metadata": {},
   "outputs": [
    {
     "data": {
      "text/plain": [
       "[0, 1, 2, 3, 4, 5, 6, 7, 8, 9]"
      ]
     },
     "execution_count": 2,
     "metadata": {},
     "output_type": "execute_result"
    }
   ],
   "source": [
    "lst = [i for i in range(10)]\n",
    "lst\n",
    "#List Comprehension with square brackets produces list.\n",
    "#List Comprehension with parenthese creates generators\n"
   ]
  },
  {
   "cell_type": "code",
   "execution_count": 3,
   "id": "b652589d",
   "metadata": {
    "collapsed": true
   },
   "outputs": [
    {
     "data": {
      "text/plain": [
       "<generator object <genexpr> at 0x000001EADFA89970>"
      ]
     },
     "execution_count": 3,
     "metadata": {},
     "output_type": "execute_result"
    }
   ],
   "source": [
    "#If you are familiar with list comprehensions, then this look likes it might create a tuple which is (1, 2, 3, 4,......),\n",
    "#But it is actually a genertor expression - this expression is a one time only iterator which will yield the values 1, 2, 3, 4.... in that order \n",
    "\n",
    "lstParanthesis = (i for i in range(10))\n",
    "lstParanthesis \n"
   ]
  },
  {
   "cell_type": "code",
   "execution_count": 4,
   "id": "ecd6b2ba",
   "metadata": {},
   "outputs": [
    {
     "data": {
      "text/plain": [
       "[0, 1, 2, 3, 4, 5, 6, 7, 8, 9]"
      ]
     },
     "execution_count": 4,
     "metadata": {},
     "output_type": "execute_result"
    }
   ],
   "source": [
    "list(lstParanthesis)\n"
   ]
  },
  {
   "cell_type": "code",
   "execution_count": null,
   "id": "0052d322",
   "metadata": {},
   "outputs": [],
   "source": [
    "\n"
   ]
  },
  {
   "cell_type": "markdown",
   "id": "154b7a2a",
   "metadata": {},
   "source": [
    "Que 2) What is the relationship between generators and iterators?\n",
    "\n",
    "Ans:\n",
    "     An iterator is an object which contains a countable of values and it is used to iterator over iterable objects like list,      tuples  etc Using an iterator-iter()keyword is used to create an iterator containing an iterable object. next()keyword is      used to call the next element in the iterable object. \n",
    "     \n",
    "     Generator it is another way of creating iterators in a simple way where it uses the keyword \"yied\" instead of returning it      in a defind function Generators are impelement using a function Here, the yield function returns the data without              affecting or exiting the function. It will return a sequence of data in an iterable format where we need ti iterate over        the sequence to use the data as they won't store the entire sequence in the memory By using next() function we can iterate      the output of generator function.\n",
    "     "
   ]
  },
  {
   "cell_type": "code",
   "execution_count": 5,
   "id": "466329de",
   "metadata": {},
   "outputs": [
    {
     "name": "stdout",
     "output_type": "stream",
     "text": [
      "<class 'list_iterator'>\n",
      "Dog\n",
      "CAt\n",
      "Bear\n"
     ]
    }
   ],
   "source": [
    "# iterator \n",
    "iter_list = iter(['Dog', 'CAt', 'Bear'])\n",
    "print(type(iter_list))\n",
    "print(next(iter_list))\n",
    "print(next(iter_list))\n",
    "print(next(iter_list))\n"
   ]
  },
  {
   "cell_type": "code",
   "execution_count": 6,
   "id": "2c8c76bd",
   "metadata": {},
   "outputs": [
    {
     "data": {
      "text/plain": [
       "<generator object sq at 0x000001EADFA89F20>"
      ]
     },
     "execution_count": 6,
     "metadata": {},
     "output_type": "execute_result"
    }
   ],
   "source": [
    "# Generator \n",
    "\n",
    "def sq(n):\n",
    "    for i in range(1, n+1):\n",
    "        yield i*i\n",
    "        \n",
    "sq(6)\n"
   ]
  },
  {
   "cell_type": "code",
   "execution_count": 7,
   "id": "726701bd",
   "metadata": {},
   "outputs": [
    {
     "data": {
      "text/plain": [
       "<generator object sq at 0x000001EADFB74040>"
      ]
     },
     "execution_count": 7,
     "metadata": {},
     "output_type": "execute_result"
    }
   ],
   "source": [
    "lst = sq(6)\n",
    "lst\n"
   ]
  },
  {
   "cell_type": "code",
   "execution_count": 8,
   "id": "2348143b",
   "metadata": {},
   "outputs": [
    {
     "name": "stdout",
     "output_type": "stream",
     "text": [
      "1\n",
      "4\n",
      "9\n",
      "16\n"
     ]
    }
   ],
   "source": [
    "print(next(lst))\n",
    "print(next(lst))\n",
    "print(next(lst))\n",
    "print(next(lst))\n"
   ]
  },
  {
   "cell_type": "code",
   "execution_count": null,
   "id": "41078e4a",
   "metadata": {},
   "outputs": [],
   "source": []
  },
  {
   "cell_type": "markdown",
   "id": "026a590a",
   "metadata": {},
   "source": [
    "Que 3) What are the signs that a function is a generator function?\n",
    " \n",
    "Ans:\n",
    "     A generator function uses a yield statement instead of a return statement. A generator function  will always return a          iterable object called generator. where as a narmal function can return a string/list/tuple/dict/NoneType etc.\n",
    "     "
   ]
  },
  {
   "cell_type": "code",
   "execution_count": null,
   "id": "24b3a54b",
   "metadata": {},
   "outputs": [],
   "source": []
  },
  {
   "cell_type": "markdown",
   "id": "e538402c",
   "metadata": {},
   "source": [
    "Que 4) What is the purpose of a yield statement?\n",
    "\n",
    "Ans:\n",
    "     A yield statement looks much like a return statement, except that instead of stopping execution of the function and            returning, yield instead provides a value to the code looping over the generator execution of the generator function.\n"
   ]
  },
  {
   "cell_type": "code",
   "execution_count": null,
   "id": "7affbbb5",
   "metadata": {},
   "outputs": [],
   "source": []
  },
  {
   "cell_type": "markdown",
   "id": "84e8c356",
   "metadata": {},
   "source": [
    "Que 5) What is the relationship between map calls and list comprehensions? Make a comparison and\n",
    "       contrast between the two.\n",
    "\n",
    "Ans:\n",
    "     Map function: Suppose we have a function and we want to compute this function for different values in a single line of          code . This is where map() function plays its role. map() function returns a map object(which is an iterator) of the            results after applying the given function to each item of a given iterable (list, tuple etc.)\n",
    "\n",
    "     If we already have a function defined, it is often good to use map For example, map(sum, myLists) is more neat than            [sum(x) for x in myLists]. You gain the elegance of not having to make up a dummy variable (e.g. sum(x) for x... or sum()      for ... or sum(readableName) for readableName...) which you have to type twice, just to iterate.\n",
    "\n",
    "     List Comprehension:List Comprehension is a substitute for the lambda function, map(),filter() and reduce()\n",
    "     \n",
    "     Comparision:\n",
    "     \n",
    "     1. List comprehension is more concise and easier to read as compared to map \n",
    "     \n",
    "     2. List comprehension allows filtering. In map, we have no such facility\n",
    "     \n",
    "     3. List comprehension are used when a list of results is required, where as map only returns a map object and does not             return any list.\n",
    "     \n",
    "     4. List comprehension is faster than map when we need to evaluate expression that are too long or complicated to express \n",
    "     \n",
    "     5. Map is faster in case of calling an already defind function(as no lambda is required)\n",
    "     "
   ]
  },
  {
   "cell_type": "code",
   "execution_count": null,
   "id": "cbfb20a4",
   "metadata": {},
   "outputs": [],
   "source": []
  },
  {
   "cell_type": "code",
   "execution_count": null,
   "id": "371a7d77",
   "metadata": {},
   "outputs": [],
   "source": []
  }
 ],
 "metadata": {
  "kernelspec": {
   "display_name": "Python 3 (ipykernel)",
   "language": "python",
   "name": "python3"
  },
  "language_info": {
   "codemirror_mode": {
    "name": "ipython",
    "version": 3
   },
   "file_extension": ".py",
   "mimetype": "text/x-python",
   "name": "python",
   "nbconvert_exporter": "python",
   "pygments_lexer": "ipython3",
   "version": "3.9.13"
  }
 },
 "nbformat": 4,
 "nbformat_minor": 5
}
