{
 "cells": [
  {
   "cell_type": "markdown",
   "id": "64dfb011",
   "metadata": {},
   "source": [
    "                                    Assignment No 09 (Python Basics)"
   ]
  },
  {
   "cell_type": "code",
   "execution_count": null,
   "id": "ef7718e5",
   "metadata": {},
   "outputs": [],
   "source": []
  },
  {
   "cell_type": "markdown",
   "id": "bb886eb4",
   "metadata": {},
   "source": [
    "Que1. To what does a relative path refer?\n",
    "\n",
    "Ans:\n",
    "     Relative paths are relative to the current working directory.\n",
    "     "
   ]
  },
  {
   "cell_type": "code",
   "execution_count": null,
   "id": "effc5561",
   "metadata": {},
   "outputs": [],
   "source": []
  },
  {
   "cell_type": "markdown",
   "id": "06b6ad38",
   "metadata": {},
   "source": [
    "Que2. What does an absolute path start with your operating system?\n",
    "\n",
    "Ans: \n",
    "    Absolute paths start with the root folder, such as/ or C:\n",
    "    "
   ]
  },
  {
   "cell_type": "code",
   "execution_count": null,
   "id": "9c04ee6f",
   "metadata": {},
   "outputs": [],
   "source": []
  },
  {
   "cell_type": "markdown",
   "id": "9f088828",
   "metadata": {},
   "source": [
    "Que3. What do the functions os.getcwd() and os.chdir() do?\n",
    "\n",
    "Ans: \n",
    "    The os.getcwd() function returns the current working directory. The os. chdir() function changes the current working            directory.\n",
    "    "
   ]
  },
  {
   "cell_type": "code",
   "execution_count": null,
   "id": "6c3a66c8",
   "metadata": {},
   "outputs": [],
   "source": []
  },
  {
   "cell_type": "markdown",
   "id": "2e219096",
   "metadata": {},
   "source": [
    "Que4. What are the . and .. folders?\n",
    "\n",
    "Ans:\n",
    "    The. folder is the current folder, and...is the parent folder.\n",
    "    "
   ]
  },
  {
   "cell_type": "code",
   "execution_count": null,
   "id": "f79f8c62",
   "metadata": {},
   "outputs": [],
   "source": []
  },
  {
   "cell_type": "markdown",
   "id": "62042110",
   "metadata": {},
   "source": [
    "Que5. In C:\\bacon\\eggs\\spam.txt, which part is the dir name, and which part is the base name?\n",
    "    \n",
    "Ans:\n",
    "     c:\\bacon\\eggs is the dir name, while spam.txt is the base name."
   ]
  },
  {
   "cell_type": "code",
   "execution_count": null,
   "id": "a86b790a",
   "metadata": {},
   "outputs": [],
   "source": []
  },
  {
   "cell_type": "markdown",
   "id": "9d58ace6",
   "metadata": {},
   "source": [
    "Que6. What are the three “mode” arguments that can be passed to the open() function?\n",
    "\n",
    "Ans:\n",
    "    The string 'r' for read mode, 'w' for write mode, and 'a' for append mode.\n",
    "    "
   ]
  },
  {
   "cell_type": "code",
   "execution_count": null,
   "id": "ae0e45d3",
   "metadata": {},
   "outputs": [],
   "source": []
  },
  {
   "cell_type": "markdown",
   "id": "4c39dc17",
   "metadata": {},
   "source": [
    "Que7. What happens if an existing file is opened in write mode?\n",
    "\n",
    "Ans:\n",
    "     An  existing file opend in write mode is erased and completely ovetrwritten.\n",
    "     "
   ]
  },
  {
   "cell_type": "code",
   "execution_count": null,
   "id": "579cef2b",
   "metadata": {},
   "outputs": [],
   "source": []
  },
  {
   "cell_type": "markdown",
   "id": "ccffbe3f",
   "metadata": {},
   "source": [
    "Que8. How do you tell the difference between read() and readlines()?\n",
    "\n",
    "Ans:\n",
    "     The main difference is that read() will read the whole file at once and then print out the first characters that take up        as many bytes as many bytes as we specify in the parenthesis\n",
    "     \n",
    "     whereas the readline() that will read and print out only the first characters that take up as many bytes as we specify in      the parenthesis. We many want to use readline() when we are reading files that are too big for our RAM.\n",
    "     \n",
    "     The read() would treat each character in the file separately, meaning that the iteration would happen for every character.\n",
    "     \n",
    "     The readline() function, on the other hand, only reads a single line of the file. This means that if the first line of the      file were three lines long, the readline() function would only parse (or iterate/ operate) on the first line of the file.\n",
    "     "
   ]
  },
  {
   "cell_type": "code",
   "execution_count": null,
   "id": "646d6151",
   "metadata": {},
   "outputs": [],
   "source": []
  },
  {
   "cell_type": "markdown",
   "id": "a3968673",
   "metadata": {},
   "source": [
    "Que9. What data structure does a shelf value resemble?\n",
    "\n",
    "Ans:\n",
    "     A shelf value resembles a dictionary value; it has keys and values, along with keys() and values() methods that work            similarly to the dictionary  methods of the same names.\n",
    "     "
   ]
  },
  {
   "cell_type": "code",
   "execution_count": null,
   "id": "150b2802",
   "metadata": {},
   "outputs": [],
   "source": []
  },
  {
   "cell_type": "code",
   "execution_count": null,
   "id": "4e8a4b3a",
   "metadata": {},
   "outputs": [],
   "source": []
  }
 ],
 "metadata": {
  "kernelspec": {
   "display_name": "Python 3 (ipykernel)",
   "language": "python",
   "name": "python3"
  },
  "language_info": {
   "codemirror_mode": {
    "name": "ipython",
    "version": 3
   },
   "file_extension": ".py",
   "mimetype": "text/x-python",
   "name": "python",
   "nbconvert_exporter": "python",
   "pygments_lexer": "ipython3",
   "version": "3.9.13"
  }
 },
 "nbformat": 4,
 "nbformat_minor": 5
}
