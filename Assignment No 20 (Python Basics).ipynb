{
 "cells": [
  {
   "cell_type": "markdown",
   "id": "cfdfb0ae",
   "metadata": {},
   "source": [
    "                                 Assignment No 20 (Python Basics)\n",
    "                                 "
   ]
  },
  {
   "cell_type": "code",
   "execution_count": null,
   "id": "83d78811",
   "metadata": {},
   "outputs": [],
   "source": []
  },
  {
   "cell_type": "markdown",
   "id": "9b5c1360",
   "metadata": {},
   "source": [
    "Que1. Set the variable test1 to the string 'This is a test of the emergency text system,' and save test1 to a\n",
    "      file named test.txt.\n"
   ]
  },
  {
   "cell_type": "code",
   "execution_count": 1,
   "id": "fbe437fb",
   "metadata": {},
   "outputs": [
    {
     "name": "stdout",
     "output_type": "stream",
     "text": [
      "This is a test of the emergency text system,\n"
     ]
    }
   ],
   "source": [
    "test1 = 'This is a test of the emergency text system,'\n",
    "print(test1)\n",
    "with open('test.txt','w') as file:\n",
    "    file.write(test1)\n",
    "    file.close()\n",
    "    "
   ]
  },
  {
   "cell_type": "code",
   "execution_count": 2,
   "id": "8e3ded72",
   "metadata": {},
   "outputs": [
    {
     "name": "stdout",
     "output_type": "stream",
     "text": [
      "This is a test of the emergency text system,\n"
     ]
    }
   ],
   "source": [
    "# read the contents of test.txt\n",
    "! type test.txt\n"
   ]
  },
  {
   "cell_type": "code",
   "execution_count": null,
   "id": "4b9d7c27",
   "metadata": {},
   "outputs": [],
   "source": []
  },
  {
   "cell_type": "markdown",
   "id": "56c168e9",
   "metadata": {},
   "source": [
    "Que2. Read the contents of the file test.txt into the variable test2. Is there a difference between test 1\n",
    "      and test 2?\n"
   ]
  },
  {
   "cell_type": "code",
   "execution_count": 3,
   "id": "262165b3",
   "metadata": {},
   "outputs": [
    {
     "name": "stdout",
     "output_type": "stream",
     "text": [
      "This is a test of the emergency text system,\n",
      "True\n"
     ]
    }
   ],
   "source": [
    "with open('test.txt','r') as file:\n",
    "    test2 = file.read()\n",
    "    \n",
    "print(test2)\n",
    "print(test1 == test2)\n"
   ]
  },
  {
   "cell_type": "code",
   "execution_count": null,
   "id": "71c7478e",
   "metadata": {},
   "outputs": [],
   "source": []
  },
  {
   "cell_type": "markdown",
   "id": "85aa094e",
   "metadata": {},
   "source": [
    "Que3. Create a CSV file called books.csv by using these lines:\n",
    "      \n",
    "      title,author,year\n",
    "      \n",
    "      The Weirdstone of Brisingamen,Alan Garner,1960\n",
    "      \n",
    "      Perdido Street Station,China Miéville,2000\n",
    "      \n",
    "      Thud!,Terry Pratchett,2005\n",
    "      \n",
    "      The Spellman Files,Lisa Lutz,2007\n",
    "      \n",
    "      Small Gods,Terry Pratchett,1992\n"
   ]
  },
  {
   "cell_type": "code",
   "execution_count": 6,
   "id": "1f5759d9",
   "metadata": {},
   "outputs": [],
   "source": [
    "import csv \n",
    "rows =[ ['title','author','year'],\n",
    "      ['The Weirdstone of Brisingamen','Alan Garner',1960],\n",
    "      ['Perdido Street Station','China Miéville',2000],\n",
    "      ['Thud!','Terry Pratchett',2005],\n",
    "      ['The Spellman Files','Lisa Lutz',2007],\n",
    "      ['Small Gods','Terry Pratchett',1992]]\n",
    "with open('book.csv','w',newline='') as file:\n",
    "    writer = csv.writer(file)\n",
    "    writer.writerows(rows)\n",
    "    "
   ]
  },
  {
   "cell_type": "code",
   "execution_count": null,
   "id": "ddaaea8c",
   "metadata": {},
   "outputs": [],
   "source": []
  },
  {
   "cell_type": "markdown",
   "id": "1a0ab576",
   "metadata": {},
   "source": [
    "Que4. Use the sqlite3 module to create a SQLite database called books.db, and a table called books with\n",
    "      these fields: title (text), author (text), and year (integer).\n"
   ]
  },
  {
   "cell_type": "code",
   "execution_count": null,
   "id": "f376ef4e",
   "metadata": {},
   "outputs": [],
   "source": [
    "import sqlite3\n",
    "db = sqlite3.connect('books.db')\n",
    "cursor = db.cursor()\n",
    "cursor.execute(\"CREATE TABLE books (title text, author text, year int)\")\n",
    "db.commit()\n",
    "db.close()\n"
   ]
  },
  {
   "cell_type": "code",
   "execution_count": null,
   "id": "335e136a",
   "metadata": {},
   "outputs": [],
   "source": []
  },
  {
   "cell_type": "markdown",
   "id": "26f89af3",
   "metadata": {},
   "source": [
    "Que5. Read books.csv and insert its data into the book table.\n"
   ]
  },
  {
   "cell_type": "code",
   "execution_count": null,
   "id": "0258ec0a",
   "metadata": {},
   "outputs": [],
   "source": [
    "import sqlite3\n",
    "import csv \n",
    "conn = sqlite3.connect(\"books.db\")\n",
    "cursor = conn.cursor()\n",
    "with open(\"books.csv\",\"r\") as file:\n",
    "    books = csv.DictReader(file)\n",
    "    for books in books:\n",
    "        cursor.execute(\"INSERT INTO books VALUES (?,?,?)\",(book['title'],book['author'],book['year']))\n",
    "conn.commit()\n",
    "conn.close()\n"
   ]
  },
  {
   "cell_type": "code",
   "execution_count": null,
   "id": "69aa244d",
   "metadata": {},
   "outputs": [],
   "source": []
  },
  {
   "cell_type": "markdown",
   "id": "65efb7f7",
   "metadata": {},
   "source": [
    "Que6. Select and print the title column from the book table in alphabetical order.\n"
   ]
  },
  {
   "cell_type": "code",
   "execution_count": 15,
   "id": "a9dc88f2",
   "metadata": {},
   "outputs": [],
   "source": [
    "import sqlite3\n",
    "conn = sqlite3.connect('books.db')\n",
    "cursor = conn.cursor()\n",
    "output = cursor.execute(\"SELECT title FROM books ORDER BY title ASC\")\n",
    "for ele in output:\n",
    "    print(ele[0])\n",
    "conn.commit()\n",
    "conn.close()\n"
   ]
  },
  {
   "cell_type": "code",
   "execution_count": null,
   "id": "2364b138",
   "metadata": {},
   "outputs": [],
   "source": []
  },
  {
   "cell_type": "code",
   "execution_count": null,
   "id": "93f36425",
   "metadata": {},
   "outputs": [],
   "source": [
    "Que7. From the book table, select and print all columns in the order of publication.\n"
   ]
  },
  {
   "cell_type": "code",
   "execution_count": 17,
   "id": "23f240f3",
   "metadata": {},
   "outputs": [],
   "source": [
    "import sqlite3\n",
    "conn = sqlite3.connect('books.db')\n",
    "cursor = conn.cursor()\n",
    "output = cursor.execute(\"SELECT * FROM books ORDER BY year\")\n",
    "for record in output: \n",
    "    print(record)\n",
    "    "
   ]
  },
  {
   "cell_type": "code",
   "execution_count": null,
   "id": "1e0d75d4",
   "metadata": {},
   "outputs": [],
   "source": []
  },
  {
   "cell_type": "markdown",
   "id": "42a25d8c",
   "metadata": {},
   "source": [
    "Que8. Use the sqlalchemy module to connect to the sqlite3 database books.db that you just made in\n",
    "      exercise 6.\n"
   ]
  },
  {
   "cell_type": "code",
   "execution_count": 26,
   "id": "177f7d60",
   "metadata": {},
   "outputs": [
    {
     "data": {
      "text/plain": [
       "Engine(sqlite:///books.db)"
      ]
     },
     "execution_count": 26,
     "metadata": {},
     "output_type": "execute_result"
    }
   ],
   "source": [
    "import sqlalchemy\n",
    "conn = sqlalchemy.create_engine('sqlite:///books.db')\n",
    "conn\n"
   ]
  },
  {
   "cell_type": "code",
   "execution_count": null,
   "id": "160347e5",
   "metadata": {},
   "outputs": [],
   "source": []
  },
  {
   "cell_type": "markdown",
   "id": "40dea62c",
   "metadata": {},
   "source": [
    "Que9. Install the Redis server and the Python redis library (pip install redis) on your computer. Create a\n",
    "      Redis hash called test with the fields count (1) and name ('Fester Bestertester'). Print all the fields for\n",
    "      test."
   ]
  },
  {
   "cell_type": "code",
   "execution_count": 28,
   "id": "3cffd2f0",
   "metadata": {},
   "outputs": [
    {
     "name": "stdout",
     "output_type": "stream",
     "text": [
      "Requirement already satisfied: redis in c:\\users\\lenovo\\anaconda3\\lib\\site-packages (4.4.0)\n",
      "Requirement already satisfied: async-timeout>=4.0.2 in c:\\users\\lenovo\\anaconda3\\lib\\site-packages (from redis) (4.0.2)\n"
     ]
    }
   ],
   "source": [
    "!pip install redis\n"
   ]
  },
  {
   "cell_type": "code",
   "execution_count": null,
   "id": "b22593f4",
   "metadata": {},
   "outputs": [],
   "source": [
    "import redis \n",
    "conn = redis.Redis()\n",
    "conn.delete('test')\n",
    "conn.hmset('test', {'count': 1, 'name': 'Fester Bestertester'})\n",
    "conn.hgetall('test')\n"
   ]
  },
  {
   "cell_type": "code",
   "execution_count": null,
   "id": "25b26ec0",
   "metadata": {},
   "outputs": [],
   "source": []
  },
  {
   "cell_type": "markdown",
   "id": "7c1888c7",
   "metadata": {},
   "source": [
    "Que10. Increment the count field of test and print it.\n"
   ]
  },
  {
   "cell_type": "code",
   "execution_count": null,
   "id": "15f6f698",
   "metadata": {},
   "outputs": [],
   "source": [
    "conn.hincrby('test','count',3)\n"
   ]
  },
  {
   "cell_type": "code",
   "execution_count": null,
   "id": "d89b78c7",
   "metadata": {},
   "outputs": [],
   "source": []
  },
  {
   "cell_type": "code",
   "execution_count": null,
   "id": "137acdac",
   "metadata": {},
   "outputs": [],
   "source": []
  }
 ],
 "metadata": {
  "kernelspec": {
   "display_name": "Python 3 (ipykernel)",
   "language": "python",
   "name": "python3"
  },
  "language_info": {
   "codemirror_mode": {
    "name": "ipython",
    "version": 3
   },
   "file_extension": ".py",
   "mimetype": "text/x-python",
   "name": "python",
   "nbconvert_exporter": "python",
   "pygments_lexer": "ipython3",
   "version": "3.9.13"
  }
 },
 "nbformat": 4,
 "nbformat_minor": 5
}
