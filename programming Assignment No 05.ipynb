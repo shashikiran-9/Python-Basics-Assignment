{
 "cells": [
  {
   "cell_type": "code",
   "execution_count": null,
   "id": "b2a8ff05",
   "metadata": {},
   "outputs": [],
   "source": [
    "                              Programming Assignment No 05"
   ]
  },
  {
   "cell_type": "code",
   "execution_count": null,
   "id": "2a20837c",
   "metadata": {},
   "outputs": [],
   "source": []
  },
  {
   "cell_type": "code",
   "execution_count": 1,
   "id": "6d1274a3",
   "metadata": {},
   "outputs": [
    {
     "name": "stdout",
     "output_type": "stream",
     "text": [
      "Enter first Number: 5\n",
      "Enter Second Number: 6\n",
      "LCM of 5 & 6 is 30\n"
     ]
    }
   ],
   "source": [
    "# Que 1. Write a Python Program to Find LCM?\n",
    "\n",
    "num_1 = int(input(\"Enter first Number: \"))\n",
    "num_2 = int(input(\"Enter Second Number: \"))\n",
    "\n",
    "if num_1 > num_2:\n",
    "    greater = num_1\n",
    "else:\n",
    "    greater = num_2\n",
    "    \n",
    "while(True):\n",
    "    if greater % num_1 ==0 and greater % num_2 ==0:\n",
    "        LCM = greater\n",
    "        break\n",
    "    greater = greater + 1\n",
    "    \n",
    "print(\"LCM of {} & {} is {}\".format(num_1,num_2,LCM))\n"
   ]
  },
  {
   "cell_type": "code",
   "execution_count": 8,
   "id": "1a94bdad",
   "metadata": {},
   "outputs": [],
   "source": [
    "def lcm(num_1,num_2):\n",
    "    if num_1 > num_2:\n",
    "        greater = num_1\n",
    "    else:\n",
    "        greater = num_2\n",
    "    while(True):\n",
    "        if greater % num_1 ==0 and greater % num_2 ==0:\n",
    "            lcm = greater \n",
    "            break\n",
    "        greater = greater + 1\n",
    "    print(\"LCM of {} & {} is {}\".format(num_1,num_2,LCM))\n",
    "    "
   ]
  },
  {
   "cell_type": "code",
   "execution_count": 9,
   "id": "a03d8288",
   "metadata": {},
   "outputs": [
    {
     "name": "stdout",
     "output_type": "stream",
     "text": [
      "LCM of 5 & 6 is 30\n"
     ]
    }
   ],
   "source": [
    "lcm(5,6)\n"
   ]
  },
  {
   "cell_type": "code",
   "execution_count": null,
   "id": "829324cd",
   "metadata": {},
   "outputs": [],
   "source": []
  },
  {
   "cell_type": "code",
   "execution_count": 13,
   "id": "42ddfd25",
   "metadata": {},
   "outputs": [
    {
     "name": "stdout",
     "output_type": "stream",
     "text": [
      "Enter First Number: 18\n",
      "Enter Second Number: 12\n",
      "The hcf of 18 & 12 is 6\n"
     ]
    }
   ],
   "source": [
    "# Que 2. Write a Python Program to Find HCF?\n",
    "\n",
    "num_1 = int(input(\"Enter First Number: \"))\n",
    "num_2 = int(input(\"Enter Second Number: \"))\n",
    "\n",
    "if num_1 < num_2:\n",
    "    small = num_2\n",
    "else:\n",
    "    small = num_2\n",
    "for i in range (1,small+1):\n",
    "    if num_1 % i == 0 and num_2 % i == 0 :\n",
    "        hcf = i\n",
    "        \n",
    "print(\"The hcf of {} & {} is {}\".format(num_1,num_2,hcf))\n"
   ]
  },
  {
   "cell_type": "code",
   "execution_count": 21,
   "id": "b60288c0",
   "metadata": {},
   "outputs": [],
   "source": [
    "def hcf (num_1,num_2):\n",
    "    if num_1 < num_2:\n",
    "        small = num_1\n",
    "    else:\n",
    "        small = num_2\n",
    "    for i in range (1,small + 1):\n",
    "        if num_1 % i == 0 and num_2 % i == 0 :\n",
    "            hcf = i\n",
    "            \n",
    "    print(\"The hcf of {} & {} is {}\".format(num_1,num_2,hcf)) \n",
    "    "
   ]
  },
  {
   "cell_type": "code",
   "execution_count": 22,
   "id": "9d2f6b1f",
   "metadata": {},
   "outputs": [
    {
     "name": "stdout",
     "output_type": "stream",
     "text": [
      "The hcf of 18 & 12 is 6\n"
     ]
    }
   ],
   "source": [
    "hcf(18,12)\n"
   ]
  },
  {
   "cell_type": "code",
   "execution_count": null,
   "id": "f9686a5e",
   "metadata": {},
   "outputs": [],
   "source": []
  },
  {
   "cell_type": "code",
   "execution_count": 1,
   "id": "66b750e7",
   "metadata": {},
   "outputs": [
    {
     "name": "stdout",
     "output_type": "stream",
     "text": [
      "Enter Decimal Number: 55\n",
      "55 in binary:  0b110111\n",
      "55 in Octal:  0o67\n",
      "55 in Hexadecimal:  0x37\n"
     ]
    }
   ],
   "source": [
    " # Que 3. Write a Python Program to Convert Decimal to Binary, Octal and Hexadecimal?\n",
    "    \n",
    " num_1=int(input(\"Enter Decimal Number: \"))\n",
    "\n",
    " print(num_1, \"in binary: \", bin(num_1))\n",
    " print(num_1, \"in Octal: \", oct(num_1))\n",
    " print(num_1, \"in Hexadecimal: \", hex(num_1))\n"
   ]
  },
  {
   "cell_type": "code",
   "execution_count": null,
   "id": "f7f8b7aa",
   "metadata": {},
   "outputs": [],
   "source": []
  },
  {
   "cell_type": "code",
   "execution_count": 2,
   "id": "a63ca242",
   "metadata": {},
   "outputs": [
    {
     "name": "stdout",
     "output_type": "stream",
     "text": [
      "Enter a Character: u\n",
      "Ascii value of u is 117\n"
     ]
    }
   ],
   "source": [
    "# Que 4. Write a Python Program To Find ASCII value of a character?\n",
    "\n",
    "str = input(\"Enter a Character: \")\n",
    "\n",
    "print(\"Ascii value of {} is {}\". format(str,ord(str))) # ord give the ASCII value of a character\n"
   ]
  },
  {
   "cell_type": "code",
   "execution_count": 3,
   "id": "8bcbcf53",
   "metadata": {},
   "outputs": [
    {
     "data": {
      "text/plain": [
       "117"
      ]
     },
     "execution_count": 3,
     "metadata": {},
     "output_type": "execute_result"
    }
   ],
   "source": [
    "def ascii_value(str):\n",
    "    return ord(str) # ord give the ASCII value of a character\n",
    "\n",
    "ascii_value(\"u\")\n"
   ]
  },
  {
   "cell_type": "code",
   "execution_count": null,
   "id": "3021f878",
   "metadata": {},
   "outputs": [],
   "source": []
  },
  {
   "cell_type": "code",
   "execution_count": 5,
   "id": "ffc39966",
   "metadata": {},
   "outputs": [],
   "source": [
    "# Que 5. Write a Python Program to Make a Simple Calculator with 4 basic mathematical operations?\n",
    "\n",
    "def calculator(num_1,num_2):\n",
    "    operation = str(input(\"What operation would you like to prefrom: \"))\n",
    "    \n",
    "    if operation == \"add\":\n",
    "        print(\"{} + {} = {}.\".format(num_1,num_2,num_1+num_2))\n",
    "        \n",
    "    elif operation == \"sub\":\n",
    "        print(\"{} + {} = {}.\".format(num_1,num_2,num_1-num_2))\n",
    "        \n",
    "    elif operation == \"mul\":\n",
    "        print(\"{} + {} = {}.\".format(num_1,num_2,num_1*num_2))\n",
    "        \n",
    "    elif operation == \"div\":\n",
    "        print(\"{} + {} = {}.\".format(num_1,num_2,num_1/num_2))\n",
    "            \n",
    "    else:\n",
    "        print(\"Enter correct operation\")\n",
    "              "
   ]
  },
  {
   "cell_type": "code",
   "execution_count": 2,
   "id": "0950934d",
   "metadata": {},
   "outputs": [
    {
     "name": "stdout",
     "output_type": "stream",
     "text": [
      "What operation would you like to prefrom: add\n",
      "10 + 25 = 35.\n"
     ]
    }
   ],
   "source": [
    "calculator(10,25)\n"
   ]
  },
  {
   "cell_type": "code",
   "execution_count": 6,
   "id": "794c623c",
   "metadata": {},
   "outputs": [
    {
     "name": "stdout",
     "output_type": "stream",
     "text": [
      "What operation would you like to prefrom: sub\n",
      "10 + 25 = -15.\n"
     ]
    }
   ],
   "source": [
    "calculator(10,25)\n"
   ]
  },
  {
   "cell_type": "code",
   "execution_count": 7,
   "id": "5093cb1a",
   "metadata": {},
   "outputs": [
    {
     "name": "stdout",
     "output_type": "stream",
     "text": [
      "What operation would you like to prefrom: mul\n",
      "10 + 25 = 250.\n"
     ]
    }
   ],
   "source": [
    "calculator(10,25)\n"
   ]
  },
  {
   "cell_type": "code",
   "execution_count": 8,
   "id": "01d6f650",
   "metadata": {
    "scrolled": true
   },
   "outputs": [
    {
     "name": "stdout",
     "output_type": "stream",
     "text": [
      "What operation would you like to prefrom: div\n",
      "10 + 25 = 0.4.\n"
     ]
    }
   ],
   "source": [
    "calculator(10,25)\n"
   ]
  },
  {
   "cell_type": "code",
   "execution_count": 1,
   "id": "7a936eb0",
   "metadata": {},
   "outputs": [
    {
     "name": "stdout",
     "output_type": "stream",
     "text": [
      "Enter First Number: 40\n",
      "Enter Second Number: 50\n",
      "What operation would you like to prefrom: add\n",
      "40 + 50 = 90.\n"
     ]
    }
   ],
   "source": [
    "    num_1 = int(input(\"Enter First Number: \"))\n",
    "    num_2 = int(input(\"Enter Second Number: \"))\n",
    "    \n",
    "    operation = str(input(\"What operation would you like to prefrom: \"))\n",
    "    \n",
    "    if operation == \"add\":\n",
    "        print(\"{} + {} = {}.\".format(num_1,num_2,num_1+num_2))\n",
    "        \n",
    "    elif operation == \"sub\":\n",
    "        print(\"{} + {} = {}.\".format(num_1,num_2,num_1-num_2))\n",
    "        \n",
    "    elif operation == \"mul\":\n",
    "        print(\"{} + {} = {}.\".format(num_1,num_2,num_1*num_2))\n",
    "        \n",
    "    elif operation == \"div\":\n",
    "        print(\"{} + {} = {}.\".format(num_1,num_2,num_1/num_2))\n",
    "            \n",
    "    else:\n",
    "        print(\"Enter correct operation\")\n",
    "              "
   ]
  },
  {
   "cell_type": "code",
   "execution_count": null,
   "id": "7557ed38",
   "metadata": {},
   "outputs": [],
   "source": []
  },
  {
   "cell_type": "code",
   "execution_count": null,
   "id": "d912a1b5",
   "metadata": {},
   "outputs": [],
   "source": []
  }
 ],
 "metadata": {
  "kernelspec": {
   "display_name": "Python 3 (ipykernel)",
   "language": "python",
   "name": "python3"
  },
  "language_info": {
   "codemirror_mode": {
    "name": "ipython",
    "version": 3
   },
   "file_extension": ".py",
   "mimetype": "text/x-python",
   "name": "python",
   "nbconvert_exporter": "python",
   "pygments_lexer": "ipython3",
   "version": "3.9.12"
  }
 },
 "nbformat": 4,
 "nbformat_minor": 5
}
