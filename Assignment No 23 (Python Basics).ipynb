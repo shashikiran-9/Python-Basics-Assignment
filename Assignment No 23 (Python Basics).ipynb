{
 "cells": [
  {
   "cell_type": "markdown",
   "id": "ac5c0f34",
   "metadata": {},
   "source": [
    "                                Assigment No 23 (Python Basics)"
   ]
  },
  {
   "cell_type": "code",
   "execution_count": null,
   "id": "745c9b17",
   "metadata": {},
   "outputs": [],
   "source": []
  },
  {
   "cell_type": "markdown",
   "id": "94fa5856",
   "metadata": {},
   "source": [
    "Que1. What is the result of the code, and why?\n",
    "      >>> def func(a, b=6, c=8):\n",
    "      print(a, b, c)\n",
    "      >>>func(1, 2)\n"
   ]
  },
  {
   "cell_type": "code",
   "execution_count": 2,
   "id": "4719c1e2",
   "metadata": {},
   "outputs": [
    {
     "name": "stdout",
     "output_type": "stream",
     "text": [
      "1 2 8\n"
     ]
    },
    {
     "data": {
      "text/plain": [
       "'This funtion is taking a postional argument and 2 keyword argument. When function call m=is made, parameter passed are a=1, b=2. When the function is executed, parameter c=8 will be taken by default as its a key word argument.\\n  solution is = 1,2,8'"
      ]
     },
     "execution_count": 2,
     "metadata": {},
     "output_type": "execute_result"
    }
   ],
   "source": [
    "def func(a, b=6, c=8):\n",
    "    print(a, b, c)\n",
    "func(1, 2) \n",
    "'''This funtion is taking a postional argument and 2 keyword argument. When function call m=is made, parameter passed are a=1, b=2. When the function is executed, parameter c=8 will be taken by default as its a key word argument.\\n  solution is = 1,2,8'''"
   ]
  },
  {
   "cell_type": "code",
   "execution_count": null,
   "id": "c7f1dd1f",
   "metadata": {},
   "outputs": [],
   "source": []
  },
  {
   "cell_type": "markdown",
   "id": "2d50cf82",
   "metadata": {},
   "source": [
    "Que2. What is the result of this code, and why?\n",
    "      >>> def func(a, b, c=5):\n",
    "      print(a, b, c)\n",
    "      >>> func(1, c=3, b=2)"
   ]
  },
  {
   "cell_type": "code",
   "execution_count": 3,
   "id": "3f96d028",
   "metadata": {},
   "outputs": [
    {
     "name": "stdout",
     "output_type": "stream",
     "text": [
      "1 2 3\n"
     ]
    },
    {
     "data": {
      "text/plain": [
       "' The result of the above code is 1 2 3. It because the function wil use default values only when a value for argument is not provided and if the argument name is mentioned while doing a function call, the order of arguments is also ignored by the python interpreter'"
      ]
     },
     "execution_count": 3,
     "metadata": {},
     "output_type": "execute_result"
    }
   ],
   "source": [
    "def func(a, b, c=5):\n",
    "    print(a, b, c)\n",
    "func(1, c=3, b=2)\n",
    "\n",
    "''' The result of the above code is 1 2 3. It because the function wil use default values only when a value for argument is not provided and if the argument name is mentioned while doing a function call, the order of arguments is also ignored by the python interpreter'''"
   ]
  },
  {
   "cell_type": "code",
   "execution_count": null,
   "id": "8244b1d1",
   "metadata": {},
   "outputs": [],
   "source": []
  },
  {
   "cell_type": "markdown",
   "id": "3ecb7c63",
   "metadata": {},
   "source": [
    "Que3. How about this code: what is its result, and why?\n",
    "      >>> def func(a, *pargs):\n",
    "      print(a, pargs)\n",
    "      >>> func(1, 2, 3)\n"
   ]
  },
  {
   "cell_type": "code",
   "execution_count": 7,
   "id": "3b52d2b7",
   "metadata": {},
   "outputs": [
    {
     "name": "stdout",
     "output_type": "stream",
     "text": [
      "1 (2, 3)\n"
     ]
    },
    {
     "data": {
      "text/plain": [
       "' The result of the code is 1 (2,3). *pargs stands for variable length arguments. This format is used when we are not sure about the number of arguments to be passed to a function. All the values under this argument will be stored in a tuple.'"
      ]
     },
     "execution_count": 7,
     "metadata": {},
     "output_type": "execute_result"
    }
   ],
   "source": [
    "def func(a, *pargs):\n",
    "    print(a,pargs)\n",
    "func(1,2,3)\n",
    "\n",
    "''' The result of the code is 1 (2,3). *pargs stands for variable length arguments. This format is used when we are not sure about the number of arguments to be passed to a function. All the values under this argument will be stored in a tuple.'''"
   ]
  },
  {
   "cell_type": "code",
   "execution_count": null,
   "id": "ea8d3747",
   "metadata": {},
   "outputs": [],
   "source": []
  },
  {
   "cell_type": "markdown",
   "id": "6ac40aa4",
   "metadata": {},
   "source": [
    "Que4. What does this code print, and why?\n",
    "      >>> def func(a, **kargs):\n",
    "      print(a, kargs)\n",
    "      >>> func(a=1, c=3, b=2)\n"
   ]
  },
  {
   "cell_type": "code",
   "execution_count": 9,
   "id": "5dc8e402",
   "metadata": {},
   "outputs": [
    {
     "name": "stdout",
     "output_type": "stream",
     "text": [
      "1 {'c': 3, 'b': 2}\n"
     ]
    },
    {
     "data": {
      "text/plain": [
       "\" The result of the above code is 1 {'c': 3, 'b': 2}. **kargs stands for variable length keyword arguments. This format is used when we want pass key value pairs as input to a function.All these key value pairs will be stored in a dictionary.\""
      ]
     },
     "execution_count": 9,
     "metadata": {},
     "output_type": "execute_result"
    }
   ],
   "source": [
    "def func(a,**kargs):\n",
    "    print(a,kargs)\n",
    "func(a=1, c=3, b=2)\n",
    "\n",
    "''' The result of the above code is 1 {'c': 3, 'b': 2}. **kargs stands for variable length keyword arguments. This format is used when we want pass key value pairs as input to a function.All these key value pairs will be stored in a dictionary.'''"
   ]
  },
  {
   "cell_type": "code",
   "execution_count": null,
   "id": "78916b22",
   "metadata": {},
   "outputs": [],
   "source": []
  },
  {
   "cell_type": "markdown",
   "id": "21b30af5",
   "metadata": {},
   "source": [
    "Que5. What gets printed by this, and explain?\n",
    "      >>> def func(a, b, c=8, d=5): print(a, b, c, d)\n",
    "      >>> func(1, *(5, 6))\n"
   ]
  },
  {
   "cell_type": "code",
   "execution_count": 10,
   "id": "296a036c",
   "metadata": {},
   "outputs": [
    {
     "name": "stdout",
     "output_type": "stream",
     "text": [
      "1 5 6 5\n"
     ]
    },
    {
     "data": {
      "text/plain": [
       "' The output of the above is 1 5 6 5. The reason for this funvtion not thowing an error is because, this function expects 4 arguments. The value for a is provided explicitly whereas for arguments b and c, the function will expand *(5,6) and consider the value of b as 5 and value of c as 6. Since the default value of d is provided in function declaration , d value will be 5. However it is recommended to use the feature of positional arguments at the end.'"
      ]
     },
     "execution_count": 10,
     "metadata": {},
     "output_type": "execute_result"
    }
   ],
   "source": [
    "def func(a,b,c=8,d=5):\n",
    "    print(a,b,c,d)\n",
    "func(1,*(5,6))\n",
    "\n",
    "''' The output of the above is 1 5 6 5. The reason for this funvtion not thowing an error is because, this function expects 4 arguments. The value for a is provided explicitly whereas for arguments b and c, the function will expand *(5,6) and consider the value of b as 5 and value of c as 6. Since the default value of d is provided in function declaration , d value will be 5. However it is recommended to use the feature of positional arguments at the end.'''"
   ]
  },
  {
   "cell_type": "code",
   "execution_count": null,
   "id": "f01aa75b",
   "metadata": {},
   "outputs": [],
   "source": []
  },
  {
   "cell_type": "markdown",
   "id": "7caa5c7d",
   "metadata": {},
   "source": [
    "Que6. what is the result of this, and explain?\n",
    "      >>> def func(a, b, c): a = 2; b[0] = 'x'; c['a'] = 'y'\n",
    "      >>> l=1; m=[1]; n={'a':0}\n",
    "      >>> func(l, m, n)\n",
    "\n",
    "      >>> l, m, n\n"
   ]
  },
  {
   "cell_type": "code",
   "execution_count": 11,
   "id": "797e1a75",
   "metadata": {},
   "outputs": [
    {
     "data": {
      "text/plain": [
       "(1, ['x'], {'a': 'y'})"
      ]
     },
     "execution_count": 11,
     "metadata": {},
     "output_type": "execute_result"
    }
   ],
   "source": [
    "def func(a, b, c):\n",
    "    a = 2; b[0] = 'x'; c['a'] = 'y'\n",
    "    \n",
    "l=1; m=[1]; n={'a':0}\n",
    "func(l, m, n)\n",
    "\n",
    "l, m, n"
   ]
  },
  {
   "cell_type": "code",
   "execution_count": 12,
   "id": "c9d0e8e3",
   "metadata": {},
   "outputs": [
    {
     "data": {
      "text/plain": [
       "\" Here in the code, the list and dict are passed as argument, and those are mutable. Here the list l and parameter b point to the same list in the memory location where as dict n and c point to the same memory location. Any updates to this list will update in the memory locationl = 1 , integers values, immutable, m is list, mutable, n is dict, mutable. output will be = 1,['x'],{'a':'y'}.\""
      ]
     },
     "execution_count": 12,
     "metadata": {},
     "output_type": "execute_result"
    }
   ],
   "source": [
    "''' Here in the code, the list and dict are passed as argument, and those are mutable. Here the list l and parameter b point to the same list in the memory location where as dict n and c point to the same memory location. Any updates to this list will update in the memory locationl = 1 , integers values, immutable, m is list, mutable, n is dict, mutable. output will be = 1,['x'],{'a':'y'}.'''"
   ]
  },
  {
   "cell_type": "code",
   "execution_count": null,
   "id": "b3f77ec3",
   "metadata": {},
   "outputs": [],
   "source": []
  },
  {
   "cell_type": "code",
   "execution_count": null,
   "id": "ab2ac604",
   "metadata": {},
   "outputs": [],
   "source": []
  }
 ],
 "metadata": {
  "kernelspec": {
   "display_name": "Python 3 (ipykernel)",
   "language": "python",
   "name": "python3"
  },
  "language_info": {
   "codemirror_mode": {
    "name": "ipython",
    "version": 3
   },
   "file_extension": ".py",
   "mimetype": "text/x-python",
   "name": "python",
   "nbconvert_exporter": "python",
   "pygments_lexer": "ipython3",
   "version": "3.9.13"
  }
 },
 "nbformat": 4,
 "nbformat_minor": 5
}
