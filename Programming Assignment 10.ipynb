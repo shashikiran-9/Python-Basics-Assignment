{
 "cells": [
  {
   "cell_type": "markdown",
   "id": "b005b611",
   "metadata": {},
   "source": [
    "                             Programming Assignment No 10"
   ]
  },
  {
   "cell_type": "code",
   "execution_count": null,
   "id": "166117c4",
   "metadata": {},
   "outputs": [],
   "source": []
  },
  {
   "cell_type": "markdown",
   "id": "33498be0",
   "metadata": {},
   "source": [
    "Que No. 1. Write a Python program to find sum of elements in list?\n"
   ]
  },
  {
   "cell_type": "code",
   "execution_count": 1,
   "id": "10384ccd",
   "metadata": {},
   "outputs": [
    {
     "name": "stdout",
     "output_type": "stream",
     "text": [
      "Sum all number in the list is 55\n"
     ]
    }
   ],
   "source": [
    "l = [1,2,3,4,5,6,7,8,9,10]\n",
    "sum=0 \n",
    "\n",
    "for i in l:\n",
    "    sum = sum + i\n",
    "print(\"Sum all number in the list is\",sum)\n"
   ]
  },
  {
   "cell_type": "code",
   "execution_count": 2,
   "id": "a659f445",
   "metadata": {},
   "outputs": [
    {
     "name": "stdout",
     "output_type": "stream",
     "text": [
      "Sum all number in the list is 55\n"
     ]
    }
   ],
   "source": [
    "sum = 0\n",
    "\n",
    "for i in range(1,11):\n",
    "    sum = sum + i\n",
    "print(\"Sum all number in the list is\",sum)\n"
   ]
  },
  {
   "cell_type": "code",
   "execution_count": 1,
   "id": "1794f661",
   "metadata": {},
   "outputs": [
    {
     "name": "stdout",
     "output_type": "stream",
     "text": [
      "enter a number of list:6\n",
      "enter a number of list: 1\n",
      "enter a number of list: 2\n",
      "enter a number of list: 3\n",
      "enter a number of list: 4\n",
      "enter a number of list: 5\n",
      "enter a number of list: 6\n",
      "Sum of element in List 21\n"
     ]
    }
   ],
   "source": [
    "num = int(input(\"enter a number of list:\"))\n",
    "\n",
    "l = []\n",
    "\n",
    "for i in range(num):\n",
    "    l.append(int(input(\"enter a number of list: \")))\n",
    "print(\"Sum of element in List\",sum(l))\n"
   ]
  },
  {
   "cell_type": "code",
   "execution_count": 3,
   "id": "7178ae69",
   "metadata": {},
   "outputs": [
    {
     "name": "stdout",
     "output_type": "stream",
     "text": [
      "enter the lenth of your list :6\n",
      "1\n",
      "2\n",
      "3\n",
      "4\n",
      "5\n",
      "6\n",
      "The List is  [1, 2, 3, 4, 5, 6]\n",
      "Sum of element in List 21\n"
     ]
    }
   ],
   "source": [
    "num = int(input(\"enter the lenth of your list :\"))\n",
    "stored_list = []\n",
    "\n",
    "for i in range(num):\n",
    "    stored_list.append(int(input()))\n",
    "print(\"The List is \",stored_list)\n",
    "print(\"Sum of element in List\",sum(stored_list))\n"
   ]
  },
  {
   "cell_type": "code",
   "execution_count": 4,
   "id": "a7fc3e1e",
   "metadata": {},
   "outputs": [
    {
     "name": "stdout",
     "output_type": "stream",
     "text": [
      "Enter the lenth of your list : 6\n",
      "1\n",
      "2\n",
      "3\n",
      "4\n",
      "5\n",
      "6\n",
      "The List is [1, 2, 3, 4, 5, 6]\n",
      "Sum of element in list 21\n"
     ]
    }
   ],
   "source": [
    "num = int(input(\"Enter the lenth of your list : \"))\n",
    "stored_list = []\n",
    "\n",
    "for i in range(num):\n",
    "    stored_list.append(int(input()))\n",
    "print(\"The List is\",stored_list)\n",
    "print(\"Sum of element in list\",sum(stored_list))\n"
   ]
  },
  {
   "cell_type": "code",
   "execution_count": 5,
   "id": "38b838fb",
   "metadata": {},
   "outputs": [
    {
     "name": "stdout",
     "output_type": "stream",
     "text": [
      "Enter the lenth of your list : 6\n",
      "1\n",
      "2\n",
      "3\n",
      "4\n",
      "5\n",
      "6\n",
      "The List is [1, 2, 3, 4, 5, 6]\n",
      "Sum of elements in List <built-in function sum> [1, 2, 3, 4, 5, 6]\n"
     ]
    }
   ],
   "source": [
    "n = int(input(\"Enter the lenth of your list : \"))\n",
    "lst = []\n",
    "\n",
    "for i in range(n):\n",
    "    lst.append(int(input()))\n",
    "print(\"The List is\",lst)\n",
    "print(\"Sum of elements in List\",sum,(lst))\n"
   ]
  },
  {
   "cell_type": "code",
   "execution_count": 7,
   "id": "81714803",
   "metadata": {},
   "outputs": [],
   "source": [
    "l = [1,2,3,4,5,6,7,8,9,10,\"Rajeshree\",True,False,4+5j]\n",
    "\n",
    "def sum_list(l):\n",
    "    sum = 0\n",
    "    for i in l:\n",
    "        if type(i) == int or type(i) == float:\n",
    "            sum = sum + i\n",
    "    return \"Sum of all the numbers in given list is {}\".format(sum)\n"
   ]
  },
  {
   "cell_type": "code",
   "execution_count": 8,
   "id": "90e8a4cc",
   "metadata": {},
   "outputs": [
    {
     "data": {
      "text/plain": [
       "'Sum of all the numbers in given list is 55'"
      ]
     },
     "execution_count": 8,
     "metadata": {},
     "output_type": "execute_result"
    }
   ],
   "source": [
    "sum_list(l)"
   ]
  },
  {
   "cell_type": "code",
   "execution_count": 10,
   "id": "9e8b2250",
   "metadata": {},
   "outputs": [],
   "source": [
    "def sum_list1():\n",
    "    num = int(input(\"Enter a number in a list: \"))\n",
    "    l1=[]\n",
    "    \n",
    "    for i in range (0,num):\n",
    "        l1.append(int(input(\"Enter the number: \")))\n",
    "    print(\"The List is \",l1)\n",
    "    return \"Sum of all the numbers in given List is {} \",format(sum(l1))\n"
   ]
  },
  {
   "cell_type": "code",
   "execution_count": 11,
   "id": "ad2695af",
   "metadata": {},
   "outputs": [
    {
     "name": "stdout",
     "output_type": "stream",
     "text": [
      "Enter a number in a list: 6\n",
      "Enter the number: 1\n",
      "Enter the number: 2\n",
      "Enter the number: 3\n",
      "Enter the number: 4\n",
      "Enter the number: 5\n",
      "Enter the number: 6\n",
      "The List is  [1, 2, 3, 4, 5, 6]\n"
     ]
    },
    {
     "data": {
      "text/plain": [
       "('Sum of all the numbers in given List is {} ', '21')"
      ]
     },
     "execution_count": 11,
     "metadata": {},
     "output_type": "execute_result"
    }
   ],
   "source": [
    "sum_list1()"
   ]
  },
  {
   "cell_type": "code",
   "execution_count": null,
   "id": "5c75de5d",
   "metadata": {},
   "outputs": [],
   "source": []
  },
  {
   "cell_type": "markdown",
   "id": "afd77d4a",
   "metadata": {},
   "source": [
    "Que No. 2. Write a Python program to Multiply all numbers in the list?\n"
   ]
  },
  {
   "cell_type": "code",
   "execution_count": 12,
   "id": "a30442d0",
   "metadata": {},
   "outputs": [
    {
     "name": "stdout",
     "output_type": "stream",
     "text": [
      "Multiply all number in the list is 120\n"
     ]
    }
   ],
   "source": [
    "l = [1,2,3,4,5]\n",
    "mul=1\n",
    "\n",
    "for i in l:\n",
    "    mul = mul*i\n",
    "print(\"Multiply all number in the list is\",mul)\n"
   ]
  },
  {
   "cell_type": "code",
   "execution_count": 13,
   "id": "1649d2da",
   "metadata": {},
   "outputs": [
    {
     "name": "stdout",
     "output_type": "stream",
     "text": [
      "Enter a number: 5\n",
      "1\n",
      "2\n",
      "3\n",
      "4\n",
      "5\n",
      "List is [1, 2, 3, 4, 5]\n",
      "Multiply all number in the list is 120\n"
     ]
    }
   ],
   "source": [
    "num = int(input(\"Enter a number: \"))\n",
    "\n",
    "l = []\n",
    "\n",
    "for i in range(num):\n",
    "    l.append(int(input()))\n",
    "print(\"List is\",l)\n",
    "\n",
    "mul = 1\n",
    "\n",
    "for i in l:\n",
    "    mul = mul*i\n",
    "print(\"Multiply all number in the list is\",mul)\n"
   ]
  },
  {
   "cell_type": "code",
   "execution_count": 14,
   "id": "6d825422",
   "metadata": {},
   "outputs": [],
   "source": [
    "l = [1,2,3,4,5,\"Rajeshree\",True,False,4+5j]\n",
    "def mul_list(l):\n",
    "    mul = 1 \n",
    "    for i in l:\n",
    "        if type(i) == int or type(i) == float:\n",
    "            mul = mul * i\n",
    "    return \"Multiply of all the numbers in given List is {}\".format(mul)\n"
   ]
  },
  {
   "cell_type": "code",
   "execution_count": 15,
   "id": "b55b0f4a",
   "metadata": {},
   "outputs": [
    {
     "data": {
      "text/plain": [
       "'Multiply of all the numbers in given List is 120'"
      ]
     },
     "execution_count": 15,
     "metadata": {},
     "output_type": "execute_result"
    }
   ],
   "source": [
    "mul_list(l)"
   ]
  },
  {
   "cell_type": "code",
   "execution_count": 16,
   "id": "6f2f1ac6",
   "metadata": {},
   "outputs": [
    {
     "name": "stdout",
     "output_type": "stream",
     "text": [
      "Enter a Number in a list: 5\n",
      "Enter the number: 1\n",
      "Enter the number: 2\n",
      "Enter the number: 3\n",
      "Enter the number: 4\n",
      "Enter the number: 5\n",
      "The List is  [1, 2, 3, 4, 5]\n"
     ]
    },
    {
     "data": {
      "text/plain": [
       "'Multiply of all the numbers in given List is 120'"
      ]
     },
     "execution_count": 16,
     "metadata": {},
     "output_type": "execute_result"
    }
   ],
   "source": [
    "def mul_list1():\n",
    "    num = int(input(\"Enter a Number in a list: \"))\n",
    "    l1=[]\n",
    "    \n",
    "    for i in range(0,num):\n",
    "        l1.append(int(input(\"Enter the number: \")))\n",
    "    print(\"The List is \",l1)\n",
    "    \n",
    "    mul = 1\n",
    "    for i in l1:\n",
    "        mul = mul*i\n",
    "        \n",
    "    return \"Multiply of all the numbers in given List is {}\".format(mul)\n",
    "\n",
    "mul_list1()\n"
   ]
  },
  {
   "cell_type": "code",
   "execution_count": null,
   "id": "41a5d913",
   "metadata": {},
   "outputs": [],
   "source": []
  },
  {
   "cell_type": "markdown",
   "id": "77cba724",
   "metadata": {},
   "source": [
    "Que No. 3. Write a Python program to find smallest number in a list?\n"
   ]
  },
  {
   "cell_type": "code",
   "execution_count": 17,
   "id": "9ffee7f1",
   "metadata": {},
   "outputs": [
    {
     "data": {
      "text/plain": [
       "1"
      ]
     },
     "execution_count": 17,
     "metadata": {},
     "output_type": "execute_result"
    }
   ],
   "source": [
    "l = [1,2,3,4,5,6]\n",
    "\n",
    "min(l)"
   ]
  },
  {
   "cell_type": "code",
   "execution_count": 18,
   "id": "2db0ed3f",
   "metadata": {},
   "outputs": [
    {
     "name": "stdout",
     "output_type": "stream",
     "text": [
      "14\n"
     ]
    }
   ],
   "source": [
    "l = [45,78,97,14,56]\n",
    "l.sort()\n",
    "print(l[0])\n"
   ]
  },
  {
   "cell_type": "code",
   "execution_count": 19,
   "id": "c571dd64",
   "metadata": {},
   "outputs": [
    {
     "name": "stdout",
     "output_type": "stream",
     "text": [
      "7\n"
     ]
    }
   ],
   "source": [
    "l = [18,44,7,8,45,60,23,16]\n",
    "min = l[0]\n",
    "for i in l:\n",
    "    if i < min:\n",
    "        min = i\n",
    "        \n",
    "print(min)\n"
   ]
  },
  {
   "cell_type": "code",
   "execution_count": 8,
   "id": "4a2e2071",
   "metadata": {},
   "outputs": [
    {
     "name": "stdout",
     "output_type": "stream",
     "text": [
      "Enter a number in a list: 5\n",
      "Enter a Number: 5\n",
      "Enter a Number: 10\n",
      "Enter a Number: 4\n",
      "Enter a Number: 15\n",
      "Enter a Number: 3\n",
      "List is [5, 10, 4, 15, 3]\n",
      "Minimum number in the list is  3\n"
     ]
    }
   ],
   "source": [
    "num = int(input(\"Enter a number in a list: \"))\n",
    "\n",
    "l = []\n",
    "\n",
    "for i in range(num):\n",
    "    l.append(int(input(\"Enter a Number: \")))\n",
    "print(\"List is\", l)\n",
    "print(\"Minimum number in the list is \",min(l))"
   ]
  },
  {
   "cell_type": "code",
   "execution_count": 27,
   "id": "e6c3d041",
   "metadata": {},
   "outputs": [
    {
     "data": {
      "text/plain": [
       "'Smallest Number in given list is 7'"
      ]
     },
     "execution_count": 27,
     "metadata": {},
     "output_type": "execute_result"
    }
   ],
   "source": [
    "l1 = [18,44,7,8,45,60,23,16]\n",
    "\n",
    "def min_num(l1):\n",
    "    \n",
    "    min = l1[0]\n",
    "    for i in l1:\n",
    "        if i < min:\n",
    "            min = i \n",
    "    return \"Smallest Number in given list is {}\".format(min)\n",
    "\n",
    "min_num(l1)\n"
   ]
  },
  {
   "cell_type": "code",
   "execution_count": null,
   "id": "42e4d2cc",
   "metadata": {},
   "outputs": [],
   "source": []
  },
  {
   "cell_type": "markdown",
   "id": "4ca20467",
   "metadata": {},
   "source": [
    "Que No. 4. Write a Python program to find largest number in a list?\n"
   ]
  },
  {
   "cell_type": "code",
   "execution_count": 29,
   "id": "f81923ef",
   "metadata": {},
   "outputs": [
    {
     "name": "stdout",
     "output_type": "stream",
     "text": [
      "Enter a number in a list: 5\n",
      "Enter a Number: 10\n",
      "Enter a Number: 50\n",
      "Enter a Number: 70\n",
      "Enter a Number: -1\n",
      "Enter a Number: 99\n",
      "List is [10, 50, 70, -1, 99]\n",
      "Largest number in the list is  99\n"
     ]
    }
   ],
   "source": [
    "num = int(input(\"Enter a number in a list: \"))\n",
    "\n",
    "l = []\n",
    "\n",
    "for i in range(num):\n",
    "    l.append(int(input(\"Enter a Number: \")))\n",
    "print(\"List is\",l)\n",
    "print(\"Largest number in the list is \",max(l))\n"
   ]
  },
  {
   "cell_type": "code",
   "execution_count": 30,
   "id": "ec3880ba",
   "metadata": {},
   "outputs": [
    {
     "name": "stdout",
     "output_type": "stream",
     "text": [
      "60\n"
     ]
    }
   ],
   "source": [
    "l = [18,44,7,8,45,60,23,16]\n",
    "max = l[0]\n",
    "for i in l:\n",
    "    if i > max:\n",
    "        max = i\n",
    "        \n",
    "print(max)\n"
   ]
  },
  {
   "cell_type": "code",
   "execution_count": 32,
   "id": "27266334",
   "metadata": {},
   "outputs": [
    {
     "data": {
      "text/plain": [
       "'Largest Number in given list is 60'"
      ]
     },
     "execution_count": 32,
     "metadata": {},
     "output_type": "execute_result"
    }
   ],
   "source": [
    "l1 = [18,44,7,8,45,60,23,16]\n",
    "\n",
    "def max_num(l1):\n",
    "    \n",
    "    max = l1[0]\n",
    "    for i in l1:\n",
    "        if i > max:\n",
    "            max = i\n",
    "    return \"Largest Number in given list is {}\".format(max)\n",
    "\n",
    "max_num(l1)"
   ]
  },
  {
   "cell_type": "code",
   "execution_count": null,
   "id": "937c60cd",
   "metadata": {},
   "outputs": [],
   "source": []
  },
  {
   "cell_type": "markdown",
   "id": "32a4951a",
   "metadata": {},
   "source": [
    "Que No. 5. Write a Python program to find second largest number in a list?\n"
   ]
  },
  {
   "cell_type": "code",
   "execution_count": 33,
   "id": "0f0c807a",
   "metadata": {},
   "outputs": [
    {
     "name": "stdout",
     "output_type": "stream",
     "text": [
      "78\n"
     ]
    }
   ],
   "source": [
    "l = [45,78,97,14,56]\n",
    "l.sort()\n",
    "print(l[-2])"
   ]
  },
  {
   "cell_type": "code",
   "execution_count": 34,
   "id": "2fe046d7",
   "metadata": {},
   "outputs": [
    {
     "name": "stdout",
     "output_type": "stream",
     "text": [
      "78\n"
     ]
    }
   ],
   "source": [
    "l = [45,78,97,14,56]\n",
    "l.sort(reverse=True)\n",
    "print(l[1])"
   ]
  },
  {
   "cell_type": "code",
   "execution_count": 36,
   "id": "c090c216",
   "metadata": {},
   "outputs": [
    {
     "name": "stdout",
     "output_type": "stream",
     "text": [
      "Enter a number in a list: 5\n",
      "Enter a Number: 15\n",
      "Enter a Number: 19\n",
      "Enter a Number: 11\n",
      "Enter a Number: 21\n",
      "Enter a Number: 1\n",
      "List is [15, 19, 11, 21, 1]\n",
      "The sorted list is [1, 11, 15, 19, 21]\n",
      "The second largest number in the list is  19\n"
     ]
    }
   ],
   "source": [
    "num = int(input(\"Enter a number in a list: \"))\n",
    "\n",
    "l = []\n",
    "\n",
    "for i in range(num):\n",
    "    l.append(int(input(\"Enter a Number: \")))\n",
    "print(\"List is\", l)\n",
    "\n",
    "l.sort()\n",
    "print(\"The sorted list is\",l)\n",
    "print(\"The second largest number in the list is \",l[-2])                       "
   ]
  },
  {
   "cell_type": "code",
   "execution_count": null,
   "id": "ac5400c9",
   "metadata": {},
   "outputs": [],
   "source": []
  },
  {
   "cell_type": "markdown",
   "id": "f8bf04c9",
   "metadata": {},
   "source": [
    "Que No. 6. Write a Python program to find N largest elements from a list?\n"
   ]
  },
  {
   "cell_type": "code",
   "execution_count": 38,
   "id": "dce32a1c",
   "metadata": {},
   "outputs": [
    {
     "name": "stdout",
     "output_type": "stream",
     "text": [
      "largest elements from a list [458, 489, 657, 789]\n"
     ]
    }
   ],
   "source": [
    "l = [150,458,789,100,489,657,222]\n",
    "n= 4 \n",
    "\n",
    "l.sort()\n",
    "print(\"largest elements from a list\",l[-n:])"
   ]
  },
  {
   "cell_type": "code",
   "execution_count": 39,
   "id": "52d9bfc2",
   "metadata": {},
   "outputs": [
    {
     "name": "stdout",
     "output_type": "stream",
     "text": [
      "Enter a number in list: 5\n",
      "Enter a Number: 11\n",
      "Enter a Number: 15\n",
      "Enter a Number: 9\n",
      "Enter a Number: 19\n",
      "Enter a Number: 16\n",
      "List of Element [11, 15, 9, 19, 16]\n",
      "sort list is [9, 11, 15, 16, 19]\n",
      "How many large you want from list: 3\n",
      "3 Largest number from are [15, 16, 19]\n"
     ]
    }
   ],
   "source": [
    "num = int(input(\"Enter a number in list: \"))\n",
    "\n",
    "l = []\n",
    "\n",
    "for i in range(num):\n",
    "    l.append(int(input(\"Enter a Number: \")))\n",
    "print(\"List of Element\", l)\n",
    "\n",
    "l.sort()\n",
    "\n",
    "print(\"sort list is\" , l)\n",
    "\n",
    "n_larg = int(input(\"How many large you want from list: \"))\n",
    "\n",
    "if num < n_larg:\n",
    "    print(\"Enter value is Below than the length of list\")\n",
    "else:\n",
    "    print(n_larg , \"Largest number from are\", l[(num-n_larg):])\n",
    "    "
   ]
  },
  {
   "cell_type": "code",
   "execution_count": 1,
   "id": "b20d5018",
   "metadata": {},
   "outputs": [
    {
     "name": "stdout",
     "output_type": "stream",
     "text": [
      "Enter a number in a list: 6\n",
      "Enter a number: 9\n",
      "Enter a number: 16\n",
      "Enter a number: 5\n",
      "Enter a number: 19\n",
      "Enter a number: 25\n",
      "Enter a number: 11\n",
      "The 3 largest element in [9, 16, 5, 19, 25, 11] is [25, 19, 16]\n"
     ]
    }
   ],
   "source": [
    "def N_larg(n):\n",
    "    num = int(input(\"Enter a number in a list: \"))\n",
    "    l =[]\n",
    "    \n",
    "    for i in range(num):\n",
    "        l.append(int(input(\"Enter a number: \")))\n",
    "    print(\"The {} largest element in {} is {}\".format(n, l, sorted(l, reverse = True)[0:n]))\n",
    "    \n",
    "N_larg(3)\n"
   ]
  },
  {
   "cell_type": "code",
   "execution_count": null,
   "id": "e7c65232",
   "metadata": {},
   "outputs": [],
   "source": []
  },
  {
   "cell_type": "markdown",
   "id": "0c5d2ff0",
   "metadata": {},
   "source": [
    "Que No. 7. Write a Python program to print even numbers in a list?\n"
   ]
  },
  {
   "cell_type": "code",
   "execution_count": 2,
   "id": "be5f104a",
   "metadata": {},
   "outputs": [
    {
     "name": "stdout",
     "output_type": "stream",
     "text": [
      "Even Number is 12\n",
      "Even Number is 48\n",
      "Even Number is 10\n",
      "Even Number is 6\n",
      "Even Number is 10\n"
     ]
    }
   ],
   "source": [
    "l = [12,48,67,79,10,6,7,9,10]\n",
    "\n",
    "for i in l:\n",
    "    if i%2 == 0:\n",
    "        print(\"Even Number is\", i)\n",
    "        "
   ]
  },
  {
   "cell_type": "code",
   "execution_count": 3,
   "id": "7c98fa14",
   "metadata": {},
   "outputs": [
    {
     "data": {
      "text/plain": [
       "[12, 48, 10, 6, 10]"
      ]
     },
     "execution_count": 3,
     "metadata": {},
     "output_type": "execute_result"
    }
   ],
   "source": [
    "[ i for i in l if i%2 == 0]\n"
   ]
  },
  {
   "cell_type": "code",
   "execution_count": 5,
   "id": "6fec22fd",
   "metadata": {},
   "outputs": [
    {
     "name": "stdout",
     "output_type": "stream",
     "text": [
      "[12, 48, 10, 6, 10]\n"
     ]
    }
   ],
   "source": [
    "even = []\n",
    "for i in l:\n",
    "    if i%2==0:\n",
    "        even.append(i)\n",
    "print(even)\n",
    "        "
   ]
  },
  {
   "cell_type": "code",
   "execution_count": 6,
   "id": "a23a46b9",
   "metadata": {},
   "outputs": [
    {
     "name": "stdout",
     "output_type": "stream",
     "text": [
      "even numbers in the given list are: \n",
      "2 4 6 8 10 "
     ]
    }
   ],
   "source": [
    "l = [1,2,3,4,5,6,7,8,9,10]\n",
    "\n",
    "def even_list(l):\n",
    "    print(\"even numbers in the given list are: \")\n",
    "    for i in l:\n",
    "        if i % 2 == 0:\n",
    "            print(i, end = \" \")\n",
    "even_list(l)            "
   ]
  },
  {
   "cell_type": "code",
   "execution_count": 7,
   "id": "4ab1580a",
   "metadata": {},
   "outputs": [
    {
     "name": "stdout",
     "output_type": "stream",
     "text": [
      "Enter a number in a list: 6\n",
      "Enter a number: 5\n",
      "Enter a number: 9\n",
      "Enter a number: 11\n",
      "Enter a number: 4\n",
      "Enter a number: 16\n",
      "Enter a number: 21\n",
      "List is:  [5, 9, 11, 4, 16, 21]\n",
      "The  even number in list is  [4, 16]\n"
     ]
    }
   ],
   "source": [
    "num = int(input(\"Enter a number in a list: \"))\n",
    "\n",
    "l = []\n",
    "\n",
    "for i in range(num):\n",
    "    l.append(int(input(\"Enter a number: \")))\n",
    "print(\"List is: \",l)\n",
    "\n",
    "even = []\n",
    "\n",
    "for i in l:\n",
    "    if i%2==0:\n",
    "        even.append(i)\n",
    "print(\"The  even number in list is \", even)        \n"
   ]
  },
  {
   "cell_type": "code",
   "execution_count": null,
   "id": "36e1d720",
   "metadata": {},
   "outputs": [],
   "source": []
  },
  {
   "cell_type": "markdown",
   "id": "07884715",
   "metadata": {},
   "source": [
    "Que No. 8. Write a Python program to print odd numbers in a List?\n"
   ]
  },
  {
   "cell_type": "code",
   "execution_count": 11,
   "id": "af99a03a",
   "metadata": {},
   "outputs": [
    {
     "name": "stdout",
     "output_type": "stream",
     "text": [
      "Odd Number is 67\n",
      "Odd Number is 79\n",
      "Odd Number is 7\n",
      "Odd Number is 9\n"
     ]
    }
   ],
   "source": [
    "l = [12,48,67,79,10,6,7,9,10]\n",
    "\n",
    "for i in l:\n",
    "    if i%2 != 0:\n",
    "        print(\"Odd Number is\", i)"
   ]
  },
  {
   "cell_type": "code",
   "execution_count": 12,
   "id": "5b6f6f4a",
   "metadata": {},
   "outputs": [
    {
     "data": {
      "text/plain": [
       "[67, 79, 7, 9]"
      ]
     },
     "execution_count": 12,
     "metadata": {},
     "output_type": "execute_result"
    }
   ],
   "source": [
    "[ i for i in l if i%2 != 0 ]"
   ]
  },
  {
   "cell_type": "code",
   "execution_count": 13,
   "id": "11aa3753",
   "metadata": {},
   "outputs": [
    {
     "name": "stdout",
     "output_type": "stream",
     "text": [
      "[67, 79, 7, 9]\n"
     ]
    }
   ],
   "source": [
    "odd = []\n",
    "for i in l:\n",
    "    if i%2!=0:\n",
    "        odd.append(i)\n",
    "print(odd)        "
   ]
  },
  {
   "cell_type": "code",
   "execution_count": 14,
   "id": "8fabba2e",
   "metadata": {},
   "outputs": [
    {
     "name": "stdout",
     "output_type": "stream",
     "text": [
      "Odd numbers in the given list are: \n",
      "1 3 5 7 9 "
     ]
    }
   ],
   "source": [
    "l = [1,2,3,4,5,6,7,8,9,10]\n",
    "\n",
    "def odd_list(l):\n",
    "    print(\"Odd numbers in the given list are: \")\n",
    "    for i in l:\n",
    "        if i % 2 != 0:\n",
    "            print(i, end = \" \")\n",
    "odd_list(l)            "
   ]
  },
  {
   "cell_type": "code",
   "execution_count": 15,
   "id": "c28cfe10",
   "metadata": {
    "scrolled": true
   },
   "outputs": [
    {
     "name": "stdout",
     "output_type": "stream",
     "text": [
      "Enter a number in a list: 6\n",
      "Enter a number: 1\n",
      "Enter a number: 2\n",
      "Enter a number: 3\n",
      "Enter a number: 4\n",
      "Enter a number: 5\n",
      "Enter a number: 6\n",
      "List is:  [1, 2, 3, 4, 5, 6]\n",
      "The odd number in list is  [1, 3, 5]\n"
     ]
    }
   ],
   "source": [
    "num = int(input(\"Enter a number in a list: \"))\n",
    "\n",
    "l = []\n",
    "\n",
    "for i in range(num):\n",
    "    l.append(int(input(\"Enter a number: \")))\n",
    "print(\"List is: \",l)\n",
    "\n",
    "odd = []\n",
    "\n",
    "for i in l:\n",
    "    if i %2 !=0:\n",
    "        odd.append(i)\n",
    "print(\"The odd number in list is \",odd)        "
   ]
  },
  {
   "cell_type": "code",
   "execution_count": null,
   "id": "c35b3eff",
   "metadata": {},
   "outputs": [],
   "source": []
  },
  {
   "cell_type": "markdown",
   "id": "e9c2ccf0",
   "metadata": {},
   "source": [
    "Que No. 9. Write a Python program to Remove empty List from List?\n"
   ]
  },
  {
   "cell_type": "code",
   "execution_count": 17,
   "id": "fd79d51c",
   "metadata": {},
   "outputs": [
    {
     "name": "stdout",
     "output_type": "stream",
     "text": [
      "[1, 2, 3, 4, 5, 6, 7]\n"
     ]
    }
   ],
   "source": [
    "l =[1,2,3,4,[],5,6,[],7]\n",
    "\n",
    "for i in l:\n",
    "    if i==[]:\n",
    "        l.remove(i)\n",
    "print(l)        "
   ]
  },
  {
   "cell_type": "code",
   "execution_count": 18,
   "id": "acafedef",
   "metadata": {},
   "outputs": [
    {
     "name": "stdout",
     "output_type": "stream",
     "text": [
      "[1, 2, 3, 4, 5, 6, 7, [8, 9, 10], 11]\n"
     ]
    }
   ],
   "source": [
    "l = [1,2,3,[],4,5,[],6,7,[8,9,10],11]\n",
    "\n",
    "new_list = []\n",
    "\n",
    "for i in l:\n",
    "    if type(i)==list:\n",
    "        if len(i)!=0:\n",
    "            new_list.append(i)\n",
    "    else:\n",
    "            new_list.append(i)\n",
    "            \n",
    "print(new_list)    "
   ]
  },
  {
   "cell_type": "code",
   "execution_count": 20,
   "id": "f21085a7",
   "metadata": {},
   "outputs": [
    {
     "data": {
      "text/plain": [
       "'empty list from list [1, 2, 3, 4, 5, 6, 7, 8, 9, 10, 11]'"
      ]
     },
     "execution_count": 20,
     "metadata": {},
     "output_type": "execute_result"
    }
   ],
   "source": [
    "l = [1,2,3,4,5,6,7,8,[],9,10,[],11,[]]\n",
    "\n",
    "def remove_list(l):\n",
    "    for i in l:\n",
    "        if type(i) == list:\n",
    "                if i == []:\n",
    "                    l.remove(i)\n",
    "    return \"empty list from list {}\".format(l)\n",
    "    \n",
    "remove_list(l)    "
   ]
  },
  {
   "cell_type": "code",
   "execution_count": 23,
   "id": "b719221d",
   "metadata": {},
   "outputs": [
    {
     "name": "stdout",
     "output_type": "stream",
     "text": [
      "List is : [1, 2, [], 3, 4, [], 5, 6, [], 7, 8]\n",
      "Remove empty List from List : [1, 2, 3, 4, 5, 6, 7, 8]\n"
     ]
    }
   ],
   "source": [
    "l = [1,2,[],3,4,[],5,6,[],7,8]\n",
    "print(\"List is :\",l)\n",
    "new_list = [item for item in l if item != []]\n",
    "print(\"Remove empty List from List :\",new_list)"
   ]
  },
  {
   "cell_type": "code",
   "execution_count": null,
   "id": "8a426ada",
   "metadata": {},
   "outputs": [],
   "source": []
  },
  {
   "cell_type": "markdown",
   "id": "a0c0e866",
   "metadata": {},
   "source": [
    "Que No. 10. Write a Python program to Cloning or Copying a list?\n"
   ]
  },
  {
   "cell_type": "code",
   "execution_count": 25,
   "id": "c7598887",
   "metadata": {},
   "outputs": [
    {
     "name": "stdout",
     "output_type": "stream",
     "text": [
      "[1, 2, 3, 4, 5, [6, 7, 8], 9, 10]\n"
     ]
    }
   ],
   "source": [
    "l1 = [1,2,3,4,5,[6,7,8],9,10]\n",
    "l2 = []\n",
    "\n",
    "for i in l1:\n",
    "    l2.append(i)\n",
    "    \n",
    "print(l2)    "
   ]
  },
  {
   "cell_type": "code",
   "execution_count": 27,
   "id": "d5d22f0b",
   "metadata": {},
   "outputs": [
    {
     "data": {
      "text/plain": [
       "'Cloning or Copying of original list is [1, 2, 3, 4, 5, 6, 7, 8, 9, 10]'"
      ]
     },
     "execution_count": 27,
     "metadata": {},
     "output_type": "execute_result"
    }
   ],
   "source": [
    "l1 = [1,2,3,4,5,6,7,8,9,10]\n",
    "\n",
    "def clone_list(l):\n",
    "    l1 = []\n",
    "    for i in l:\n",
    "        l1.append(i)\n",
    "    return\"Cloning or Copying of original list is {}\".format(l1)\n",
    "\n",
    "clone_list(l1)"
   ]
  },
  {
   "cell_type": "code",
   "execution_count": 28,
   "id": "a8046773",
   "metadata": {},
   "outputs": [
    {
     "name": "stdout",
     "output_type": "stream",
     "text": [
      "Enter a number in list: 6\n",
      "Enter a number: 2\n",
      "Enter a number: 4\n",
      "Enter a number: 6\n",
      "Enter a number: 8\n",
      "Enter a number: 10\n",
      "Enter a number: 12\n",
      "The List is  [2, 4, 6, 8, 10, 12]\n",
      "Cloning By list copying lst  [2, 4, 6, 8, 10, 12]\n"
     ]
    }
   ],
   "source": [
    "num = int(input(\"Enter a number in list: \"))\n",
    "l = []\n",
    "\n",
    "for i in range(num):\n",
    "    l.append(int(input(\"Enter a number: \")))\n",
    "print(\"The List is \", l)\n",
    "\n",
    "l_copy = l.copy()\n",
    "print(\"Cloning By list copying lst \",l_copy)"
   ]
  },
  {
   "cell_type": "code",
   "execution_count": null,
   "id": "71bfcb04",
   "metadata": {},
   "outputs": [],
   "source": []
  },
  {
   "cell_type": "markdown",
   "id": "8fc8bb62",
   "metadata": {},
   "source": [
    "Que No. 11. Write a Python program to Count occurrences of an element in a list?\n"
   ]
  },
  {
   "cell_type": "code",
   "execution_count": 29,
   "id": "9cf541aa",
   "metadata": {},
   "outputs": [
    {
     "name": "stdout",
     "output_type": "stream",
     "text": [
      "Enter a number: 110\n",
      "110 has occured 2 times\n"
     ]
    }
   ],
   "source": [
    "l2 = [110, 120, 130, 140, 110, 140, 150]\n",
    "\n",
    "num = int(input(\"Enter a number: \"))\n",
    "\n",
    "count = 0\n",
    "\n",
    "for i in l2:\n",
    "    if num == i:\n",
    "        count+=1\n",
    "print(\"{} has occured {} times\".format(num,count))\n"
   ]
  },
  {
   "cell_type": "code",
   "execution_count": 31,
   "id": "d001d45a",
   "metadata": {},
   "outputs": [
    {
     "name": "stdout",
     "output_type": "stream",
     "text": [
      "Enter a number in list: 6\n",
      "Enter a number: 110\n",
      "Enter a number: 150\n",
      "Enter a number: 110\n",
      "Enter a number: 150\n",
      "Enter a number: 110\n",
      "Enter a number: 160\n",
      "New List [110, 150, 110, 150, 110, 160]\n",
      "Enter a new Number for Count: 110\n",
      "110 has occured 3 times\n"
     ]
    }
   ],
   "source": [
    "num = int(input(\"Enter a number in list: \"))\n",
    "\n",
    "new_list = []\n",
    "\n",
    "for i in range(num):\n",
    "    new_list.append(int(input(\"Enter a number: \")))\n",
    "    \n",
    "print(\"New List\", new_list)\n",
    "\n",
    "count = 0 \n",
    "\n",
    "num_1 = int(input(\"Enter a new Number for Count: \"))\n",
    "\n",
    "for i in new_list:\n",
    "    if num_1 == i:\n",
    "        count+=1\n",
    "        \n",
    "print(\"{} has occured {} times\".format(num_1, count))\n"
   ]
  },
  {
   "cell_type": "code",
   "execution_count": null,
   "id": "f5cad513",
   "metadata": {},
   "outputs": [],
   "source": []
  },
  {
   "cell_type": "code",
   "execution_count": null,
   "id": "dba56678",
   "metadata": {},
   "outputs": [],
   "source": []
  }
 ],
 "metadata": {
  "kernelspec": {
   "display_name": "Python 3 (ipykernel)",
   "language": "python",
   "name": "python3"
  },
  "language_info": {
   "codemirror_mode": {
    "name": "ipython",
    "version": 3
   },
   "file_extension": ".py",
   "mimetype": "text/x-python",
   "name": "python",
   "nbconvert_exporter": "python",
   "pygments_lexer": "ipython3",
   "version": "3.9.12"
  }
 },
 "nbformat": 4,
 "nbformat_minor": 5
}
