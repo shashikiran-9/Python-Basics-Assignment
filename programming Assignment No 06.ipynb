{
 "cells": [
  {
   "cell_type": "markdown",
   "id": "1b2f1a9c",
   "metadata": {},
   "source": [
    "                                  Programming Assignment No 06"
   ]
  },
  {
   "cell_type": "code",
   "execution_count": null,
   "id": "f1f86f5d",
   "metadata": {},
   "outputs": [],
   "source": []
  },
  {
   "cell_type": "markdown",
   "id": "fe40a4f7",
   "metadata": {},
   "source": [
    "Que 1. Write a Python Program to Display Fibonacci Sequence Using Recursion?"
   ]
  },
  {
   "cell_type": "code",
   "execution_count": 1,
   "id": "860f779d",
   "metadata": {},
   "outputs": [
    {
     "name": "stdout",
     "output_type": "stream",
     "text": [
      "Enter Input Number: 10\n",
      "0 1 1 2 3 5 8 13 21 34 "
     ]
    }
   ],
   "source": [
    "def fib_recur(n):\n",
    "    if n<=1:\n",
    "        return n\n",
    "    else:\n",
    "        return fib_recur(n-1) + fib_recur(n-2)\n",
    "    \n",
    "num = int(input(\"Enter Input Number: \"))\n",
    "\n",
    "if num <= 0:\n",
    "    print(\"Please provide Positive no.\")\n",
    "    \n",
    "else:\n",
    "    for i in range(num):\n",
    "        print(fib_recur(i), end=\" \")\n",
    "        "
   ]
  },
  {
   "cell_type": "code",
   "execution_count": null,
   "id": "f4ebe16d",
   "metadata": {},
   "outputs": [],
   "source": []
  },
  {
   "cell_type": "markdown",
   "id": "94cd6fbc",
   "metadata": {},
   "source": [
    "Que 2. Write a Python Program to Find Factorial of Number Using Recursion?"
   ]
  },
  {
   "cell_type": "code",
   "execution_count": 3,
   "id": "f301c6c1",
   "metadata": {},
   "outputs": [
    {
     "data": {
      "text/plain": [
       "120"
      ]
     },
     "execution_count": 3,
     "metadata": {},
     "output_type": "execute_result"
    }
   ],
   "source": [
    "def fact_recur(n):\n",
    "    if n==0 or n==1:\n",
    "        return 1\n",
    "    else:\n",
    "        return (n * fact_recur( n-1 ))\n",
    "    \n",
    "fact_recur(5)\n"
   ]
  },
  {
   "cell_type": "code",
   "execution_count": 4,
   "id": "c72d58e3",
   "metadata": {},
   "outputs": [
    {
     "name": "stdout",
     "output_type": "stream",
     "text": [
      "Enter Input Number: 5\n",
      "Factorial of 5 is 120\n"
     ]
    }
   ],
   "source": [
    "def fact_recur(n):\n",
    "    if n==0 or n==1:\n",
    "        return 1\n",
    "    else:\n",
    "        return (n * fact_recur(n - 1))\n",
    "    \n",
    "num = int(input(\"Enter Input Number: \"))\n",
    "\n",
    "if num<0:\n",
    "    print(\"The Factorial of Negative Number Does not exit\")\n",
    "    \n",
    "elif num== 0 or num==1:\n",
    "    print(\"Factorial of 0 or 1 is 1\")\n",
    "    \n",
    "else:\n",
    "    print(\"Factorial of\",num, \"is\", fact_recur(num))\n",
    "    "
   ]
  },
  {
   "cell_type": "code",
   "execution_count": null,
   "id": "f16ba4c9",
   "metadata": {},
   "outputs": [],
   "source": []
  },
  {
   "cell_type": "markdown",
   "id": "d9c22bef",
   "metadata": {},
   "source": [
    "Que 3. Write a Python Program to calculate your Body Mass Index?"
   ]
  },
  {
   "cell_type": "code",
   "execution_count": 5,
   "id": "eaf27db1",
   "metadata": {},
   "outputs": [
    {
     "name": "stdout",
     "output_type": "stream",
     "text": [
      "Enter Weight in kg: 72\n",
      "Enter height in m: 1.82\n",
      "Body mass index is 21.736505252988767\n",
      "You're in the obese range\n"
     ]
    }
   ],
   "source": [
    " # BMI = Weight / Height * 2\n",
    "    \n",
    "Weight = float(input(\"Enter Weight in kg: \"))\n",
    "Height = float(input(\"Enter height in m: \"))\n",
    "\n",
    "BMI = Weight/Height**2\n",
    "\n",
    "print(\"Body mass index is\", BMI)\n",
    "\n",
    "if BMI<18.5:\n",
    "        print(\"You're in the underweight range\")\n",
    "elif BMI>25 and BMI <29.9:\n",
    "        print(\"You're in the overweight range\")\n",
    "else:\n",
    "        print(\"You're in the obese range\")\n",
    "        "
   ]
  },
  {
   "cell_type": "code",
   "execution_count": 8,
   "id": "fa599b98",
   "metadata": {},
   "outputs": [
    {
     "name": "stdout",
     "output_type": "stream",
     "text": [
      "Enter Weight in kg: 72\n",
      "Enter height in m: 1.82\n",
      "BMI of Person is 0.5494505494505494\n",
      "You're in the underweight range\n"
     ]
    }
   ],
   "source": [
    "def BMI_Cal(Weight,Height):\n",
    "    \n",
    "    BMI_Result = Weight/Height**2\n",
    "    \n",
    "    print(\"BMI of Person is\", BMI_Result)\n",
    "    \n",
    "    if BMI_Result<18.5:\n",
    "        print(\"You're in the underweight range\")\n",
    "    elif BMI_Result>=18.5 and BMI_Result<24.9:\n",
    "        print(\"You're in the healthy weight range\")\n",
    "    elif BMI_Result>=25 and BMI_Result <29.9:\n",
    "        print(\"You're in the overweight range\")\n",
    "    else:\n",
    "        print(\"You're in the obese range\")\n",
    "        \n",
    "Weight = float(input(\"Enter Weight in kg: \"))        \n",
    "Weight = float(input(\"Enter height in m: \"))\n",
    "\n",
    "BMI_Cal(Weight,Height)\n"
   ]
  },
  {
   "cell_type": "code",
   "execution_count": null,
   "id": "5fd8ce59",
   "metadata": {},
   "outputs": [],
   "source": []
  },
  {
   "cell_type": "markdown",
   "id": "82c1c03a",
   "metadata": {},
   "source": [
    "Que 4. Write a Python Program to calculate the natural logarithm of any number?"
   ]
  },
  {
   "cell_type": "code",
   "execution_count": 9,
   "id": "57d98f41",
   "metadata": {},
   "outputs": [
    {
     "name": "stdout",
     "output_type": "stream",
     "text": [
      "Enter a Number: 14\n",
      "Natural log of 14.0 is 2.6390573296152584\n"
     ]
    }
   ],
   "source": [
    "import math \n",
    "x = float(input(\"Enter a Number: \"))\n",
    "log = math.log(x)\n",
    "print(\"Natural log of {} is {}\". format(x,log))\n"
   ]
  },
  {
   "cell_type": "code",
   "execution_count": 10,
   "id": "0a060b45",
   "metadata": {},
   "outputs": [
    {
     "name": "stdout",
     "output_type": "stream",
     "text": [
      "Enter Number: 14\n",
      "Natural Log of 14.0 is 2.6390573296152584\n"
     ]
    }
   ],
   "source": [
    "import math \n",
    "def Nat_log():\n",
    "    print(\"Natural Log of {} is {}\". format(x,log))\n",
    "    \n",
    "x = float(input(\"Enter Number: \"))\n",
    "log = math.log(x)\n",
    "\n",
    "Nat_log()\n"
   ]
  },
  {
   "cell_type": "code",
   "execution_count": null,
   "id": "12658c5f",
   "metadata": {},
   "outputs": [],
   "source": []
  },
  {
   "cell_type": "markdown",
   "id": "179ab002",
   "metadata": {},
   "source": [
    "Que 5. Write a Python Program for cube sum of first n natural numbers?"
   ]
  },
  {
   "cell_type": "code",
   "execution_count": 13,
   "id": "c4d5df24",
   "metadata": {},
   "outputs": [
    {
     "name": "stdout",
     "output_type": "stream",
     "text": [
      "Enter a no :5\n",
      "Cube sum of 5 natural number is 225\n"
     ]
    }
   ],
   "source": [
    "num = int(input(\"Enter a no :\"))\n",
    "sum = 0 \n",
    "for i in range(1, num+1):\n",
    "    sum = sum + i**3\n",
    "print(\"Cube sum of {} natural number is {}\". format(num,sum))\n"
   ]
  },
  {
   "cell_type": "code",
   "execution_count": 14,
   "id": "f6d2533c",
   "metadata": {},
   "outputs": [
    {
     "name": "stdout",
     "output_type": "stream",
     "text": [
      "Enter a no :5\n",
      "Cube sum of 5 natural number is 225\n"
     ]
    }
   ],
   "source": [
    "def sum_cube(num):\n",
    "    sum = 0 \n",
    "    for i in range(1, num+1):\n",
    "        sum = sum+(i**3)\n",
    "    return sum\n",
    "num = int(input(\"Enter a no :\"))\n",
    "\n",
    "print(\"Cube sum of {} natural number is {}\". format(num,sum))\n"
   ]
  },
  {
   "cell_type": "code",
   "execution_count": null,
   "id": "50f07a67",
   "metadata": {},
   "outputs": [],
   "source": []
  },
  {
   "cell_type": "code",
   "execution_count": null,
   "id": "17b95a56",
   "metadata": {},
   "outputs": [],
   "source": []
  },
  {
   "cell_type": "code",
   "execution_count": null,
   "id": "20925de9",
   "metadata": {},
   "outputs": [],
   "source": []
  }
 ],
 "metadata": {
  "kernelspec": {
   "display_name": "Python 3 (ipykernel)",
   "language": "python",
   "name": "python3"
  },
  "language_info": {
   "codemirror_mode": {
    "name": "ipython",
    "version": 3
   },
   "file_extension": ".py",
   "mimetype": "text/x-python",
   "name": "python",
   "nbconvert_exporter": "python",
   "pygments_lexer": "ipython3",
   "version": "3.9.12"
  }
 },
 "nbformat": 4,
 "nbformat_minor": 5
}
