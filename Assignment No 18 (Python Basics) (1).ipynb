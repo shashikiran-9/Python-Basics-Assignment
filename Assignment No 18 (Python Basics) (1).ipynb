{
 "cells": [
  {
   "cell_type": "markdown",
   "id": "5b066001",
   "metadata": {},
   "source": [
    "                               Assignment No 18 (Python Basics)"
   ]
  },
  {
   "cell_type": "code",
   "execution_count": null,
   "id": "b547a3da",
   "metadata": {},
   "outputs": [],
   "source": [
    "!type zoo.py\n"
   ]
  },
  {
   "cell_type": "markdown",
   "id": "6ac32288",
   "metadata": {},
   "source": [
    "Que1. Create a zoo.py file first. Define the hours() function, which prints the string 'Open 9-5 daily'.\n",
    "      Then, use the interactive interpreter to import the zoo module and call its hours() function.\n"
   ]
  },
  {
   "cell_type": "code",
   "execution_count": null,
   "id": "146c51fc",
   "metadata": {},
   "outputs": [],
   "source": [
    "import zoo\n",
    "zoo.hours()\n"
   ]
  },
  {
   "cell_type": "code",
   "execution_count": null,
   "id": "82f0678b",
   "metadata": {},
   "outputs": [],
   "source": []
  },
  {
   "cell_type": "markdown",
   "id": "e2b7c86d",
   "metadata": {},
   "source": [
    "Que2. In the interactive interpreter, import the zoo module as menagerie and call its hours() function.\n"
   ]
  },
  {
   "cell_type": "code",
   "execution_count": null,
   "id": "28040c4b",
   "metadata": {},
   "outputs": [],
   "source": [
    "import zo as menagerie\n",
    "menagerie.hours()\n"
   ]
  },
  {
   "cell_type": "code",
   "execution_count": null,
   "id": "3796b53b",
   "metadata": {},
   "outputs": [],
   "source": []
  },
  {
   "cell_type": "markdown",
   "id": "202278b6",
   "metadata": {},
   "source": [
    "Que3. Using the interpreter, explicitly import and call the hours() function from zoo.\n"
   ]
  },
  {
   "cell_type": "code",
   "execution_count": null,
   "id": "3190a0e0",
   "metadata": {},
   "outputs": [],
   "source": [
    "from zoo import hours\n",
    "hours()\n"
   ]
  },
  {
   "cell_type": "code",
   "execution_count": null,
   "id": "12790426",
   "metadata": {},
   "outputs": [],
   "source": []
  },
  {
   "cell_type": "markdown",
   "id": "e19d4833",
   "metadata": {},
   "source": [
    "Que4. Import the hours() function as info and call it.\n"
   ]
  },
  {
   "cell_type": "code",
   "execution_count": null,
   "id": "228a83a9",
   "metadata": {},
   "outputs": [],
   "source": [
    "from zoo import hours as info\n",
    "info()\n"
   ]
  },
  {
   "cell_type": "code",
   "execution_count": null,
   "id": "c1bdd7e4",
   "metadata": {},
   "outputs": [],
   "source": []
  },
  {
   "cell_type": "markdown",
   "id": "3e2d1180",
   "metadata": {},
   "source": [
    "Que5. Create a plain dictionary with the key-value pairs 'a':1, 'b':2, and 'c':3, and print it out.\n"
   ]
  },
  {
   "cell_type": "code",
   "execution_count": 8,
   "id": "acdfef6f",
   "metadata": {},
   "outputs": [
    {
     "data": {
      "text/plain": [
       "{'a': 1, 'b': 2, 'c': 3}"
      ]
     },
     "execution_count": 8,
     "metadata": {},
     "output_type": "execute_result"
    }
   ],
   "source": [
    "plain = {'a': 1, 'b': 2, 'c': 3}\n",
    "plain\n"
   ]
  },
  {
   "cell_type": "code",
   "execution_count": null,
   "id": "80889b19",
   "metadata": {},
   "outputs": [],
   "source": []
  },
  {
   "cell_type": "markdown",
   "id": "624a516e",
   "metadata": {},
   "source": [
    "Que6. Make an OrderedDict called fancy from the same pairs listed in 5 and print it. Did it print in the\n",
    "      same order as plain?\n"
   ]
  },
  {
   "cell_type": "code",
   "execution_count": 9,
   "id": "43f8568e",
   "metadata": {},
   "outputs": [
    {
     "data": {
      "text/plain": [
       "OrderedDict([('a', 1), ('b', 2), ('c', 3)])"
      ]
     },
     "execution_count": 9,
     "metadata": {},
     "output_type": "execute_result"
    }
   ],
   "source": [
    "# Yes \n",
    "from collections import OrderedDict\n",
    "fancy = OrderedDict(plain)\n",
    "fancy\n"
   ]
  },
  {
   "cell_type": "code",
   "execution_count": null,
   "id": "3ef3133f",
   "metadata": {},
   "outputs": [],
   "source": []
  },
  {
   "cell_type": "markdown",
   "id": "c873cf17",
   "metadata": {},
   "source": [
    "Que7. Make a default dictionary called dict_of_lists and pass it the argument list. Make the list\n",
    "      dict_of_lists['a'] and append the value 'something for a' to it in one assignment. Print\n",
    "      dict_of_lists['a'].\n",
    "      "
   ]
  },
  {
   "cell_type": "code",
   "execution_count": 10,
   "id": "a8082ff0",
   "metadata": {},
   "outputs": [
    {
     "data": {
      "text/plain": [
       "['something for a']"
      ]
     },
     "execution_count": 10,
     "metadata": {},
     "output_type": "execute_result"
    }
   ],
   "source": [
    "from collections import defaultdict\n",
    "dict_of_lists = defaultdict(list)\n",
    "dict_of_lists['a'].append('something for a')\n",
    "dict_of_lists['a']\n"
   ]
  },
  {
   "cell_type": "code",
   "execution_count": null,
   "id": "7c67813f",
   "metadata": {},
   "outputs": [],
   "source": []
  }
 ],
 "metadata": {
  "kernelspec": {
   "display_name": "Python 3 (ipykernel)",
   "language": "python",
   "name": "python3"
  },
  "language_info": {
   "codemirror_mode": {
    "name": "ipython",
    "version": 3
   },
   "file_extension": ".py",
   "mimetype": "text/x-python",
   "name": "python",
   "nbconvert_exporter": "python",
   "pygments_lexer": "ipython3",
   "version": "3.9.13"
  }
 },
 "nbformat": 4,
 "nbformat_minor": 5
}
