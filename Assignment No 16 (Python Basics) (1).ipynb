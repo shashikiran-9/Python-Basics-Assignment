{
 "cells": [
  {
   "cell_type": "markdown",
   "id": "0ded06cd",
   "metadata": {},
   "source": [
    "                               Assignment No 16 (Python Basics)"
   ]
  },
  {
   "cell_type": "code",
   "execution_count": null,
   "id": "90b3ea64",
   "metadata": {},
   "outputs": [],
   "source": []
  },
  {
   "cell_type": "markdown",
   "id": "d110117a",
   "metadata": {},
   "source": [
    "Que1. Create a list called years_list, starting with the year of your birth, and each year thereafter until\n",
    "      the year of your fifth birthday. For example, if you were born in 1980. the list would be years_list =\n",
    "      [1980, 1981, 1982, 1983, 1984, 1985].\n"
   ]
  },
  {
   "cell_type": "code",
   "execution_count": 2,
   "id": "366e75bf",
   "metadata": {},
   "outputs": [
    {
     "name": "stdout",
     "output_type": "stream",
     "text": [
      "[1996, 1997, 1998, 1999, 2000, 2001]\n"
     ]
    }
   ],
   "source": [
    "years_list = [i for i in range(1996,1996+6)]\n",
    "print(years_list)\n"
   ]
  },
  {
   "cell_type": "code",
   "execution_count": null,
   "id": "a45e6781",
   "metadata": {},
   "outputs": [],
   "source": []
  },
  {
   "cell_type": "markdown",
   "id": "fd9d38fa",
   "metadata": {},
   "source": [
    "Que2. In which year in years_list was your third birthday? Remember, you were 0 years of age for your\n",
    "      first year.\n"
   ]
  },
  {
   "cell_type": "code",
   "execution_count": 3,
   "id": "ff917f2d",
   "metadata": {},
   "outputs": [
    {
     "name": "stdout",
     "output_type": "stream",
     "text": [
      "1999\n"
     ]
    }
   ],
   "source": [
    "print(years_list[3])\n"
   ]
  },
  {
   "cell_type": "code",
   "execution_count": null,
   "id": "76118d31",
   "metadata": {},
   "outputs": [],
   "source": []
  },
  {
   "cell_type": "markdown",
   "id": "dc358b61",
   "metadata": {},
   "source": [
    "Que3. In the years list, which year were you the oldest?\n"
   ]
  },
  {
   "cell_type": "code",
   "execution_count": 4,
   "id": "b806a427",
   "metadata": {},
   "outputs": [
    {
     "name": "stdout",
     "output_type": "stream",
     "text": [
      "2001\n"
     ]
    }
   ],
   "source": [
    "print(years_list[-1])\n"
   ]
  },
  {
   "cell_type": "code",
   "execution_count": null,
   "id": "6b6219a0",
   "metadata": {},
   "outputs": [],
   "source": []
  },
  {
   "cell_type": "markdown",
   "id": "3828ce2c",
   "metadata": {},
   "source": [
    "Que4. Make a list called things with these three strings as elements: \"mozzarella\", \"cinderella\",\n",
    "      \"salmonella\".\n",
    "     "
   ]
  },
  {
   "cell_type": "code",
   "execution_count": 5,
   "id": "51b71321",
   "metadata": {},
   "outputs": [
    {
     "name": "stdout",
     "output_type": "stream",
     "text": [
      "mozzarella\n",
      "cinderella\n",
      "salmonella\n"
     ]
    }
   ],
   "source": [
    "things = ['mozzar', 'cinder', 'salmon']\n",
    "for i in things:\n",
    "    print(i+'ella')\n",
    "    "
   ]
  },
  {
   "cell_type": "code",
   "execution_count": null,
   "id": "14255fbc",
   "metadata": {},
   "outputs": [],
   "source": []
  },
  {
   "cell_type": "markdown",
   "id": "14e0c9e0",
   "metadata": {},
   "source": [
    "Que5. Capitalize the element in things that refers to a person and then print the list. Did it change the\n",
    "      element in the list?\n"
   ]
  },
  {
   "cell_type": "code",
   "execution_count": 6,
   "id": "b55df661",
   "metadata": {},
   "outputs": [
    {
     "name": "stdout",
     "output_type": "stream",
     "text": [
      "['mozzarella', 'cinderella', 'salmonella']\n"
     ]
    }
   ],
   "source": [
    "things = ['mozzarella', 'cinderella', 'salmonella']\n",
    "for i in range(len(things)):\n",
    "    if things[i] == 'cindeaella':\n",
    "        things[i] = things[i].capitalize()\n",
    "print(things)\n"
   ]
  },
  {
   "cell_type": "code",
   "execution_count": null,
   "id": "2b33c77e",
   "metadata": {},
   "outputs": [],
   "source": []
  },
  {
   "cell_type": "markdown",
   "id": "80292269",
   "metadata": {},
   "source": [
    "Que6. Make a surprise list with the elements \"Groucho,\" \"Chico,\" and \"Harpo.\"\n"
   ]
  },
  {
   "cell_type": "code",
   "execution_count": 7,
   "id": "e0fbbf6b",
   "metadata": {},
   "outputs": [
    {
     "name": "stdout",
     "output_type": "stream",
     "text": [
      "['Groucho', 'Chico', 'Harpo']\n"
     ]
    }
   ],
   "source": [
    "surprise_list = ['Groucho','Chico','Harpo']\n",
    "print(surprise_list)\n"
   ]
  },
  {
   "cell_type": "code",
   "execution_count": null,
   "id": "9a5e6266",
   "metadata": {},
   "outputs": [],
   "source": []
  },
  {
   "cell_type": "markdown",
   "id": "3b11b41f",
   "metadata": {},
   "source": [
    "Que7. Lowercase the last element of the surprise list, reverse it, and then capitalize it.\n"
   ]
  },
  {
   "cell_type": "code",
   "execution_count": 8,
   "id": "d68d1458",
   "metadata": {},
   "outputs": [],
   "source": [
    "surprise_list = ['Groucho','Chico','Harpo']\n"
   ]
  },
  {
   "cell_type": "code",
   "execution_count": 9,
   "id": "63a9c290",
   "metadata": {},
   "outputs": [
    {
     "data": {
      "text/plain": [
       "'harpo'"
      ]
     },
     "execution_count": 9,
     "metadata": {},
     "output_type": "execute_result"
    }
   ],
   "source": [
    "surprise_list[-1].lower()\n"
   ]
  },
  {
   "cell_type": "code",
   "execution_count": 10,
   "id": "0132e88e",
   "metadata": {},
   "outputs": [
    {
     "data": {
      "text/plain": [
       "'opraH'"
      ]
     },
     "execution_count": 10,
     "metadata": {},
     "output_type": "execute_result"
    }
   ],
   "source": [
    "surprise_list[-1][::-1]\n"
   ]
  },
  {
   "cell_type": "code",
   "execution_count": 11,
   "id": "76db27ac",
   "metadata": {},
   "outputs": [
    {
     "data": {
      "text/plain": [
       "'Oprah'"
      ]
     },
     "execution_count": 11,
     "metadata": {},
     "output_type": "execute_result"
    }
   ],
   "source": [
    "surprise_list[-1][::-1].capitalize()"
   ]
  },
  {
   "cell_type": "code",
   "execution_count": null,
   "id": "01ecf7d1",
   "metadata": {},
   "outputs": [],
   "source": []
  },
  {
   "cell_type": "markdown",
   "id": "43613da4",
   "metadata": {},
   "source": [
    "Que8. Make an English-to-French dictionary called e2f and print it. Here are your starter words: dog is\n",
    "      chien, cat is chat, and walrus is morse.\n"
   ]
  },
  {
   "cell_type": "code",
   "execution_count": 12,
   "id": "20d9571a",
   "metadata": {},
   "outputs": [
    {
     "name": "stdout",
     "output_type": "stream",
     "text": [
      "{'dog': 'chien', 'cat': 'chat', 'walrus': 'morse'}\n"
     ]
    }
   ],
   "source": [
    "e2f = {'dog':'chien','cat':'chat','walrus':'morse'}\n",
    "print(e2f)\n"
   ]
  },
  {
   "cell_type": "code",
   "execution_count": null,
   "id": "5013c80c",
   "metadata": {},
   "outputs": [],
   "source": []
  },
  {
   "cell_type": "markdown",
   "id": "54f86918",
   "metadata": {},
   "source": [
    "Que9. Write the French word for walrus in your three-word dictionary e2f.\n"
   ]
  },
  {
   "cell_type": "code",
   "execution_count": 13,
   "id": "00052d8d",
   "metadata": {},
   "outputs": [
    {
     "data": {
      "text/plain": [
       "'morse'"
      ]
     },
     "execution_count": 13,
     "metadata": {},
     "output_type": "execute_result"
    }
   ],
   "source": [
    "e2f['walrus']\n"
   ]
  },
  {
   "cell_type": "code",
   "execution_count": null,
   "id": "eb1b75c2",
   "metadata": {},
   "outputs": [],
   "source": []
  },
  {
   "cell_type": "markdown",
   "id": "b71c5d7a",
   "metadata": {},
   "source": [
    "Que10. Make a French-to-English dictionary called f2e from e2f. Use the items method.\n"
   ]
  },
  {
   "cell_type": "code",
   "execution_count": 14,
   "id": "e06bea78",
   "metadata": {},
   "outputs": [
    {
     "name": "stdout",
     "output_type": "stream",
     "text": [
      "{'chien': 'dog', 'chat': 'cat', 'morse': 'walrus'}\n"
     ]
    }
   ],
   "source": [
    "f2e = dict([ele[::-1] for ele in e2f.items()])\n",
    "print(f2e)\n"
   ]
  },
  {
   "cell_type": "code",
   "execution_count": null,
   "id": "141a1c96",
   "metadata": {},
   "outputs": [],
   "source": []
  },
  {
   "cell_type": "markdown",
   "id": "dffed7ab",
   "metadata": {},
   "source": [
    "Que11. Print the English version of the French word chien using f2e.\n"
   ]
  },
  {
   "cell_type": "code",
   "execution_count": 15,
   "id": "611d5a46",
   "metadata": {},
   "outputs": [
    {
     "data": {
      "text/plain": [
       "'dog'"
      ]
     },
     "execution_count": 15,
     "metadata": {},
     "output_type": "execute_result"
    }
   ],
   "source": [
    "f2e['chien']\n"
   ]
  },
  {
   "cell_type": "code",
   "execution_count": null,
   "id": "eaddd7c5",
   "metadata": {},
   "outputs": [],
   "source": []
  },
  {
   "cell_type": "markdown",
   "id": "0dededd0",
   "metadata": {},
   "source": [
    "Que12. Make and print a set of English words from the keys in e2f.\n"
   ]
  },
  {
   "cell_type": "code",
   "execution_count": 16,
   "id": "43c36149",
   "metadata": {},
   "outputs": [
    {
     "data": {
      "text/plain": [
       "dict_keys(['dog', 'cat', 'walrus'])"
      ]
     },
     "execution_count": 16,
     "metadata": {},
     "output_type": "execute_result"
    }
   ],
   "source": [
    "e2f.keys()\n"
   ]
  },
  {
   "cell_type": "code",
   "execution_count": null,
   "id": "6723bb9f",
   "metadata": {},
   "outputs": [],
   "source": []
  },
  {
   "cell_type": "markdown",
   "id": "42c67a10",
   "metadata": {},
   "source": [
    "Que 13. Make a multilevel dictionary called life. Use these strings for the topmost keys: 'animals', 'plants', and 'other'.             Make the 'animals' key refer to another dictionary with the keys 'cats', 'octopi', and 'emus'. Make the 'cats' key             refer to a list of strings with the values 'Henri', 'Grumpy', and 'Lucy'. Make all the other keys refer to empty               dictionaries.\n"
   ]
  },
  {
   "cell_type": "code",
   "execution_count": 18,
   "id": "db39d01c",
   "metadata": {},
   "outputs": [
    {
     "name": "stdout",
     "output_type": "stream",
     "text": [
      "{'animals': {'cats': ['Henri', 'Grumpy', 'Lucy'], 'octopi': {}, 'emus': {}}, 'plants': {}, 'other': {}}\n"
     ]
    }
   ],
   "source": [
    "life = {\n",
    "    'animals':{\n",
    "        'cats':['Henri','Grumpy','Lucy'],\n",
    "        'octopi':{},\n",
    "        'emus':{}\n",
    "    },\n",
    "    'plants':{},\n",
    "    'other':{}\n",
    "}\n",
    "print(life)\n"
   ]
  },
  {
   "cell_type": "code",
   "execution_count": null,
   "id": "3cc59ed4",
   "metadata": {},
   "outputs": [],
   "source": []
  },
  {
   "cell_type": "markdown",
   "id": "0917fe23",
   "metadata": {},
   "source": [
    "Que14. Print the top-level keys of life.\n"
   ]
  },
  {
   "cell_type": "code",
   "execution_count": 19,
   "id": "388c9458",
   "metadata": {},
   "outputs": [
    {
     "name": "stdout",
     "output_type": "stream",
     "text": [
      "['animals', 'plants', 'other']\n"
     ]
    }
   ],
   "source": [
    "print(list(life.keys()))\n"
   ]
  },
  {
   "cell_type": "code",
   "execution_count": null,
   "id": "a9248914",
   "metadata": {},
   "outputs": [],
   "source": []
  },
  {
   "cell_type": "markdown",
   "id": "737e62d5",
   "metadata": {},
   "source": [
    "Que15. Print the keys for life['animals'].\n"
   ]
  },
  {
   "cell_type": "code",
   "execution_count": 20,
   "id": "a7ee4b3f",
   "metadata": {},
   "outputs": [
    {
     "name": "stdout",
     "output_type": "stream",
     "text": [
      "['cats', 'octopi', 'emus']\n"
     ]
    }
   ],
   "source": [
    "print(list(life['animals'].keys()))\n"
   ]
  },
  {
   "cell_type": "code",
   "execution_count": null,
   "id": "65d8be4a",
   "metadata": {},
   "outputs": [],
   "source": []
  },
  {
   "cell_type": "markdown",
   "id": "43404a1a",
   "metadata": {},
   "source": [
    "Que16. Print the values for life['animals']['cats']\n"
   ]
  },
  {
   "cell_type": "code",
   "execution_count": 21,
   "id": "ea40ee80",
   "metadata": {},
   "outputs": [
    {
     "name": "stdout",
     "output_type": "stream",
     "text": [
      "['Henri', 'Grumpy', 'Lucy']\n"
     ]
    }
   ],
   "source": [
    "print(life['animals']['cats'])\n"
   ]
  },
  {
   "cell_type": "code",
   "execution_count": null,
   "id": "ba15aa3e",
   "metadata": {},
   "outputs": [],
   "source": []
  }
 ],
 "metadata": {
  "kernelspec": {
   "display_name": "Python 3 (ipykernel)",
   "language": "python",
   "name": "python3"
  },
  "language_info": {
   "codemirror_mode": {
    "name": "ipython",
    "version": 3
   },
   "file_extension": ".py",
   "mimetype": "text/x-python",
   "name": "python",
   "nbconvert_exporter": "python",
   "pygments_lexer": "ipython3",
   "version": "3.9.13"
  }
 },
 "nbformat": 4,
 "nbformat_minor": 5
}
