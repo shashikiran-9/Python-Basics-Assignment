{
 "cells": [
  {
   "cell_type": "markdown",
   "id": "bee96982",
   "metadata": {},
   "source": [
    "                                Assigment No 12 (Python Basics)"
   ]
  },
  {
   "cell_type": "code",
   "execution_count": null,
   "id": "b941baac",
   "metadata": {},
   "outputs": [],
   "source": []
  },
  {
   "cell_type": "markdown",
   "id": "b593e0df",
   "metadata": {},
   "source": [
    "Que1. In what modes should the PdfFileReader() and PdfFileWriter() File objects will be opened?\n",
    "\n",
    "Ans:\n",
    "    For PdfFileReader() file objects WILL be opened in rb ->read binary mode, Whereas for pdfFileWriter() file objects WILL be     opened in wb ->write binary mode.\n",
    "    "
   ]
  },
  {
   "cell_type": "code",
   "execution_count": null,
   "id": "9e71d85c",
   "metadata": {},
   "outputs": [],
   "source": []
  },
  {
   "cell_type": "markdown",
   "id": "de028610",
   "metadata": {},
   "source": [
    "Que2. From a PdfFileReader object, how do you get a Page object for page 5?\n",
    "\n",
    "Ans:\n",
    "     Calling getPage(4) will return s Page object for About This Book, Since page 0 is the first page.\n",
    "     "
   ]
  },
  {
   "cell_type": "code",
   "execution_count": null,
   "id": "6a996bea",
   "metadata": {},
   "outputs": [],
   "source": []
  },
  {
   "cell_type": "markdown",
   "id": "dcf8897f",
   "metadata": {},
   "source": [
    "Que3. What PdfFileReader variable stores the number of pages in the PDF document?\n",
    "\n",
    "Ans:\n",
    "     The numPages variable stores an integer of the number of pages in the PdfFileReader object.\n",
    "     "
   ]
  },
  {
   "cell_type": "code",
   "execution_count": null,
   "id": "c55d2c77",
   "metadata": {},
   "outputs": [],
   "source": []
  },
  {
   "cell_type": "markdown",
   "id": "70ca6c27",
   "metadata": {},
   "source": [
    "Que4. If a PdfFileReader object’s PDF is encrypted with the password swordfish, what must you do\n",
    "      before you can obtain Page objects from it?\n",
    "      \n",
    "Ans:\n",
    "     If a pdfFileReader object's PDF is encrypted with the password swordfish and we are not aware of it, we will first read        the pdf using the pdfFileReader Class. pdfFileReader class provides a attribute called isEncrypted to check whether a pdf      is encrypted or not. The method returns true if a pdf is encrypted and vice versa. If pdf is encrypted we will use the          decrypt() method provided by PdfFileReader class and then we will try to read the contents/pages of the pdf, else PyPDF2        will raise the following error PyPDF2.utils.PdfReadError:file has not been decrypted.\n",
    "     "
   ]
  },
  {
   "cell_type": "code",
   "execution_count": null,
   "id": "ed2e06e5",
   "metadata": {},
   "outputs": [],
   "source": [
    "# Example Code:\n",
    "from PyPDF2 import pdfFileReader\n",
    "pdf_reader = pdfFileReader(file_path)\n",
    "if pdf_reader.isEncrypted:  # To check whether the pdf is encrypted or not\n",
    "    pdf_reader.decrypt(\"swordfish\")\n",
    "for page in pdf_reader.page:\n",
    "    print(page.extractText()) # To print the text data of a page from pdf\n",
    "    \n",
    "    "
   ]
  },
  {
   "cell_type": "code",
   "execution_count": null,
   "id": "bab583dd",
   "metadata": {},
   "outputs": [],
   "source": []
  },
  {
   "cell_type": "markdown",
   "id": "727ad525",
   "metadata": {},
   "source": [
    "Que5. What methods do you use to rotate a page?\n",
    "\n",
    "Ans:\n",
    "     The rotateClockwise() and rotateCounterClockwise() methods. The degrees to rotate is passed as an integer argument.\n",
    "     "
   ]
  },
  {
   "cell_type": "code",
   "execution_count": null,
   "id": "4eed3219",
   "metadata": {},
   "outputs": [],
   "source": []
  },
  {
   "cell_type": "markdown",
   "id": "3c1b2f77",
   "metadata": {},
   "source": [
    "Que6. What is the difference between a Run object and a Paragraph object?\n",
    "\n",
    "Ans:\n",
    "     A document contains multiple paragraphs. A paragraph begins on a new line and contains multiple runs. Runs are contiguous      groups of characters within a paragraph.\n",
    "     "
   ]
  },
  {
   "cell_type": "code",
   "execution_count": null,
   "id": "d76b43d1",
   "metadata": {},
   "outputs": [],
   "source": []
  },
  {
   "cell_type": "markdown",
   "id": "9a8e9669",
   "metadata": {},
   "source": [
    "Que7. How do you obtain a list of Paragraph objects for a Document object that’s stored in a variable\n",
    "      named doc?\n",
    "      "
   ]
  },
  {
   "cell_type": "code",
   "execution_count": 2,
   "id": "a2cab1fa",
   "metadata": {},
   "outputs": [
    {
     "name": "stdout",
     "output_type": "stream",
     "text": [
      "Requirement already satisfied: docx in c:\\users\\lenovo\\anaconda3\\lib\\site-packages (0.2.4)\n",
      "Requirement already satisfied: Pillow>=2.0 in c:\\users\\lenovo\\anaconda3\\lib\\site-packages (from docx) (9.2.0)\n",
      "Requirement already satisfied: lxml in c:\\users\\lenovo\\anaconda3\\lib\\site-packages (from docx) (4.9.1)\n"
     ]
    }
   ],
   "source": [
    "!pip install docx"
   ]
  },
  {
   "cell_type": "code",
   "execution_count": null,
   "id": "f1697343",
   "metadata": {},
   "outputs": [],
   "source": [
    "# Example Program \n",
    "from docx import Document \n",
    "doc = Document(\"sample_file.docx\") # Path of the Docx file\n",
    "print(doc.paragraphs) # Print the list of Paragraph objects for a Document\n",
    "for paragraph in doc.paragraphs:\n",
    "    print(paragraph.text) # Prints the text in the paragraph\n",
    "    "
   ]
  },
  {
   "cell_type": "code",
   "execution_count": null,
   "id": "a66d5fd9",
   "metadata": {},
   "outputs": [],
   "source": []
  },
  {
   "cell_type": "markdown",
   "id": "d9d1f03b",
   "metadata": {},
   "source": [
    "Que8. What type of object has bold, underline, italic, strike, and outline variables?\n",
    "\n",
    "Ans:\n",
    "     Run object has bold, underline, italic, strike, and outline variables. The text in a word doument is more than jast a          string. It has font, size, color, and other styling information associated with it.\n",
    "     \n",
    "     A style in Word is a collection of these attributes. A Run object is a contiguous run of text with the same style. A new        Run object is needed whenever the text style changes.\n"
   ]
  },
  {
   "cell_type": "code",
   "execution_count": null,
   "id": "0c0a5eb6",
   "metadata": {},
   "outputs": [],
   "source": []
  },
  {
   "cell_type": "markdown",
   "id": "62564303",
   "metadata": {},
   "source": [
    "Que9. What is the difference between False, True, and None for the bold variable?\n"
   ]
  },
  {
   "cell_type": "code",
   "execution_count": 4,
   "id": "721e0f3d",
   "metadata": {},
   "outputs": [],
   "source": [
    "bold = True # Style Set to Bold\n",
    "bold = False # Style Not Set to Bold\n",
    "bold = None # Style is Not is Applicable\n"
   ]
  },
  {
   "cell_type": "code",
   "execution_count": null,
   "id": "605afd9f",
   "metadata": {},
   "outputs": [],
   "source": []
  },
  {
   "cell_type": "markdown",
   "id": "cb7536fa",
   "metadata": {},
   "source": [
    "Que10. How do you create a Document object for a new Word document?\n"
   ]
  },
  {
   "cell_type": "code",
   "execution_count": null,
   "id": "3121bdac",
   "metadata": {},
   "outputs": [],
   "source": [
    "# Example Program\n",
    "from docx import Document\n",
    "document = Document()\n",
    "document.add_paragraph(\"iNeuron Full Stack DateScience Course\")\n",
    "document.save('mydocument.docx')\n"
   ]
  },
  {
   "cell_type": "code",
   "execution_count": null,
   "id": "9f0c3cb7",
   "metadata": {},
   "outputs": [],
   "source": []
  },
  {
   "cell_type": "code",
   "execution_count": null,
   "id": "eb58e193",
   "metadata": {},
   "outputs": [],
   "source": [
    "Que11. How do you add a paragraph with the text 'Hello, there!'' to a Document object stored in a\n",
    "       variable named doc?\n"
   ]
  },
  {
   "cell_type": "code",
   "execution_count": null,
   "id": "3aba3ab8",
   "metadata": {},
   "outputs": [],
   "source": [
    "# Example Program\n",
    "from docx import Document\n",
    "doc = Document()\n",
    "doc.add_paragraph('Hello, there!')\n",
    "doc.save('hello.docx')\n"
   ]
  },
  {
   "cell_type": "code",
   "execution_count": null,
   "id": "c64912ee",
   "metadata": {},
   "outputs": [],
   "source": []
  },
  {
   "cell_type": "markdown",
   "id": "b45327f5",
   "metadata": {},
   "source": [
    "Que12. What integers represent the levels of headings available in Word documents?\n",
    "\n",
    "Ans:\n",
    "     The levels for a heading in a word doument can be specified by using the level attributes inside the add_heading method.\n",
    "     There are a total of 5 levels statring for 0 to 4. Where level 0 makes a headline with the below the text, whereas the          heading level 1 is the main heading. Similarly, the other headings are sub-heading with their's font-size in decreasing        order.\n",
    "     "
   ]
  },
  {
   "cell_type": "code",
   "execution_count": null,
   "id": "ae9fc814",
   "metadata": {},
   "outputs": [],
   "source": []
  }
 ],
 "metadata": {
  "kernelspec": {
   "display_name": "Python 3 (ipykernel)",
   "language": "python",
   "name": "python3"
  },
  "language_info": {
   "codemirror_mode": {
    "name": "ipython",
    "version": 3
   },
   "file_extension": ".py",
   "mimetype": "text/x-python",
   "name": "python",
   "nbconvert_exporter": "python",
   "pygments_lexer": "ipython3",
   "version": "3.9.13"
  }
 },
 "nbformat": 4,
 "nbformat_minor": 5
}
