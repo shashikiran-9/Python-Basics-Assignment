{
 "cells": [
  {
   "cell_type": "markdown",
   "id": "e3c8eb00",
   "metadata": {},
   "source": [
    "                                 Assignment No 22 (Python Basics)"
   ]
  },
  {
   "cell_type": "code",
   "execution_count": null,
   "id": "d2b5e6e7",
   "metadata": {},
   "outputs": [],
   "source": []
  },
  {
   "cell_type": "markdown",
   "id": "07111904",
   "metadata": {},
   "source": [
    "Que1. What is the result of the code, and explain?\n",
    "\n",
    "       >>> X ='iNeuron'\n",
    "       >>> def func():\n",
    "       print(X)\n",
    "\n",
    "       >>> func()\n",
    "     "
   ]
  },
  {
   "cell_type": "code",
   "execution_count": 1,
   "id": "2ce7ed1e",
   "metadata": {},
   "outputs": [
    {
     "name": "stdout",
     "output_type": "stream",
     "text": [
      "iNeuron\n"
     ]
    }
   ],
   "source": [
    "x = 'iNeuron'\n",
    "def func():\n",
    "    print(x)\n",
    "    \n",
    "func()\n",
    "\n",
    "#Ans. The global variables are accessible inside the functions in python.\n",
    "#But we can not access function variable outside function. \n",
    "#Since x is global variable we are able to print it in side the function solution : 'iNeuron'\n"
   ]
  },
  {
   "cell_type": "code",
   "execution_count": null,
   "id": "3cfd993c",
   "metadata": {},
   "outputs": [],
   "source": []
  },
  {
   "cell_type": "markdown",
   "id": "d75095cd",
   "metadata": {},
   "source": [
    "Que2. What is the result of the code, and explain?\n",
    "\n",
    "       >>> X = 'iNeuron'\n",
    "       >>> def func():\n",
    "       X = 'NI!'\n",
    "\n",
    "       >>>func()\n",
    "       >>> print(X)\n"
   ]
  },
  {
   "cell_type": "code",
   "execution_count": 2,
   "id": "7a7e39c8",
   "metadata": {},
   "outputs": [
    {
     "name": "stdout",
     "output_type": "stream",
     "text": [
      "iNeuron\n"
     ]
    }
   ],
   "source": [
    "x = 'iNeuron'\n",
    "def func():\n",
    "    x = 'NI !'\n",
    "    \n",
    "func()\n",
    "print(x)\n",
    "\n",
    "#Ans. The global variables are access in side the functions in Python.\n",
    "# Since x is golbal variable we are able to print it out side of the function solution : 'iNeuron'\n"
   ]
  },
  {
   "cell_type": "code",
   "execution_count": null,
   "id": "1dbe27c8",
   "metadata": {},
   "outputs": [],
   "source": []
  },
  {
   "cell_type": "markdown",
   "id": "17c38417",
   "metadata": {},
   "source": [
    "Que3. What does this code print, and why?\n",
    "\n",
    "      >>> X = 'iNeuron'\n",
    "      >>> def func():\n",
    "      X = 'NI'\n",
    "      print(X)\n",
    "\n",
    "      >>> func()\n",
    "      >>> print(X)\n"
   ]
  },
  {
   "cell_type": "code",
   "execution_count": 3,
   "id": "72bfed96",
   "metadata": {},
   "outputs": [
    {
     "name": "stdout",
     "output_type": "stream",
     "text": [
      "NI!\n",
      "iNeuron\n"
     ]
    }
   ],
   "source": [
    "x = 'iNeuron'\n",
    "def func():\n",
    "    x = 'NI!'\n",
    "    print(x)\n",
    "    \n",
    "func()\n",
    "print(x)\n",
    "\n",
    "#Ans. The global variables are access in side the function in Python.\n",
    "# X is updated with 'NI' which is local to function and its immutable.\n"
   ]
  },
  {
   "cell_type": "code",
   "execution_count": null,
   "id": "adbfc464",
   "metadata": {},
   "outputs": [],
   "source": []
  },
  {
   "cell_type": "markdown",
   "id": "59af90ac",
   "metadata": {},
   "source": [
    "Que4. What output does this code produce? Why?\n",
    "\n",
    "      >>> X = 'iNeuron'\n",
    "      >>> def func():\n",
    "      global X\n",
    "      X = 'NI'\n",
    "\n",
    "      >>> func()\n",
    "      >>> print(X)\n"
   ]
  },
  {
   "cell_type": "code",
   "execution_count": 4,
   "id": "37f89ab0",
   "metadata": {},
   "outputs": [
    {
     "name": "stdout",
     "output_type": "stream",
     "text": [
      "NI !\n",
      "NI !\n"
     ]
    }
   ],
   "source": [
    "x = 'iNeuron'\n",
    "def func():\n",
    "    global x \n",
    "    x = 'NI !'\n",
    "    print(x)\n",
    "    \n",
    "func()\n",
    "print(x)\n",
    "\n",
    "#Ans. Since the x inside function is made Global, it will be accesible outside of the function too.\n",
    "#Now x will have new value.\n",
    "\n",
    "#solution : 'NI!', 'NI!'\n"
   ]
  },
  {
   "cell_type": "code",
   "execution_count": null,
   "id": "45df0c05",
   "metadata": {},
   "outputs": [],
   "source": []
  },
  {
   "cell_type": "markdown",
   "id": "b29e290e",
   "metadata": {},
   "source": [
    "Que5. What about this code—what’s the output, and why?\n",
    "\n",
    "      >>> X = 'iNeuron'\n",
    "      >>> def func():\n",
    "      X = 'NI'\n",
    "      def nested():\n",
    "      print(X)\n",
    "      nested()\n",
    "\n",
    "      >>> func()\n",
    "      >>> X"
   ]
  },
  {
   "cell_type": "code",
   "execution_count": 5,
   "id": "e339bd0c",
   "metadata": {},
   "outputs": [
    {
     "name": "stdout",
     "output_type": "stream",
     "text": [
      "iNeuron\n"
     ]
    },
    {
     "data": {
      "text/plain": [
       "'iNeuron'"
      ]
     },
     "execution_count": 5,
     "metadata": {},
     "output_type": "execute_result"
    }
   ],
   "source": [
    "x = 'iNeuron'\n",
    "def func():\n",
    "    x = 'NI'\n",
    "def nested():\n",
    "    print(x)\n",
    "    \n",
    "nested()\n",
    "func()\n",
    "x\n",
    "\n",
    "#Ans. The nested() function will print 'iNeuron', Then func() does not display anything,\n",
    "#and x = 'NI' is not accessible outside the function.\n",
    "#Solution : 'iNeuron'\n"
   ]
  },
  {
   "cell_type": "code",
   "execution_count": null,
   "id": "5602b2bc",
   "metadata": {},
   "outputs": [],
   "source": []
  },
  {
   "cell_type": "markdown",
   "id": "9c60e39b",
   "metadata": {},
   "source": [
    "Que6. How about this code: what is its output in Python 3, and explain?\n",
    "\n",
    "      >>> def func():\n",
    "      X = 'NI'\n",
    "      def nested():\n",
    "      nonlocal X\n",
    "      \n",
    "      \n",
    "      \n",
    "      0\n",
    "      X = 'Spam'\n",
    "      nested()\n",
    "      print(X)\n",
    "\n",
    "      >>> func()"
   ]
  },
  {
   "cell_type": "code",
   "execution_count": 6,
   "id": "d671c47b",
   "metadata": {},
   "outputs": [
    {
     "name": "stdout",
     "output_type": "stream",
     "text": [
      "spam\n"
     ]
    }
   ],
   "source": [
    "def func():\n",
    "    x = 'NI'\n",
    "    def nested():\n",
    "        nonlocal x\n",
    "        x = 'spam'\n",
    "        \n",
    "    nested()\n",
    "    print(x)\n",
    "    \n",
    "func()\n",
    "\n",
    "#Nonlocal variable are used in nested functions whose local scope is not defind.\n",
    "#This mean that the variable can be neither in the local nor the global scope. it print the updated value from  nested\n",
    "#Function \n",
    "\n",
    "#Sol : 'spam'\n"
   ]
  },
  {
   "cell_type": "code",
   "execution_count": null,
   "id": "e9e49dd5",
   "metadata": {},
   "outputs": [],
   "source": []
  },
  {
   "cell_type": "code",
   "execution_count": null,
   "id": "4b475b45",
   "metadata": {},
   "outputs": [],
   "source": []
  }
 ],
 "metadata": {
  "kernelspec": {
   "display_name": "Python 3 (ipykernel)",
   "language": "python",
   "name": "python3"
  },
  "language_info": {
   "codemirror_mode": {
    "name": "ipython",
    "version": 3
   },
   "file_extension": ".py",
   "mimetype": "text/x-python",
   "name": "python",
   "nbconvert_exporter": "python",
   "pygments_lexer": "ipython3",
   "version": "3.9.13"
  }
 },
 "nbformat": 4,
 "nbformat_minor": 5
}
