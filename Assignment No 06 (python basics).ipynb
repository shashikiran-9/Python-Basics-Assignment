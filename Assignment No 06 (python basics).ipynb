{
 "cells": [
  {
   "cell_type": "markdown",
   "id": "0dedbf04",
   "metadata": {},
   "source": [
    "                         Assignment No 06 (python basics)"
   ]
  },
  {
   "cell_type": "code",
   "execution_count": null,
   "id": "37e96c9f",
   "metadata": {},
   "outputs": [],
   "source": []
  },
  {
   "cell_type": "markdown",
   "id": "1ae8009c",
   "metadata": {},
   "source": [
    "Que 1. What are escape characters, and how do you use them?\n",
    "\n",
    "Ans:  \n",
    "      An escape characters is backslash/followed by the character you want to insert.\n",
    "      Escape characters represent characters in string values that would otherwise be difficult or impossible to type into           code.\n",
    "      "
   ]
  },
  {
   "cell_type": "code",
   "execution_count": null,
   "id": "dca13bcf",
   "metadata": {},
   "outputs": [],
   "source": []
  },
  {
   "cell_type": "markdown",
   "id": "20bf67ef",
   "metadata": {},
   "source": [
    "Que2. What do the escape characters n and t stand for?\n",
    "\n",
    "Ans: \n",
    "     \\n is newline; \\t is a tab."
   ]
  },
  {
   "cell_type": "code",
   "execution_count": null,
   "id": "1dc668f9",
   "metadata": {},
   "outputs": [],
   "source": []
  },
  {
   "cell_type": "markdown",
   "id": "a25029f4",
   "metadata": {},
   "source": [
    "Que3. What is the way to include backslash characters in a string?\n",
    "\n",
    "Ans:\n",
    "     The \\ escape character will represent a backslash character.\n",
    "     "
   ]
  },
  {
   "cell_type": "code",
   "execution_count": null,
   "id": "988d9155",
   "metadata": {},
   "outputs": [],
   "source": []
  },
  {
   "cell_type": "markdown",
   "id": "6b024e39",
   "metadata": {},
   "source": [
    "Que4. The string \"Howl's Moving Castle\" is a correct value. Why isn&#39;t the single quote character in the\n",
    "      word How's not escaped a problem?\n",
    "Ans:\n",
    "     The single quote in Howl's is fine because you've used double quotes to mark the beginning and end of the string. if itys      wrapped inside single quotes then we have to use escape character'to show single quote in final output \n",
    "     'Howl's Moving Castle'-> 'Howl's Moving Castle'\n",
    "     "
   ]
  },
  {
   "cell_type": "code",
   "execution_count": null,
   "id": "7e07a697",
   "metadata": {},
   "outputs": [],
   "source": []
  },
  {
   "cell_type": "markdown",
   "id": "929413c4",
   "metadata": {},
   "source": [
    "Que5. How do you write a string of newlines if you don&#39;t want to use the n character?\n",
    "\n",
    "Ans: \n",
    "     Multiline string allow you to use newline in string without the \\n escape character.\n",
    "     "
   ]
  },
  {
   "cell_type": "code",
   "execution_count": 2,
   "id": "4e1cdb8e",
   "metadata": {},
   "outputs": [
    {
     "name": "stdout",
     "output_type": "stream",
     "text": [
      "iNeuron full stack Data Science Course\n"
     ]
    }
   ],
   "source": [
    "\n",
    "# Example:\n",
    "a = '''iNeuron full stack Data Science Course'''\n",
    "print(a)\n"
   ]
  },
  {
   "cell_type": "code",
   "execution_count": null,
   "id": "537a03e9",
   "metadata": {},
   "outputs": [],
   "source": []
  },
  {
   "cell_type": "markdown",
   "id": "e620b145",
   "metadata": {},
   "source": [
    "Que6. What are the values of the given expressions?\n",
    "     'Hello, world!'[1]\n",
    "     'Hello, world!'[0:5]\n",
    "     'Hello, world!'[:5]\n",
    "     'Hello, world!'[3:]\n",
    "     \n",
    "     "
   ]
  },
  {
   "cell_type": "code",
   "execution_count": 3,
   "id": "72f966f9",
   "metadata": {},
   "outputs": [],
   "source": [
    "# The Values for the given expressions are:\n"
   ]
  },
  {
   "cell_type": "code",
   "execution_count": 4,
   "id": "fb04fdca",
   "metadata": {},
   "outputs": [
    {
     "data": {
      "text/plain": [
       "'e'"
      ]
     },
     "execution_count": 4,
     "metadata": {},
     "output_type": "execute_result"
    }
   ],
   "source": [
    "\n",
    "'Hello, word!'[1]\n"
   ]
  },
  {
   "cell_type": "code",
   "execution_count": 5,
   "id": "1d62eef4",
   "metadata": {},
   "outputs": [
    {
     "data": {
      "text/plain": [
       "'Hello'"
      ]
     },
     "execution_count": 5,
     "metadata": {},
     "output_type": "execute_result"
    }
   ],
   "source": [
    "\n",
    "'Hello, world!'[0:5]\n"
   ]
  },
  {
   "cell_type": "code",
   "execution_count": 6,
   "id": "3d8a8fc3",
   "metadata": {},
   "outputs": [
    {
     "data": {
      "text/plain": [
       "'Hello'"
      ]
     },
     "execution_count": 6,
     "metadata": {},
     "output_type": "execute_result"
    }
   ],
   "source": [
    "\n",
    "'Hello, world!'[:5]\n"
   ]
  },
  {
   "cell_type": "code",
   "execution_count": 7,
   "id": "4268ae1e",
   "metadata": {},
   "outputs": [
    {
     "data": {
      "text/plain": [
       "'lo, world!'"
      ]
     },
     "execution_count": 7,
     "metadata": {},
     "output_type": "execute_result"
    }
   ],
   "source": [
    "\n",
    "'Hello, world!'[3:]\n"
   ]
  },
  {
   "cell_type": "code",
   "execution_count": null,
   "id": "00a4f97c",
   "metadata": {},
   "outputs": [],
   "source": []
  },
  {
   "cell_type": "markdown",
   "id": "6a48991b",
   "metadata": {},
   "source": [
    "Que7. What are the values of the following expressions?\n",
    "      'Hello'.upper()\n",
    "      'Hello'.upper().isupper()\n",
    "      'Hello'.upper().lower()\n",
    "      "
   ]
  },
  {
   "cell_type": "code",
   "execution_count": 8,
   "id": "4e2876ae",
   "metadata": {},
   "outputs": [
    {
     "data": {
      "text/plain": [
       "'HELLO'"
      ]
     },
     "execution_count": 8,
     "metadata": {},
     "output_type": "execute_result"
    }
   ],
   "source": [
    "# The expressions evalute to the following:\n",
    "\n",
    "'Hello'.upper()\n"
   ]
  },
  {
   "cell_type": "code",
   "execution_count": 9,
   "id": "984f8232",
   "metadata": {},
   "outputs": [
    {
     "data": {
      "text/plain": [
       "True"
      ]
     },
     "execution_count": 9,
     "metadata": {},
     "output_type": "execute_result"
    }
   ],
   "source": [
    "'Hello'.upper().isupper()\n"
   ]
  },
  {
   "cell_type": "code",
   "execution_count": 10,
   "id": "2e2c5221",
   "metadata": {},
   "outputs": [
    {
     "data": {
      "text/plain": [
       "'hello'"
      ]
     },
     "execution_count": 10,
     "metadata": {},
     "output_type": "execute_result"
    }
   ],
   "source": [
    "'Hello'.upper().lower()\n"
   ]
  },
  {
   "cell_type": "code",
   "execution_count": null,
   "id": "a6c8c46f",
   "metadata": {},
   "outputs": [],
   "source": []
  },
  {
   "cell_type": "markdown",
   "id": "6e2dba80",
   "metadata": {},
   "source": [
    "Que8. What are the values of the following expressions?\n",
    "     'Remember, remember, the fifth of July'..split()\n",
    "     '-'.join('There can only one'..split())\n",
    "     "
   ]
  },
  {
   "cell_type": "code",
   "execution_count": 11,
   "id": "5069fdbb",
   "metadata": {},
   "outputs": [
    {
     "data": {
      "text/plain": [
       "['Remember,', 'remember,', 'the', 'fifth', 'of', 'july.']"
      ]
     },
     "execution_count": 11,
     "metadata": {},
     "output_type": "execute_result"
    }
   ],
   "source": [
    "# The expressions evalute to the following:\n",
    "\n",
    "'Remember, remember, the fifth of july.'.split()\n"
   ]
  },
  {
   "cell_type": "code",
   "execution_count": null,
   "id": "6f407333",
   "metadata": {},
   "outputs": [],
   "source": []
  },
  {
   "cell_type": "code",
   "execution_count": 12,
   "id": "b2653550",
   "metadata": {},
   "outputs": [
    {
     "data": {
      "text/plain": [
       "'There-can-only-one.'"
      ]
     },
     "execution_count": 12,
     "metadata": {},
     "output_type": "execute_result"
    }
   ],
   "source": [
    "'-'.join('There can only one.'.split())\n"
   ]
  },
  {
   "cell_type": "code",
   "execution_count": null,
   "id": "ad327eae",
   "metadata": {},
   "outputs": [],
   "source": []
  },
  {
   "cell_type": "markdown",
   "id": "fa85fb87",
   "metadata": {},
   "source": [
    "Que9. What are the methods for right-justifying, left-justifying, and centering a string?\n",
    "\n",
    "Ans:\n",
    "     The rjust(),ljust(),and center() string methods, respectively\n",
    "     "
   ]
  },
  {
   "cell_type": "code",
   "execution_count": null,
   "id": "ae27599e",
   "metadata": {},
   "outputs": [],
   "source": []
  },
  {
   "cell_type": "markdown",
   "id": "95e5e7da",
   "metadata": {},
   "source": [
    "Que10. What is the best way to remove whitespace characters from the start or end?\n",
    "\n",
    "Ans: \n",
    "     The lstrip() and rstrip() methods remove whitespace from the left and right ends of a string, respectively.\n",
    "     "
   ]
  },
  {
   "cell_type": "code",
   "execution_count": null,
   "id": "0b63868e",
   "metadata": {},
   "outputs": [],
   "source": []
  }
 ],
 "metadata": {
  "kernelspec": {
   "display_name": "Python 3 (ipykernel)",
   "language": "python",
   "name": "python3"
  },
  "language_info": {
   "codemirror_mode": {
    "name": "ipython",
    "version": 3
   },
   "file_extension": ".py",
   "mimetype": "text/x-python",
   "name": "python",
   "nbconvert_exporter": "python",
   "pygments_lexer": "ipython3",
   "version": "3.9.13"
  }
 },
 "nbformat": 4,
 "nbformat_minor": 5
}
