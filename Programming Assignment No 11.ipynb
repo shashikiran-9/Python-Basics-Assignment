{
 "cells": [
  {
   "cell_type": "code",
   "execution_count": null,
   "id": "3251329e",
   "metadata": {},
   "outputs": [],
   "source": [
    "                      Programming Assignment No 11"
   ]
  },
  {
   "cell_type": "code",
   "execution_count": null,
   "id": "379d1e16",
   "metadata": {},
   "outputs": [],
   "source": []
  },
  {
   "cell_type": "markdown",
   "id": "6266d27b",
   "metadata": {},
   "source": [
    "Que No. 1. Write a Python program to find words which are greater than given length k?\n",
    "\n",
    "Solution: \n",
    "         In this tutorial,we will learn to find words in a string that are greater than the given length k in python. \n",
    "         String in python are a squence of "
   ]
  },
  {
   "cell_type": "code",
   "execution_count": 1,
   "id": "bcd661be",
   "metadata": {},
   "outputs": [
    {
     "name": "stdout",
     "output_type": "stream",
     "text": [
      "python\n",
      "good\n"
     ]
    }
   ],
   "source": [
    "def word_k(k,s):\n",
    "    #split the string where space comes \n",
    "    \n",
    "    word = s.split(\" \")\n",
    "    #iterate the loop for every word \n",
    "    \n",
    "    for x in word:\n",
    "        # if length of current word\n",
    "        \n",
    "        if len(x)>k:\n",
    "            # greater than k than\n",
    "            print(x)\n",
    "\n",
    "k = 3 \n",
    "s = \"python is good\"\n",
    "word_k(k,s)\n"
   ]
  },
  {
   "cell_type": "code",
   "execution_count": null,
   "id": "2174ae55",
   "metadata": {},
   "outputs": [],
   "source": []
  },
  {
   "cell_type": "markdown",
   "id": "6170bf83",
   "metadata": {},
   "source": [
    "Que No. 2. Write a Python program for removing i-th character from a string?\n",
    "\n",
    "Solution:\n",
    "          In this tutorial, we will learn to remove the i-th character from a string in python. strings in Python \n",
    "          are a sequence of characters\n",
    "          wrapped in single, double, or triple quotes, For a given string, We have to remove the character present at the i-th           index in the string. Indexing string starts from 0.\n",
    "          "
   ]
  },
  {
   "cell_type": "code",
   "execution_count": 5,
   "id": "c8d6fbdd",
   "metadata": {},
   "outputs": [
    {
     "name": "stdout",
     "output_type": "stream",
     "text": [
      "Pythnisgood\n"
     ]
    }
   ],
   "source": [
    "def remove_char(s, i):\n",
    "    a =s[ : i]\n",
    "    b =s[i + 1: ]\n",
    "    \n",
    "    return a+b\n",
    "\n",
    "string = \"Pythonisgood\"\n",
    "# Remove ith index element\n",
    "\n",
    "i = 5\n",
    "print(remove_char(string,i-1))\n"
   ]
  },
  {
   "cell_type": "code",
   "execution_count": 6,
   "id": "2f1a3e7c",
   "metadata": {},
   "outputs": [
    {
     "name": "stdout",
     "output_type": "stream",
     "text": [
      "Wlcome\n"
     ]
    }
   ],
   "source": [
    "def remove_char(s,i):\n",
    "    \n",
    "    for j in range(len(s)):\n",
    "        if j==i:\n",
    "            s=s.replace(s[i],\"\",1)\n",
    "    return s\n",
    "\n",
    "string = \"Welcome\"\n",
    "# Remove i-th index element \n",
    "i = 2\n",
    "print(remove_char(string,i-1))\n"
   ]
  },
  {
   "cell_type": "code",
   "execution_count": null,
   "id": "f71a64b6",
   "metadata": {},
   "outputs": [],
   "source": []
  },
  {
   "cell_type": "markdown",
   "id": "5ab3852f",
   "metadata": {},
   "source": [
    "Que No. 3. Write a Python program to split and join a string?\n",
    "\n",
    "Solution:\n",
    "          In this tutorial, we will learn to split and join a string in python. String in Python are a sequence of characters             wrapped in single, double, or triple quotes."
   ]
  },
  {
   "cell_type": "code",
   "execution_count": 1,
   "id": "0ef4d29d",
   "metadata": {},
   "outputs": [
    {
     "name": "stdout",
     "output_type": "stream",
     "text": [
      "After Splitting:  ['Welcome', 'to', 'study', 'tonight']\n",
      "After joining:  Welcome-to-study-tonight\n"
     ]
    }
   ],
   "source": [
    "def split_string(string):\n",
    "    #Splitting based on space delimiter\n",
    "    list_string = string.split(' ')\n",
    "    return list_string\n",
    "\n",
    "def join_string(list_string):\n",
    "    # Joining based on '-' delimiter \n",
    "    string = '-'.join(list_string)\n",
    "    return string\n",
    "\n",
    "string = 'Welcome to study tonight'\n",
    "# Splitting a string \n",
    "list_string = split_string(string)\n",
    "print(\"After Splitting: \",list_string)\n",
    "\n",
    "# Join list og strings into one\n",
    "res_string = join_string(list_string)\n",
    "print(\"After joining: \",res_string)\n"
   ]
  },
  {
   "cell_type": "code",
   "execution_count": null,
   "id": "5936bd65",
   "metadata": {},
   "outputs": [],
   "source": []
  },
  {
   "cell_type": "markdown",
   "id": "75104ce1",
   "metadata": {},
   "source": [
    "Que No. 4. Write a Python to check if a given string is binary string or not?\n",
    "\n",
    "Solution:\n",
    "         In this tutorial, you will learn to check if a given string is a binary string or not in python. Strings in Python are          a sequence of characters wrapped in string, double, or triple quotes. Binary string are the strings that have                  characters either 1 or 0. if there is any character that is not 1 or 0, then the string is a non-binary string. "
   ]
  },
  {
   "cell_type": "code",
   "execution_count": 2,
   "id": "db574881",
   "metadata": {},
   "outputs": [
    {
     "name": "stdout",
     "output_type": "stream",
     "text": [
      "Binary String\n",
      "Non Binary String\n"
     ]
    }
   ],
   "source": [
    "def check(string) :\n",
    "    b = set(string)\n",
    "    s = {'0', '1'}\n",
    "    if s == b or b == {'0'} or b == {'1'}:\n",
    "        print(\"Binary String\")\n",
    "    else :\n",
    "        print(\"Non Binary String\")\n",
    "        \n",
    "s1= \"00110101\"\n",
    "# Function calling \n",
    "check(s1)\n",
    "s2= \"1010100200111\"\n",
    "check(s2)\n"
   ]
  },
  {
   "cell_type": "code",
   "execution_count": 6,
   "id": "962ebe89",
   "metadata": {},
   "outputs": [
    {
     "name": "stdout",
     "output_type": "stream",
     "text": [
      "Binary\n",
      "Not binary\n"
     ]
    }
   ],
   "source": [
    "def check(s):\n",
    "    binary=\"01\"\n",
    "    flag=0\n",
    "    for char in s:\n",
    "        if char not in binary:\n",
    "            flag=1\n",
    "            break\n",
    "        else:\n",
    "            pass \n",
    "    if flag==1:\n",
    "        print(\"Not binary\")\n",
    "    else:\n",
    "        print(\"Binary\")\n",
    "            \n",
    "s1= \"101001\"\n",
    "#Function calling\n",
    "check(s1)\n",
    "s2= \"02301\"\n",
    "check(s2)\n"
   ]
  },
  {
   "cell_type": "code",
   "execution_count": null,
   "id": "8ae33ae2",
   "metadata": {},
   "outputs": [],
   "source": []
  },
  {
   "cell_type": "markdown",
   "id": "1c888ab5",
   "metadata": {},
   "source": [
    "Que No. 5. Write a Python program to find uncommon words from two Strings?\n",
    "\n",
    "Solution: \n",
    "          In this tutorial, you will learn to find uncommon word from a string in python. Strings in Python are a sequence of             charachters weapped in single, double or triple quotes. Words are the substrings that are separated by a space in the           original string. \n",
    "          A word is uncommon only if it appears exactly once in any one of the given strings, and does not appear in the other           string.\n",
    "          "
   ]
  },
  {
   "cell_type": "code",
   "execution_count": 7,
   "id": "304f1c3f",
   "metadata": {},
   "outputs": [
    {
     "name": "stdout",
     "output_type": "stream",
     "text": [
      "['Welcome', 'to']\n"
     ]
    }
   ],
   "source": [
    "def uncommon_words(s1,s2):\n",
    "    count = {}\n",
    "    for word in s1.split():\n",
    "        count[word] = count.get(word, 0)+ 1\n",
    "    # Words of string s2\n",
    "    for word in s2.split():\n",
    "        count[word] = count.get(word, 0)+ 1\n",
    "    # return required list of words \n",
    "    return [word for word in count if count[word] == 1]\n",
    "\n",
    "s1=\"Studytonight\"\n",
    "s2=\"Welcome to Studytonight\"\n",
    "\n",
    "#print required answer\n",
    "print(uncommon_words(s1, s2))\n"
   ]
  },
  {
   "cell_type": "code",
   "execution_count": 8,
   "id": "bffb50f0",
   "metadata": {},
   "outputs": [
    {
     "name": "stdout",
     "output_type": "stream",
     "text": [
      " mango peach\n"
     ]
    }
   ],
   "source": [
    "#list of uncommon words \n",
    "\n",
    "def uncommon(s1,s2):\n",
    "    list_s1 = s1.split()\n",
    "    list_s2 = s2.split()\n",
    "    uc_words = \"\"\n",
    "    for i in list_s1:\n",
    "        if i not in list_s2:\n",
    "            uc_words = uc_words+\" \"+i\n",
    "    for j in list_s2:\n",
    "        if j not in list_s1:\n",
    "            uc_words = uc_words+\" \"+j\n",
    "            \n",
    "    return uc_words\n",
    "\n",
    "a = \"berry mango cherry\"\n",
    "b = \"berry peach cherry\"\n",
    "print(uncommon(a,b))\n",
    "    "
   ]
  },
  {
   "cell_type": "code",
   "execution_count": 9,
   "id": "9dd3719d",
   "metadata": {},
   "outputs": [
    {
     "name": "stdout",
     "output_type": "stream",
     "text": [
      "['mango', 'peach']\n"
     ]
    }
   ],
   "source": [
    "def uncommon(s1,s2):\n",
    "    s1=s1.split()\n",
    "    s2=s2.split()\n",
    "    k=set(s1).symmetric_difference(set(s2))\n",
    "    return k\n",
    "\n",
    "a = \"berry mango cherry\"\n",
    "b = \"berry peach cherry\"\n",
    "print(list(uncommon(a,b)))\n"
   ]
  },
  {
   "cell_type": "code",
   "execution_count": null,
   "id": "76d14cd3",
   "metadata": {},
   "outputs": [],
   "source": []
  },
  {
   "cell_type": "markdown",
   "id": "72d8109d",
   "metadata": {},
   "source": [
    "Que No. 6. Write a Python to find all duplicate characters in string?\n",
    "\n",
    "Solution:\n",
    "         In this tutorial, you will learn to remove all duplicates from a given string in python. String in Python are a sequence of characters wrapped inside single,double,or triple quotes. For a given string we have to remove all the characters which occur more than once in the string. \n",
    "         "
   ]
  },
  {
   "cell_type": "code",
   "execution_count": 11,
   "id": "25b491d6",
   "metadata": {},
   "outputs": [
    {
     "name": "stdout",
     "output_type": "stream",
     "text": [
      "abcfgbsca\n",
      "After removing duplicates:  abcfgs\n"
     ]
    }
   ],
   "source": [
    "from collections import OrderedDict\n",
    "\n",
    "def remove_duplicate(s):\n",
    "    return \"\".join(OrderedDict.fromkeys(s))\n",
    "\n",
    "# test \n",
    "s=\"abcfgbsca\"\n",
    "print(s)\n",
    "print(\"After removing duplicates: \",remove_duplicate(s))\n"
   ]
  },
  {
   "cell_type": "code",
   "execution_count": 17,
   "id": "a4278f03",
   "metadata": {},
   "outputs": [
    {
     "name": "stdout",
     "output_type": "stream",
     "text": [
      "stdsrdthw\n",
      "After removing:  stdrhw\n",
      "None\n"
     ]
    }
   ],
   "source": [
    "# remove duplicates in string \n",
    "\n",
    "from collections import OrderedDict\n",
    "\n",
    "def remove_duplicate(s):\n",
    "    string=set(s)\n",
    "    string=\"\".join(string)\n",
    "    dup=\"\"\n",
    "    for i in s:\n",
    "        if(i in dup):\n",
    "            pass\n",
    "        else:\n",
    "            dup=dup+i\n",
    "    print(\"After removing: \",dup)\n",
    "    \n",
    "s=\"stdsrdthw\"\n",
    "print(s)\n",
    "print(remove_duplicate(s))\n"
   ]
  },
  {
   "cell_type": "code",
   "execution_count": null,
   "id": "800167c2",
   "metadata": {},
   "outputs": [],
   "source": []
  },
  {
   "cell_type": "markdown",
   "id": "5fd4b0ea",
   "metadata": {},
   "source": [
    "Que No. 7. Write a Python Program to check if a string contains any special character?\n",
    "\n",
    "Solution: \n",
    "          In this tutorial,we will learn to check if a string contains any special character using python. String in Python are           a sequence of character wrapped inside single, double, or triple quotes. The special character is a character that is           not an alphabet or number. Symbols, accent marks, and punctuation mark are considered special character.\n",
    "          [@_!#$%^&*()<>?/\\|{}~:]  some special characters.\n",
    "          "
   ]
  },
  {
   "cell_type": "code",
   "execution_count": 16,
   "id": "9e7d87ab",
   "metadata": {},
   "outputs": [
    {
     "name": "stdout",
     "output_type": "stream",
     "text": [
      "Hello15\n",
      "string is accepted\n"
     ]
    }
   ],
   "source": [
    "import re \n",
    "\n",
    "def find(string):\n",
    "    special_char=re.compile('[@_!$%^&*()/<>?/\\|}{~:]#')\n",
    "    \n",
    "    if special_char.search(string) == None:\n",
    "        return \"string is accepted\"\n",
    "    else:\n",
    "        return \"string not accpected\"\n",
    "    \n",
    "s=\"Hello15\"\n",
    "print(s)\n",
    "print(find(s))\n"
   ]
  },
  {
   "cell_type": "code",
   "execution_count": null,
   "id": "4a17b67f",
   "metadata": {},
   "outputs": [],
   "source": []
  },
  {
   "cell_type": "code",
   "execution_count": null,
   "id": "32907baf",
   "metadata": {},
   "outputs": [],
   "source": []
  }
 ],
 "metadata": {
  "kernelspec": {
   "display_name": "Python 3 (ipykernel)",
   "language": "python",
   "name": "python3"
  },
  "language_info": {
   "codemirror_mode": {
    "name": "ipython",
    "version": 3
   },
   "file_extension": ".py",
   "mimetype": "text/x-python",
   "name": "python",
   "nbconvert_exporter": "python",
   "pygments_lexer": "ipython3",
   "version": "3.9.12"
  }
 },
 "nbformat": 4,
 "nbformat_minor": 5
}
