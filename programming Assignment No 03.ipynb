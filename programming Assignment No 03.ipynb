{
 "cells": [
  {
   "cell_type": "code",
   "execution_count": null,
   "id": "cb2c37ec",
   "metadata": {},
   "outputs": [],
   "source": [
    "                            Programming Assignment No 03"
   ]
  },
  {
   "cell_type": "code",
   "execution_count": null,
   "id": "bf14e330",
   "metadata": {},
   "outputs": [],
   "source": []
  },
  {
   "cell_type": "code",
   "execution_count": 1,
   "id": "8062a625",
   "metadata": {},
   "outputs": [
    {
     "name": "stdout",
     "output_type": "stream",
     "text": [
      "Enter The Number: 4\n",
      "This Number is Postive\n"
     ]
    }
   ],
   "source": [
    "# Que 1. Write a Python Program to Check if a Number is Positive, Negative or Zero?\n",
    "\n",
    "a = float(input(\"Enter The Number: \"))\n",
    "\n",
    "if a == 0:\n",
    "    print(\"This Number is Zero\")\n",
    "elif a >0:\n",
    "    print(\"This Number is Postive\")\n",
    "else:\n",
    "    print(\"This Number is Negative\")\n",
    "        "
   ]
  },
  {
   "cell_type": "code",
   "execution_count": 2,
   "id": "c1a1fbc2",
   "metadata": {},
   "outputs": [
    {
     "name": "stdout",
     "output_type": "stream",
     "text": [
      "Enter The Number: -98\n",
      "-98.0 is Negative Number\n"
     ]
    }
   ],
   "source": [
    "\n",
    " def Check_number():\n",
    "     a = float(input(\"Enter The Number: \"))\n",
    "    \n",
    "     if a ==0:\n",
    "        print(\"This Number is Zero\")\n",
    "     elif a>0:\n",
    "        print(\"{} is Positive Number\".format(a))\n",
    "     else:\n",
    "        print(\"{} is Negative Number\".format(a))\n",
    "        \n",
    " Check_number()        "
   ]
  },
  {
   "cell_type": "code",
   "execution_count": null,
   "id": "13faf086",
   "metadata": {},
   "outputs": [],
   "source": []
  },
  {
   "cell_type": "code",
   "execution_count": 4,
   "id": "5d94c410",
   "metadata": {},
   "outputs": [
    {
     "name": "stdout",
     "output_type": "stream",
     "text": [
      "Enter Number: 99\n",
      "99.0 is Odd Number\n"
     ]
    }
   ],
   "source": [
    "# Que 2. Write a Python Program to Check if a Number is Odd or Even?\n",
    "\n",
    "a = float(input(\"Enter Number: \"))\n",
    "if a %2 == 0:\n",
    "    print(\"{} is Even Number\".format(a))\n",
    "else:\n",
    "    print(\"{} is Odd Number\".format(a))\n",
    "    "
   ]
  },
  {
   "cell_type": "code",
   "execution_count": 7,
   "id": "7cc69782",
   "metadata": {},
   "outputs": [
    {
     "name": "stdout",
     "output_type": "stream",
     "text": [
      "Enter Number: 48\n",
      "48.0 is Even Number\n"
     ]
    }
   ],
   "source": [
    " def Check_Even_Odd():\n",
    "     a = float(input(\"Enter Number: \"))\n",
    "\n",
    "     if a ==0:\n",
    "        print(\"This is Zero\")\n",
    "     elif a% 2 ==0:\n",
    "        print(\"{} is Even Number\".format(a))\n",
    "     else:\n",
    "        print(\"{} is Odd Number\".format(a))\n",
    "         \n",
    " Check_Even_Odd()            "
   ]
  },
  {
   "cell_type": "code",
   "execution_count": null,
   "id": "cc5a50f7",
   "metadata": {},
   "outputs": [],
   "source": []
  },
  {
   "cell_type": "code",
   "execution_count": 8,
   "id": "b4424e09",
   "metadata": {},
   "outputs": [
    {
     "name": "stdout",
     "output_type": "stream",
     "text": [
      "Choose year: 2020\n",
      "2020 is a Leap year\n"
     ]
    }
   ],
   "source": [
    "# Que 3. Write a Python Program to Check Leap Year?\n",
    "\n",
    "year = int(input(\"Choose year: \"))\n",
    "\n",
    "if year % 4 == 0:\n",
    "    print(\"{} is a Leap year\".format(year))\n",
    "else:\n",
    "    print(\"{} is not a Leap year\".format(year))\n",
    "    "
   ]
  },
  {
   "cell_type": "code",
   "execution_count": null,
   "id": "9c92fd8a",
   "metadata": {},
   "outputs": [],
   "source": []
  },
  {
   "cell_type": "code",
   "execution_count": 2,
   "id": "4ae9adc2",
   "metadata": {},
   "outputs": [
    {
     "name": "stdout",
     "output_type": "stream",
     "text": [
      "Enter Number: 97\n",
      "97 is prime number\n"
     ]
    }
   ],
   "source": [
    "# Que 4. Write a Python Program to Check Prime Number?\n",
    "\n",
    "num = int(input(\"Enter Number: \"))\n",
    "\n",
    "for i in range(2,num):\n",
    "    if num % i ==0:\n",
    "        print(\"{} is not a prime number\".format(num))\n",
    "        break\n",
    "else:\n",
    "    print(\"{} is prime number\".format(num))\n",
    "        "
   ]
  },
  {
   "cell_type": "code",
   "execution_count": null,
   "id": "5a75af6c",
   "metadata": {},
   "outputs": [],
   "source": []
  },
  {
   "cell_type": "code",
   "execution_count": 4,
   "id": "657647de",
   "metadata": {},
   "outputs": [
    {
     "name": "stdout",
     "output_type": "stream",
     "text": [
      "Enter first number: 1\n",
      "Enter Second Number: 100\n",
      "4 is not a prime number\n",
      "6 is not a prime number\n",
      "8 is not a prime number\n",
      "9 is not a prime number\n",
      "10 is not a prime number\n",
      "12 is not a prime number\n",
      "14 is not a prime number\n",
      "15 is not a prime number\n",
      "16 is not a prime number\n",
      "18 is not a prime number\n",
      "20 is not a prime number\n",
      "21 is not a prime number\n",
      "22 is not a prime number\n",
      "24 is not a prime number\n",
      "25 is not a prime number\n",
      "26 is not a prime number\n",
      "27 is not a prime number\n",
      "28 is not a prime number\n",
      "30 is not a prime number\n",
      "32 is not a prime number\n",
      "33 is not a prime number\n",
      "34 is not a prime number\n",
      "35 is not a prime number\n",
      "36 is not a prime number\n",
      "38 is not a prime number\n",
      "39 is not a prime number\n",
      "40 is not a prime number\n",
      "42 is not a prime number\n",
      "44 is not a prime number\n",
      "45 is not a prime number\n",
      "46 is not a prime number\n",
      "48 is not a prime number\n",
      "49 is not a prime number\n",
      "50 is not a prime number\n",
      "51 is not a prime number\n",
      "52 is not a prime number\n",
      "54 is not a prime number\n",
      "55 is not a prime number\n",
      "56 is not a prime number\n",
      "57 is not a prime number\n",
      "58 is not a prime number\n",
      "60 is not a prime number\n",
      "62 is not a prime number\n",
      "63 is not a prime number\n",
      "64 is not a prime number\n",
      "65 is not a prime number\n",
      "66 is not a prime number\n",
      "68 is not a prime number\n",
      "69 is not a prime number\n",
      "70 is not a prime number\n",
      "72 is not a prime number\n",
      "74 is not a prime number\n",
      "75 is not a prime number\n",
      "76 is not a prime number\n",
      "77 is not a prime number\n",
      "78 is not a prime number\n",
      "80 is not a prime number\n",
      "81 is not a prime number\n",
      "82 is not a prime number\n",
      "84 is not a prime number\n",
      "85 is not a prime number\n",
      "86 is not a prime number\n",
      "87 is not a prime number\n",
      "88 is not a prime number\n",
      "90 is not a prime number\n",
      "91 is not a prime number\n",
      "92 is not a prime number\n",
      "93 is not a prime number\n",
      "94 is not a prime number\n",
      "95 is not a prime number\n",
      "96 is not a prime number\n",
      "98 is not a prime number\n",
      "99 is not a prime number\n",
      "99 is a prime number\n"
     ]
    }
   ],
   "source": [
    "# Que 5. Write a Python Program to Print all Prime Numbers in an Interval of 1-10000?\n",
    "\n",
    "num_1 = int(input(\"Enter first number: \"))\n",
    "num_2 = int(input(\"Enter Second Number: \"))\n",
    "\n",
    "for num in range(num_1,num_2):\n",
    "    if num > 1:\n",
    "        for i in range(2,num):\n",
    "            if (num % i) ==0:\n",
    "                print(\"{} is not a prime number\".format(num))\n",
    "                break\n",
    "else:\n",
    "    print(\"{} is a prime number\".format(num))\n",
    "    \n",
    "    "
   ]
  },
  {
   "cell_type": "code",
   "execution_count": null,
   "id": "bc5a52d3",
   "metadata": {},
   "outputs": [],
   "source": []
  },
  {
   "cell_type": "code",
   "execution_count": null,
   "id": "a7ecdbdb",
   "metadata": {},
   "outputs": [],
   "source": []
  },
  {
   "cell_type": "code",
   "execution_count": null,
   "id": "93757fe5",
   "metadata": {},
   "outputs": [],
   "source": []
  }
 ],
 "metadata": {
  "kernelspec": {
   "display_name": "Python 3 (ipykernel)",
   "language": "python",
   "name": "python3"
  },
  "language_info": {
   "codemirror_mode": {
    "name": "ipython",
    "version": 3
   },
   "file_extension": ".py",
   "mimetype": "text/x-python",
   "name": "python",
   "nbconvert_exporter": "python",
   "pygments_lexer": "ipython3",
   "version": "3.9.12"
  }
 },
 "nbformat": 4,
 "nbformat_minor": 5
}
