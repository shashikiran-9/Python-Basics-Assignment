{
 "cells": [
  {
   "cell_type": "markdown",
   "id": "6083d736",
   "metadata": {},
   "source": [
    "                                     Assignment No :- 04 (Python Basic)"
   ]
  },
  {
   "cell_type": "code",
   "execution_count": null,
   "id": "5819bfd5",
   "metadata": {},
   "outputs": [],
   "source": []
  },
  {
   "cell_type": "markdown",
   "id": "91808b0e",
   "metadata": {},
   "source": [
    "Que1.  What exactly is []?\n",
    "\n",
    "Ans:   The empty list represented by [] is a list that contains no items. This is similar to '' which respresents an empty string Generally a list is defined as x = []  This defines the empty list"
   ]
  },
  {
   "cell_type": "code",
   "execution_count": 1,
   "id": "bcec7c2f",
   "metadata": {},
   "outputs": [
    {
     "data": {
      "text/plain": [
       "list"
      ]
     },
     "execution_count": 1,
     "metadata": {},
     "output_type": "execute_result"
    }
   ],
   "source": [
    "x=[]\n",
    "type(x)"
   ]
  },
  {
   "cell_type": "code",
   "execution_count": null,
   "id": "d619efaf",
   "metadata": {},
   "outputs": [],
   "source": []
  },
  {
   "cell_type": "markdown",
   "id": "b16bdfa3",
   "metadata": {},
   "source": [
    "Que2.  In a list of values stored in a variable called spam, how would you assign the value 'hello' as the\n",
    "       third value? (Assume [2, 4, 6, 8, 10] are in spam.)\n",
    "       \n"
   ]
  },
  {
   "cell_type": "code",
   "execution_count": 3,
   "id": "d90d4fba",
   "metadata": {},
   "outputs": [
    {
     "name": "stdout",
     "output_type": "stream",
     "text": [
      "[2, 4, 6, 8, 10]\n",
      "[2, 4, 'Hello', 8, 10]\n"
     ]
    }
   ],
   "source": [
    "  # Solution :-\n",
    "    \n",
    "  spam = [2,4,6,8,10]\n",
    "  print(spam)\n",
    "  spam[2] = 'Hello'  ## Index start from zero\n",
    "    \n",
    "  print(spam)"
   ]
  },
  {
   "cell_type": "markdown",
   "id": "869ba5df",
   "metadata": {},
   "source": [
    "           As the list index starts with 0 \n",
    "           So to change the third value we have use 2 as the index value\n",
    "           Also since list are  mutable in nature, the values of the list can be changed once defined\n",
    "           "
   ]
  },
  {
   "cell_type": "code",
   "execution_count": null,
   "id": "f8cf7336",
   "metadata": {},
   "outputs": [],
   "source": []
  },
  {
   "cell_type": "markdown",
   "id": "881796f2",
   "metadata": {},
   "source": [
    "       Let's pretend the spam includes the list ['a','b','c','d'] for the next three queries."
   ]
  },
  {
   "cell_type": "code",
   "execution_count": null,
   "id": "f2b79f57",
   "metadata": {},
   "outputs": [],
   "source": []
  },
  {
   "cell_type": "markdown",
   "id": "910afd54",
   "metadata": {},
   "source": [
    "Que3.  What is the value of spam[int(int('3'*2)/11)]?"
   ]
  },
  {
   "cell_type": "code",
   "execution_count": 3,
   "id": "74287a92",
   "metadata": {},
   "outputs": [
    {
     "data": {
      "text/plain": [
       "'d'"
      ]
     },
     "execution_count": 3,
     "metadata": {},
     "output_type": "execute_result"
    }
   ],
   "source": [
    "  # Solution :-\n",
    "    \n",
    "  spam = ['a','b','c','d']\n",
    "    \n",
    "  spam[int(int('3' * 2) / 11)]"
   ]
  },
  {
   "cell_type": "code",
   "execution_count": null,
   "id": "8f66808b",
   "metadata": {},
   "outputs": [],
   "source": []
  },
  {
   "cell_type": "markdown",
   "id": "363515a9",
   "metadata": {},
   "source": [
    "Que4.  What is the value of spam[-1]?"
   ]
  },
  {
   "cell_type": "code",
   "execution_count": 5,
   "id": "66e46264",
   "metadata": {},
   "outputs": [
    {
     "name": "stdout",
     "output_type": "stream",
     "text": [
      "spam[-1] -> d\n"
     ]
    }
   ],
   "source": [
    " # Solution :-\n",
    "    \n",
    " spam = ['a','b','c','d']\n",
    " print('spam[-1] ->' , spam[-1])  # -1 index returns last item 0f the list"
   ]
  },
  {
   "cell_type": "code",
   "execution_count": null,
   "id": "d8804b80",
   "metadata": {},
   "outputs": [],
   "source": []
  },
  {
   "cell_type": "markdown",
   "id": "20604819",
   "metadata": {},
   "source": [
    "Que5.   What is the value of spam[:2]?\n"
   ]
  },
  {
   "cell_type": "code",
   "execution_count": 6,
   "id": "67bbb1e7",
   "metadata": {},
   "outputs": [
    {
     "name": "stdout",
     "output_type": "stream",
     "text": [
      "spam[-1] -> ['a', 'b']\n"
     ]
    }
   ],
   "source": [
    " # Solution :-\n",
    "\n",
    " spam = ['a','b','c','d']\n",
    " print('spam[-1] ->', spam[:2]) ### This means it will start from 0 index && got upto specified index-1"
   ]
  },
  {
   "cell_type": "code",
   "execution_count": null,
   "id": "a5de147f",
   "metadata": {},
   "outputs": [],
   "source": []
  },
  {
   "cell_type": "markdown",
   "id": "f9f35ef2",
   "metadata": {},
   "source": [
    "    Let's pretend bacon has the list [3.14, 'cat', '11', 'cat',True] for the next three questions."
   ]
  },
  {
   "cell_type": "code",
   "execution_count": null,
   "id": "d8be4b63",
   "metadata": {},
   "outputs": [],
   "source": []
  },
  {
   "cell_type": "markdown",
   "id": "53a162d6",
   "metadata": {},
   "source": [
    "Que6.  What is the value of bacon.index('cat')?\n"
   ]
  },
  {
   "cell_type": "code",
   "execution_count": 7,
   "id": "6e23bd09",
   "metadata": {},
   "outputs": [
    {
     "data": {
      "text/plain": [
       "1"
      ]
     },
     "execution_count": 7,
     "metadata": {},
     "output_type": "execute_result"
    }
   ],
   "source": [
    " # Solution :-\n",
    "    \n",
    " bacon = [3.14, 'cat', '11', 'cat', True]   \n",
    " bacon.index('cat') # This will only the first index where the value is found"
   ]
  },
  {
   "cell_type": "code",
   "execution_count": null,
   "id": "46200d5a",
   "metadata": {},
   "outputs": [],
   "source": []
  },
  {
   "cell_type": "markdown",
   "id": "a51de04c",
   "metadata": {},
   "source": [
    "Que7.   How does bacon.append(99) change the look of the list value in bacon?\n",
    "\n",
    " Ans:   When an append operation is perfomed on the list, the value will be added to the last index of the list\n",
    " "
   ]
  },
  {
   "cell_type": "code",
   "execution_count": 8,
   "id": "ccc48543",
   "metadata": {},
   "outputs": [
    {
     "data": {
      "text/plain": [
       "[3.14, 'cat', '11', 'cat', True, 99]"
      ]
     },
     "execution_count": 8,
     "metadata": {},
     "output_type": "execute_result"
    }
   ],
   "source": [
    " bacon.append(99)\n",
    " bacon   "
   ]
  },
  {
   "cell_type": "code",
   "execution_count": null,
   "id": "9ff6043a",
   "metadata": {},
   "outputs": [],
   "source": []
  },
  {
   "cell_type": "markdown",
   "id": "6d498ca1",
   "metadata": {},
   "source": [
    "Que8.  How does bacon.remove('cat') change the look of the list in bacon?\n"
   ]
  },
  {
   "cell_type": "code",
   "execution_count": 9,
   "id": "6001416b",
   "metadata": {},
   "outputs": [
    {
     "data": {
      "text/plain": [
       "[3.14, '11', 'cat', True, 99]"
      ]
     },
     "execution_count": 9,
     "metadata": {},
     "output_type": "execute_result"
    }
   ],
   "source": [
    " # Solution :-\n",
    "    \n",
    " # This will remove the first instant of the cat element from the list \n",
    " \n",
    " bacon.remove('cat')\n",
    "\n",
    " bacon"
   ]
  },
  {
   "cell_type": "code",
   "execution_count": null,
   "id": "bba8c8b4",
   "metadata": {},
   "outputs": [],
   "source": []
  },
  {
   "cell_type": "markdown",
   "id": "d903004d",
   "metadata": {},
   "source": [
    "Que9.   What are the list concatenation and list replication operators?\n",
    "\n",
    "Ans:    List concatenation opertor represted by + operator \n",
    "        List replication operatotor represted by * operator\n",
    "        "
   ]
  },
  {
   "cell_type": "code",
   "execution_count": 1,
   "id": "d646fa71",
   "metadata": {},
   "outputs": [
    {
     "data": {
      "text/plain": [
       "[1, 2, 3, 4, 5, 6, 7, 8, 9, 10]"
      ]
     },
     "execution_count": 1,
     "metadata": {},
     "output_type": "execute_result"
    }
   ],
   "source": [
    "\n",
    " list1 = [1,2,3,4,5]\n",
    " list2 = [6,7,8,9,10]\n",
    "\n",
    " # List Concatentation\n",
    " a = list1 + list2\n",
    " a"
   ]
  },
  {
   "cell_type": "code",
   "execution_count": 2,
   "id": "92c0eafe",
   "metadata": {},
   "outputs": [
    {
     "data": {
      "text/plain": [
       "[1, 2, 3, 4, 5, 1, 2, 3, 4, 5]"
      ]
     },
     "execution_count": 2,
     "metadata": {},
     "output_type": "execute_result"
    }
   ],
   "source": [
    " \n",
    "    # List Replication \n",
    "     \n",
    "    b = list1 * 2\n",
    "    b"
   ]
  },
  {
   "cell_type": "code",
   "execution_count": null,
   "id": "2099cf7e",
   "metadata": {},
   "outputs": [],
   "source": []
  },
  {
   "cell_type": "markdown",
   "id": "d85860bb",
   "metadata": {},
   "source": [
    "Que10.  What is difference between the list methods append() and insert()?\n",
    "\n",
    "Ans:    \n",
    "         Append() :  is used for adding the new element to the list  AT THE LAST POSITION OF THE LIST \n",
    "         Insert() :  is used for adding the new element to the list  AT THE SPECIFIED POSITION/ INDEX IN THE LIST \n",
    "         "
   ]
  },
  {
   "cell_type": "code",
   "execution_count": 4,
   "id": "2dab168c",
   "metadata": {},
   "outputs": [
    {
     "data": {
      "text/plain": [
       "[1, 2, 3, 4, 5, 'Hello!!']"
      ]
     },
     "execution_count": 4,
     "metadata": {},
     "output_type": "execute_result"
    }
   ],
   "source": [
    " \n",
    "    # Append Operation\n",
    "    \n",
    "    list1 = [1,2,3,4,5]\n",
    "    list1.append('Hello!!')\n",
    "    list1"
   ]
  },
  {
   "cell_type": "code",
   "execution_count": 7,
   "id": "0b84ce26",
   "metadata": {},
   "outputs": [
    {
     "data": {
      "text/plain": [
       "[1, 'hello1', 2, 3, 4, 5]"
      ]
     },
     "execution_count": 7,
     "metadata": {},
     "output_type": "execute_result"
    }
   ],
   "source": [
    "\n",
    "  # INSERT OPERATION\n",
    "    \n",
    "  list1 = [1,2,3,4,5]\n",
    "    \n",
    "  list1.insert(1,'hello1') #Since the index starts from 0 its has added/inserted value to the 2nd position or the list index \n",
    "  list1"
   ]
  },
  {
   "cell_type": "code",
   "execution_count": null,
   "id": "fa97c5e1",
   "metadata": {},
   "outputs": [],
   "source": []
  },
  {
   "cell_type": "markdown",
   "id": "e40bda4a",
   "metadata": {},
   "source": [
    "Que11.  What are the two methods for removing items from a list?\n",
    "\n",
    "Ans:    POP() :  Removes the list element from the list \n",
    "\n",
    "        REMOVE() : Removes the first occurance of the specified element \n",
    "        "
   ]
  },
  {
   "cell_type": "code",
   "execution_count": 1,
   "id": "6f3c952c",
   "metadata": {},
   "outputs": [
    {
     "data": {
      "text/plain": [
       "[1, 2, 3, 4]"
      ]
     },
     "execution_count": 1,
     "metadata": {},
     "output_type": "execute_result"
    }
   ],
   "source": [
    "   \n",
    "    ## Pop Method \n",
    "    \n",
    "    list1 = [1,2,3,4,5]\n",
    "    \n",
    "    list1.pop()\n",
    "    \n",
    "    list1"
   ]
  },
  {
   "cell_type": "code",
   "execution_count": 2,
   "id": "463467d9",
   "metadata": {},
   "outputs": [
    {
     "data": {
      "text/plain": [
       "[1, 2, 3, 5, 4, 3, 2, 1]"
      ]
     },
     "execution_count": 2,
     "metadata": {},
     "output_type": "execute_result"
    }
   ],
   "source": [
    "  \n",
    "    ## Remove Method \n",
    "    \n",
    "    list1 = [1,2,3,4,5,4,3,2,1]\n",
    "    \n",
    "    list1.remove(4)\n",
    "    \n",
    "    list1"
   ]
  },
  {
   "cell_type": "code",
   "execution_count": null,
   "id": "98b82189",
   "metadata": {},
   "outputs": [],
   "source": []
  },
  {
   "cell_type": "code",
   "execution_count": null,
   "id": "23a8388b",
   "metadata": {},
   "outputs": [],
   "source": [
    "Que12.  Describe how list values and string values are identical.\n",
    "\n",
    "Ans:    Below are some reasons how list values and string values are identical :\n",
    "        \n",
    "        1. Both lists and strings can be passed to len() function \n",
    "        \n",
    "        2. Have indexes and slices, be used in for loops,\n",
    "        \n",
    "        3. Can be concatenated or replicated\n",
    "        \n",
    "        4. Can be used with the in and not in operators.\n",
    "        \n",
    "        "
   ]
  },
  {
   "cell_type": "code",
   "execution_count": null,
   "id": "99338a7b",
   "metadata": {},
   "outputs": [],
   "source": []
  },
  {
   "cell_type": "markdown",
   "id": "df665b70",
   "metadata": {},
   "source": [
    "Que13.  What's the difference between tuples and lists?\n",
    "\n",
    "Ans:    \n",
    "        1. List are mutable\n",
    "            Mutable --> Once defined can be change over the periodnof time values can be added, remove and changed \n",
    "            \n",
    "            Tuples are immutable \n",
    "            \n",
    "             Immutable --> Once defined cannot be change over the period of time \n",
    "             \n",
    "        2. List consume more memory to stored data as they are mutable \n",
    "        \n",
    "             Tuples consumes less memory"
   ]
  },
  {
   "cell_type": "code",
   "execution_count": null,
   "id": "d649ee60",
   "metadata": {},
   "outputs": [],
   "source": []
  },
  {
   "cell_type": "markdown",
   "id": "211f0ca5",
   "metadata": {},
   "source": [
    "Que 14.  How do you type a tuple value that only contains the integer 42?\n",
    "\n",
    "Ans:\n",
    "         (42,) (The trailing comma is mandatory. otherwise its considered as a int by python Interpreter)\n",
    "        "
   ]
  },
  {
   "cell_type": "code",
   "execution_count": 1,
   "id": "fa5331e5",
   "metadata": {},
   "outputs": [
    {
     "name": "stdout",
     "output_type": "stream",
     "text": [
      "<class 'int'>\n",
      "<class 'tuple'>\n"
     ]
    }
   ],
   "source": [
    "    \n",
    "    tup1 = (42)\n",
    "    tup2 = (42,)\n",
    "    print(type (tup1))\n",
    "    print(type (tup2))"
   ]
  },
  {
   "cell_type": "code",
   "execution_count": null,
   "id": "e775415f",
   "metadata": {},
   "outputs": [],
   "source": []
  },
  {
   "cell_type": "markdown",
   "id": "4bc1ae62",
   "metadata": {},
   "source": [
    "Que 15.  How do you get a list value's tuple form? How do you get a tuple value's list form?\n",
    "\n",
    "Ans:   \n",
    "          Python has a built-in funcation as list() and tuple() \n",
    "          Using this we can get each and every value\n",
    "          "
   ]
  },
  {
   "cell_type": "code",
   "execution_count": 2,
   "id": "45277110",
   "metadata": {},
   "outputs": [
    {
     "name": "stdout",
     "output_type": "stream",
     "text": [
      "<class 'tuple'>\n"
     ]
    },
    {
     "data": {
      "text/plain": [
       "(1, 2, 3, 4, 5, 6)"
      ]
     },
     "execution_count": 2,
     "metadata": {},
     "output_type": "execute_result"
    }
   ],
   "source": [
    " \n",
    "    # List --> Tuple\n",
    "    a_list = [1,2,3,4,5,6]\n",
    "    \n",
    "    a_tuple = tuple(a_list)\n",
    "    \n",
    "    print(type(a_tuple))\n",
    "    a_tuple"
   ]
  },
  {
   "cell_type": "code",
   "execution_count": 4,
   "id": "e4e79426",
   "metadata": {},
   "outputs": [
    {
     "name": "stdout",
     "output_type": "stream",
     "text": [
      "<class 'list'>\n"
     ]
    },
    {
     "data": {
      "text/plain": [
       "[1, 2, 3, 4, 5, 6]"
      ]
     },
     "execution_count": 4,
     "metadata": {},
     "output_type": "execute_result"
    }
   ],
   "source": [
    "\n",
    "  # Tuple --> List\n",
    "  a_tuple = (1,2,3,4,5,6)\n",
    "    \n",
    "  a_list = list(a_tuple)\n",
    "   \n",
    "  print(type(a_list))\n",
    "  a_list"
   ]
  },
  {
   "cell_type": "code",
   "execution_count": null,
   "id": "660d3509",
   "metadata": {},
   "outputs": [],
   "source": []
  },
  {
   "cell_type": "markdown",
   "id": "0d2f888b",
   "metadata": {},
   "source": [
    "Que 16.  Variables that \"contain\" list values are not necessarily lists themselves. Instead, what do they contain?\n",
    "\n",
    "Ans:     \n",
    "          Variables will contain the references to list values.\n",
    "          "
   ]
  },
  {
   "cell_type": "code",
   "execution_count": null,
   "id": "7deaf4cd",
   "metadata": {},
   "outputs": [],
   "source": []
  },
  {
   "cell_type": "markdown",
   "id": "b0132f4b",
   "metadata": {},
   "source": [
    "Que 17.  How do you distinguish between copy.copy() and copy.deepcopy()?\n",
    " \n",
    "Ans:     Copy.Copy() :\n",
    "                       Will create a new instance But the reference / address for the new the newly_created instance and the                          existing instance will be the same.\n",
    "                       \n",
    "         Copy.deepcopy() :\n",
    "                          Will create a new instance AND the referance / address for the new the newly_created instance and the                           existing instance will be the different. "
   ]
  },
  {
   "cell_type": "code",
   "execution_count": null,
   "id": "3be8e99a",
   "metadata": {},
   "outputs": [],
   "source": []
  }
 ],
 "metadata": {
  "kernelspec": {
   "display_name": "Python 3 (ipykernel)",
   "language": "python",
   "name": "python3"
  },
  "language_info": {
   "codemirror_mode": {
    "name": "ipython",
    "version": 3
   },
   "file_extension": ".py",
   "mimetype": "text/x-python",
   "name": "python",
   "nbconvert_exporter": "python",
   "pygments_lexer": "ipython3",
   "version": "3.9.12"
  }
 },
 "nbformat": 4,
 "nbformat_minor": 5
}
