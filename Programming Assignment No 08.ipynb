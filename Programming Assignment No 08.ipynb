{
 "cells": [
  {
   "cell_type": "markdown",
   "id": "6d77a4ea",
   "metadata": {},
   "source": [
    "                             Programming Assignment No. 08"
   ]
  },
  {
   "cell_type": "code",
   "execution_count": null,
   "id": "b99b4af6",
   "metadata": {},
   "outputs": [],
   "source": []
  },
  {
   "cell_type": "markdown",
   "id": "fdbb6456",
   "metadata": {},
   "source": [
    "Que No. 1. Write a Python Program to Add Two Matrices?\n"
   ]
  },
  {
   "cell_type": "code",
   "execution_count": 4,
   "id": "9e8f3a56",
   "metadata": {},
   "outputs": [
    {
     "name": "stdout",
     "output_type": "stream",
     "text": [
      "[2, 4, 6]\n",
      "[8, 10, 12]\n",
      "[14, 16, 18]\n"
     ]
    }
   ],
   "source": [
    "x = [[1,2,3],\n",
    "    [4,5,6],\n",
    "    [7,8,9]]\n",
    "\n",
    "y = [[1,2,3],\n",
    "    [4,5,6],\n",
    "    [7,8,9]]\n",
    "\n",
    "output = [[0,0,0],\n",
    "         [0,0,0],\n",
    "         [0,0,0]]\n",
    "\n",
    "\n",
    "for i in range(len(x)):\n",
    "# iterate through columns\n",
    "    for j in range (len(x[0])):\n",
    "        output[i][j] = x[i][j] + y[i][j]\n",
    "        \n",
    "for r in output:\n",
    "    print(r)\n",
    "    "
   ]
  },
  {
   "cell_type": "code",
   "execution_count": 5,
   "id": "04167f36",
   "metadata": {},
   "outputs": [
    {
     "name": "stdout",
     "output_type": "stream",
     "text": [
      " First Matrix is \n",
      "[[1 2 3]\n",
      " [4 5 6]\n",
      " [7 8 9]] \n",
      " Second Matrix is \n",
      "[[1 2 3]\n",
      " [4 5 6]\n",
      " [7 8 9]] \n",
      "Output is \n",
      "[[ 2  4  6]\n",
      " [ 8 10 12]\n",
      " [14 16 18]] \n"
     ]
    }
   ],
   "source": [
    "import numpy as np\n",
    "\n",
    "x = np.array([[1,2,3],[4,5,6],[7,8,9]])\n",
    "\n",
    "y = np.array([[1,2,3],[4,5,6],[7,8,9]])\n",
    "\n",
    "output = np.add(x,y)\n",
    "\n",
    "print(\" First Matrix is \\n{} \\n Second Matrix is \\n{} \\nOutput is \\n{} \".format(x,y,output))\n"
   ]
  },
  {
   "cell_type": "code",
   "execution_count": null,
   "id": "36463551",
   "metadata": {},
   "outputs": [],
   "source": []
  },
  {
   "cell_type": "markdown",
   "id": "7efab847",
   "metadata": {},
   "source": [
    "Que No. 2. Write a Python Program to Multiply Two Matrices?\n"
   ]
  },
  {
   "cell_type": "code",
   "execution_count": 14,
   "id": "ca5363a1",
   "metadata": {},
   "outputs": [
    {
     "name": "stdout",
     "output_type": "stream",
     "text": [
      "[1, 4, 9]\n",
      "[16, 25, 36]\n",
      "[49, 64, 81]\n"
     ]
    }
   ],
   "source": [
    "x = [[1,2,3],\n",
    "    [4,5,6],\n",
    "    [7,8,9]]\n",
    "\n",
    "y = [[1,2,3],\n",
    "    [4,5,6],\n",
    "    [7,8,9]]\n",
    "\n",
    "output = [[0,0,0],\n",
    "         [0,0,0],\n",
    "         [0,0,0]]\n",
    "\n",
    "for i in range(len(x)):\n",
    "# iterate through columns\n",
    "    for j in range(len(x[0])):\n",
    "        output[i][j] = x[i][j] * y[i][j]\n",
    "    \n",
    "for r in output:\n",
    "    print(r)\n",
    "    "
   ]
  },
  {
   "cell_type": "code",
   "execution_count": 15,
   "id": "c2d83085",
   "metadata": {},
   "outputs": [
    {
     "name": "stdout",
     "output_type": "stream",
     "text": [
      " First Matrix is \n",
      "[[1 2 3]\n",
      " [4 5 6]\n",
      " [7 8 9]] \n",
      " Second Matrix is \n",
      "[[1 2 3]\n",
      " [4 5 6]\n",
      " [7 8 9]] \n",
      "Output is \\[[ 1  4  9]\n",
      " [16 25 36]\n",
      " [49 64 81]] \n"
     ]
    }
   ],
   "source": [
    "import numpy as np \n",
    "\n",
    "x = np.array([[1,2,3],[4,5,6],[7,8,9]])\n",
    "\n",
    "y = np.array([[1,2,3],[4,5,6],[7,8,9]])\n",
    "\n",
    "output = np.multiply(x,y)\n",
    "\n",
    "print(\" First Matrix is \\n{} \\n Second Matrix is \\n{} \\nOutput is \\{} \".format(x,y,output))\n",
    "\n"
   ]
  },
  {
   "cell_type": "code",
   "execution_count": null,
   "id": "237cb62f",
   "metadata": {},
   "outputs": [],
   "source": []
  },
  {
   "cell_type": "markdown",
   "id": "01bcc4e1",
   "metadata": {},
   "source": [
    "Que No. 3. Write a Python Program to Transpose a Matrix?\n"
   ]
  },
  {
   "cell_type": "code",
   "execution_count": 18,
   "id": "f9de97ef",
   "metadata": {},
   "outputs": [
    {
     "name": "stdout",
     "output_type": "stream",
     "text": [
      "[[1, 4], [2, 5], [3, 6]]\n"
     ]
    }
   ],
   "source": [
    "A = [[1,2,3],\n",
    "    [4,5,6]]\n",
    "\n",
    "C = [[0,0],\n",
    "    [0,0],\n",
    "    [0,0]]\n",
    "\n",
    "for i in range(len(A)):\n",
    "    for j in range(len(A[0])):\n",
    "        C[j][i] = A[i][j]\n",
    "        \n",
    "print(C)\n"
   ]
  },
  {
   "cell_type": "code",
   "execution_count": 20,
   "id": "e158a550",
   "metadata": {},
   "outputs": [
    {
     "name": "stdout",
     "output_type": "stream",
     "text": [
      "Input Matrix is \n",
      "[[1 2 3]\n",
      " [4 5 6]\n",
      " [7 8 9]] \n",
      "Transpone Matrix is \n",
      "[[1 4 7]\n",
      " [2 5 8]\n",
      " [3 6 9]]\n"
     ]
    }
   ],
   "source": [
    "import numpy as np\n",
    "\n",
    "x = np.array([[1,2,3],[4,5,6],[7,8,9]])\n",
    "\n",
    "output = np.transpose(x)\n",
    "\n",
    "print(\"Input Matrix is \\n{} \\nTranspone Matrix is \\n{}\".format(x,output))\n"
   ]
  },
  {
   "cell_type": "code",
   "execution_count": null,
   "id": "d2ab07b4",
   "metadata": {},
   "outputs": [],
   "source": []
  },
  {
   "cell_type": "markdown",
   "id": "10fca831",
   "metadata": {},
   "source": [
    "Que No. 4. Write a Python Program to Sort Words in Alphabetic Order?\n"
   ]
  },
  {
   "cell_type": "code",
   "execution_count": 22,
   "id": "f8b03048",
   "metadata": {},
   "outputs": [
    {
     "name": "stdout",
     "output_type": "stream",
     "text": [
      "Enter input string: my name is rajeshree\n",
      "is\n",
      "my\n",
      "name\n",
      "rajeshree\n"
     ]
    }
   ],
   "source": [
    "str_words = input(\"Enter input string: \")\n",
    "\n",
    "words = str_words.split()\n",
    "words.sort()\n",
    "for word in words:\n",
    "    print(word)\n",
    "    "
   ]
  },
  {
   "cell_type": "code",
   "execution_count": 24,
   "id": "3699dc71",
   "metadata": {},
   "outputs": [
    {
     "name": "stdout",
     "output_type": "stream",
     "text": [
      "Enter a String: my name is rajeshree\n",
      "Is My Name Rajeshree\n"
     ]
    }
   ],
   "source": [
    "def sortString():\n",
    "    string = input(\"Enter a String: \").title()\n",
    "    sorted_list = sorted(string.split(' '))\n",
    "    print(' '.join(sorted_list))\n",
    "    \n",
    "sortString()\n"
   ]
  },
  {
   "cell_type": "code",
   "execution_count": null,
   "id": "3c13dfd6",
   "metadata": {},
   "outputs": [],
   "source": []
  },
  {
   "cell_type": "markdown",
   "id": "4566bfbc",
   "metadata": {},
   "source": [
    "Que No. 5. Write a Python Program to Remove Punctuation From a String?\n"
   ]
  },
  {
   "cell_type": "code",
   "execution_count": 29,
   "id": "af11c9c2",
   "metadata": {},
   "outputs": [
    {
     "name": "stdout",
     "output_type": "stream",
     "text": [
      "Enter a String with punctuationsMy name is @Rajeshree\n",
      "My name is Rajeshree\n"
     ]
    }
   ],
   "source": [
    "punctuations = '''!()-[]{};:'\"\\,<>,/?@#$%^&*_~'''\n",
    "\n",
    "Arr  = input(\"Enter a String with punctuations\")\n",
    "\n",
    "\n",
    "rem_punc = \"\"\n",
    "for i in Arr:\n",
    "    if i not in punctuations:\n",
    "        rem_punc = rem_punc + i\n",
    "        \n",
    "# display \n",
    "print(rem_punc)\n"
   ]
  },
  {
   "cell_type": "code",
   "execution_count": null,
   "id": "211f99e8",
   "metadata": {},
   "outputs": [],
   "source": []
  },
  {
   "cell_type": "code",
   "execution_count": null,
   "id": "5db2ade6",
   "metadata": {},
   "outputs": [],
   "source": []
  }
 ],
 "metadata": {
  "kernelspec": {
   "display_name": "Python 3 (ipykernel)",
   "language": "python",
   "name": "python3"
  },
  "language_info": {
   "codemirror_mode": {
    "name": "ipython",
    "version": 3
   },
   "file_extension": ".py",
   "mimetype": "text/x-python",
   "name": "python",
   "nbconvert_exporter": "python",
   "pygments_lexer": "ipython3",
   "version": "3.9.12"
  }
 },
 "nbformat": 4,
 "nbformat_minor": 5
}
