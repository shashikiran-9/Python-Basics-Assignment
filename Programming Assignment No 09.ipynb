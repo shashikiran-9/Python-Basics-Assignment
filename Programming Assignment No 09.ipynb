{
 "cells": [
  {
   "cell_type": "markdown",
   "id": "fe224172",
   "metadata": {},
   "source": [
    "                           Programming Assignment No 09"
   ]
  },
  {
   "cell_type": "code",
   "execution_count": null,
   "id": "db62ec10",
   "metadata": {},
   "outputs": [],
   "source": []
  },
  {
   "cell_type": "markdown",
   "id": "3fdbb194",
   "metadata": {},
   "source": [
    "Que No. 1. Write a Python program to check if the given number is a Disarium Number?\n",
    "\n",
    "Solution: \n",
    "          A number is said to be the Disarium number when the sum of its digit raised to the power of their respective                   positions becomes equal to the number itself.\n",
    "          \n",
    "          For example, 175 is a Disarium number as Follows:\n",
    "          \n",
    "          11+72+53=1+49+125=175\n",
    "          "
   ]
  },
  {
   "cell_type": "code",
   "execution_count": 1,
   "id": "a8d861fa",
   "metadata": {},
   "outputs": [
    {
     "name": "stdout",
     "output_type": "stream",
     "text": [
      "Enter Disarium Number is: 25\n",
      "Disarium number is  False\n"
     ]
    }
   ],
   "source": [
    "def disarium_num(num):\n",
    "    temp = 0\n",
    "    for i in range (len(str(num))):\n",
    "        temp = temp + int(str(num)[i]) ** (i+1)\n",
    "    return temp == num\n",
    "\n",
    "num = int(input(\"Enter Disarium Number is: \"))\n",
    "\n",
    "print(\"Disarium number is \",disarium_num(num))\n"
   ]
  },
  {
   "cell_type": "code",
   "execution_count": 2,
   "id": "763bfeb9",
   "metadata": {},
   "outputs": [
    {
     "name": "stdout",
     "output_type": "stream",
     "text": [
      "Enter Disarium Number is: 89\n",
      "89 is a disarium number\n"
     ]
    }
   ],
   "source": [
    "def disarium_number():\n",
    "    \n",
    "    temp = 0 \n",
    "    for i in range(len(num)):\n",
    "        temp = temp + int((num)[i]) ** (i+1)\n",
    "        \n",
    "    if temp ==int(num):\n",
    "        print(\"{} is a disarium number\".format(num))\n",
    "    else:\n",
    "        print(\"{} is not a disarium number\".format(num))\n",
    "num = input(\"Enter Disarium Number is: \") \n",
    "\n",
    "disarium_number()\n"
   ]
  },
  {
   "cell_type": "code",
   "execution_count": null,
   "id": "f0d07f6d",
   "metadata": {},
   "outputs": [],
   "source": []
  },
  {
   "cell_type": "markdown",
   "id": "f25063ce",
   "metadata": {},
   "source": [
    "Que No. 2. Write a Python program to print all disarium numbers between 1 to 100?\n"
   ]
  },
  {
   "cell_type": "code",
   "execution_count": 3,
   "id": "d323f112",
   "metadata": {},
   "outputs": [
    {
     "name": "stdout",
     "output_type": "stream",
     "text": [
      "Enter Start Number: 1\n",
      "Enter end Number: 100\n"
     ]
    },
    {
     "data": {
      "text/plain": [
       "[1, 2, 3, 4, 5, 6, 7, 8, 9, 89]"
      ]
     },
     "execution_count": 3,
     "metadata": {},
     "output_type": "execute_result"
    }
   ],
   "source": [
    "def DisariumNumbers():\n",
    "    start = int(input(\"Enter Start Number: \"))\n",
    "    end = int(input(\"Enter end Number: \"))\n",
    "    \n",
    "    output_num = []\n",
    "    for number in range(start,end+1):\n",
    "        sum = 0\n",
    "        for item in range (len(str(number))):\n",
    "            sum = sum + int(str(number)[item]) ** (item+1)\n",
    "        if sum == number:\n",
    "            output_num.append(number)\n",
    "    return output_num\n",
    "\n",
    "DisariumNumbers()\n"
   ]
  },
  {
   "cell_type": "code",
   "execution_count": null,
   "id": "86644694",
   "metadata": {},
   "outputs": [],
   "source": []
  },
  {
   "cell_type": "markdown",
   "id": "08d8f5ce",
   "metadata": {},
   "source": [
    "Que No. 3. Write a Python program to check if the given number is Happy Number?\n",
    "\n",
    "Solution:\n",
    "          A number is said to be happy if it yields 1 when replaced by the sum of squences of its digits repeatedly. if this             process results in an endless cycle of numbers containing 4, then the number will be an unhappy number.\n",
    "          Let's understand by an exmple:\n",
    "          Number = 32 3^2+2^2=13 1^2+3^2=10 1^2+0^2=1\n",
    "          \n",
    "          In this example, we split 32 to get the sum of squences of its digits which forms another number (13), We replance 32           by 13 to continue this cycle until result 1. We found 32 a happy number.\n",
    "          \n",
    "          "
   ]
  },
  {
   "cell_type": "code",
   "execution_count": 1,
   "id": "af3dcb20",
   "metadata": {},
   "outputs": [
    {
     "data": {
      "text/plain": [
       "True"
      ]
     },
     "execution_count": 1,
     "metadata": {},
     "output_type": "execute_result"
    }
   ],
   "source": [
    "def is_Happy_num(n):\n",
    "    past = set()\n",
    "    while n != 1:\n",
    "        n = sum(int(i) ** 2 for i in str(n))\n",
    "        if n in past:\n",
    "            return False \n",
    "        past.add(n)\n",
    "    return True \n",
    "is_Happy_num(7)\n"
   ]
  },
  {
   "cell_type": "code",
   "execution_count": null,
   "id": "b23d8b05",
   "metadata": {},
   "outputs": [],
   "source": []
  },
  {
   "cell_type": "code",
   "execution_count": 1,
   "id": "8034f090",
   "metadata": {},
   "outputs": [
    {
     "name": "stdout",
     "output_type": "stream",
     "text": [
      "Enter the number: 32\n",
      "32 Is a Happy Number\n"
     ]
    }
   ],
   "source": [
    "def Happy(num):\n",
    "    sum = 0 \n",
    "    while(num>0):\n",
    "        dig = num%10\n",
    "        sum= sum + dig**2\n",
    "        num= num//10\n",
    "    return sum\n",
    "\n",
    "num = int(input(\"Enter the number: \"))\n",
    "result = num\n",
    "\n",
    "while (result != 1 and result != 4):\n",
    "    result = Happy(result)\n",
    "    \n",
    "if result == 1:\n",
    "    print(num,\"Is a Happy Number\")\n",
    "else:\n",
    "    print(num,\"Is a Unhappy Number\")\n",
    "    \n",
    "    "
   ]
  },
  {
   "cell_type": "code",
   "execution_count": null,
   "id": "7e4ea7a7",
   "metadata": {},
   "outputs": [],
   "source": []
  },
  {
   "cell_type": "markdown",
   "id": "b3948c6a",
   "metadata": {},
   "source": [
    "Que No. 4. Write a Python program to print all happy numbers between 1 and 100?\n"
   ]
  },
  {
   "cell_type": "code",
   "execution_count": 1,
   "id": "e955425c",
   "metadata": {},
   "outputs": [
    {
     "name": "stdout",
     "output_type": "stream",
     "text": [
      "Happy numbers in range 1 to 100\n",
      "[1, 7, 10, 13, 19, 23, 28, 31, 32, 44, 49, 68, 70, 79, 82, 86, 91, 94, 97, 100]\n"
     ]
    }
   ],
   "source": [
    "def Happy(num):\n",
    "    sum = 0\n",
    "    while(num>0):\n",
    "        dig = num%10\n",
    "        sum = sum + dig ** 2\n",
    "        num = num//10\n",
    "    return sum\n",
    "\n",
    "print(\"Happy numbers in range 1 to 100\")\n",
    "result = num = i = 0\n",
    "happyNo = []\n",
    "for i in range(1,101):\n",
    "    result = i \n",
    "    while (result != 1 and result != 4):\n",
    "        result = Happy(result)\n",
    "    if result == 1:\n",
    "        happyNo.append(i)\n",
    "print(happyNo)\n"
   ]
  },
  {
   "cell_type": "code",
   "execution_count": null,
   "id": "de4fbb44",
   "metadata": {},
   "outputs": [],
   "source": []
  },
  {
   "cell_type": "markdown",
   "id": "3bbd4550",
   "metadata": {},
   "source": [
    "Que No. 5. Write a Python program to determine whether the given number is a Harshad Number?\n",
    "\n",
    "Solution:  \n",
    "         A number is called a harshad number if the number is divisible by the sum of its digits. Harshad numbers are also know          as Niven numbers. for example: 156 is divisible by the sum of its digits, i.e  1 + 5 + 6 = 12 \n",
    "        "
   ]
  },
  {
   "cell_type": "code",
   "execution_count": 4,
   "id": "3c027b72",
   "metadata": {},
   "outputs": [
    {
     "name": "stdout",
     "output_type": "stream",
     "text": [
      "Enter a Number: 156\n",
      "156 is Harshad Number\n"
     ]
    }
   ],
   "source": [
    "num = int(input(\"Enter a Number: \"))\n",
    "sum = 0 \n",
    "temp = num \n",
    "while(temp > 0):\n",
    "    sum = sum + temp % 10 \n",
    "    temp = int(temp / 10)\n",
    "result = num % sum \n",
    "if(result == 0):\n",
    "    print(\"{} is Harshad Number\".format(num))\n",
    "else: \n",
    "    print(\"{} is not Harshad Number\".format(num))\n",
    "    "
   ]
  },
  {
   "cell_type": "code",
   "execution_count": 5,
   "id": "b4a2dd52",
   "metadata": {},
   "outputs": [
    {
     "name": "stdout",
     "output_type": "stream",
     "text": [
      "Enter a Number: 156\n",
      "156 is a Harshad Number\n",
      "Enter a Number: 78\n",
      "78 is a not Harshad Number\n"
     ]
    }
   ],
   "source": [
    "def Harshad_Number():\n",
    "    num = input('Enter a Number: ')\n",
    "    sum = 0\n",
    "    for i in range(len(num)):\n",
    "        sum = sum + int(num[i])\n",
    "    if int(num)%sum == 0:\n",
    "        print(f'{num} is a Harshad Number')\n",
    "    else:\n",
    "        print(f'{num} is a not Harshad Number')\n",
    "        \n",
    "Harshad_Number()\n",
    "Harshad_Number()\n"
   ]
  },
  {
   "cell_type": "code",
   "execution_count": null,
   "id": "414e2d1e",
   "metadata": {},
   "outputs": [],
   "source": []
  },
  {
   "cell_type": "markdown",
   "id": "213648ce",
   "metadata": {},
   "source": [
    "Que No. 6. Write a Python program to print all pronic numbers between 1 and 100?\n",
    "\n",
    "Solution:\n",
    "        pronic number is a number which is the product of two consecutive integers, that is, a number n is a product of \n",
    "        x and (x+1). The task is to check and print pronic Numbers in a range. Examples:\n",
    "        Input: 6 Output: Pronic Number Exolanation: 6= 2 * 3 i.e 6 is a product of two consecutive integers 2 and 3.\n",
    "        Input: 8 Output: Not a Pronic Number Explanation: 8 = 2 * 4 i.e 8 is a product of 2 and 4 which are not consecutive             integers.\n",
    "        "
   ]
  },
  {
   "cell_type": "code",
   "execution_count": 14,
   "id": "5ccad32a",
   "metadata": {},
   "outputs": [
    {
     "name": "stdout",
     "output_type": "stream",
     "text": [
      "Pronic numbers in range 1 to 100\n",
      "[2, 6, 12, 20, 30, 42, 56, 72, 90]\n"
     ]
    }
   ],
   "source": [
    "def Pronic_Number(num):\n",
    "    Pronic = False \n",
    "    for i in range(1,num+1):\n",
    "        if i*(i+1) == num:\n",
    "            Pronic = True \n",
    "            break\n",
    "    return Pronic\n",
    "    \n",
    "print(\"Pronic numbers in range 1 to 100\")\n",
    "Pronicno = []\n",
    "for i in range(1,101):\n",
    "    if Pronic_Number(i):\n",
    "        Pronicno.append(i)\n",
    "print(Pronicno) \n"
   ]
  },
  {
   "cell_type": "code",
   "execution_count": 13,
   "id": "8a057d5f",
   "metadata": {},
   "outputs": [
    {
     "name": "stdout",
     "output_type": "stream",
     "text": [
      "Enter a number: 72\n",
      "72 is a Pronic number\n"
     ]
    }
   ],
   "source": [
    "num = int(input(\"Enter a number: \"))\n",
    "temp = 0 \n",
    "for i in range(num):\n",
    "    if i * (i+1) == num:\n",
    "        temp = 1\n",
    "        break \n",
    "        \n",
    "if temp==1:\n",
    "    print(num,\"is a Pronic number\")\n",
    "else:\n",
    "    print(num,\"is not a Pronic number\")\n",
    "    "
   ]
  },
  {
   "cell_type": "code",
   "execution_count": null,
   "id": "e78c89fc",
   "metadata": {},
   "outputs": [],
   "source": []
  },
  {
   "cell_type": "code",
   "execution_count": null,
   "id": "e08b630f",
   "metadata": {},
   "outputs": [],
   "source": []
  }
 ],
 "metadata": {
  "kernelspec": {
   "display_name": "Python 3 (ipykernel)",
   "language": "python",
   "name": "python3"
  },
  "language_info": {
   "codemirror_mode": {
    "name": "ipython",
    "version": 3
   },
   "file_extension": ".py",
   "mimetype": "text/x-python",
   "name": "python",
   "nbconvert_exporter": "python",
   "pygments_lexer": "ipython3",
   "version": "3.9.12"
  }
 },
 "nbformat": 4,
 "nbformat_minor": 5
}
