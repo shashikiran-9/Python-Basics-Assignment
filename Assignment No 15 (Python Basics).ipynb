{
 "cells": [
  {
   "cell_type": "markdown",
   "id": "15cf66ff",
   "metadata": {},
   "source": [
    "                                   Assignment No 15 (Python Basics)"
   ]
  },
  {
   "cell_type": "code",
   "execution_count": null,
   "id": "9a9216fb",
   "metadata": {},
   "outputs": [],
   "source": []
  },
  {
   "cell_type": "markdown",
   "id": "ff79f16d",
   "metadata": {},
   "source": [
    "Que1. How many seconds are in an hour? Use the interactive interpreter as a calculator and multiply the\n",
    "      number of seconds in a minute (60) by the number of minutes in an hour (also 60).\n",
    "\n",
    "      sol. 60\n"
   ]
  },
  {
   "cell_type": "code",
   "execution_count": 1,
   "id": "ee0f03d9",
   "metadata": {},
   "outputs": [
    {
     "name": "stdout",
     "output_type": "stream",
     "text": [
      "3600\n"
     ]
    }
   ],
   "source": [
    "print(60*60)\n"
   ]
  },
  {
   "cell_type": "code",
   "execution_count": null,
   "id": "2ffc6ed5",
   "metadata": {},
   "outputs": [],
   "source": []
  },
  {
   "cell_type": "markdown",
   "id": "4465d41b",
   "metadata": {},
   "source": [
    "Que2. Assign the result from the previous task (seconds in an hour) to a variable called\n",
    "      seconds_per_hour.\n"
   ]
  },
  {
   "cell_type": "code",
   "execution_count": 2,
   "id": "2357a361",
   "metadata": {},
   "outputs": [
    {
     "name": "stdout",
     "output_type": "stream",
     "text": [
      "3600\n"
     ]
    }
   ],
   "source": [
    "seconds_per_hour = 60*60\n",
    "print(seconds_per_hour)\n"
   ]
  },
  {
   "cell_type": "code",
   "execution_count": null,
   "id": "73f72119",
   "metadata": {},
   "outputs": [],
   "source": []
  },
  {
   "cell_type": "markdown",
   "id": "dfd4b039",
   "metadata": {},
   "source": [
    "Que3. How many seconds do you think there are in a day? Make use of the variables seconds per hour\n",
    "      and minutes per hour.\n"
   ]
  },
  {
   "cell_type": "code",
   "execution_count": 3,
   "id": "921ee3d6",
   "metadata": {},
   "outputs": [
    {
     "name": "stdout",
     "output_type": "stream",
     "text": [
      "86400\n"
     ]
    }
   ],
   "source": [
    "minutes_per_hour = 60\n",
    "print(minutes_per_hour*60*24)\n"
   ]
  },
  {
   "cell_type": "code",
   "execution_count": null,
   "id": "e9b1cc26",
   "metadata": {},
   "outputs": [],
   "source": []
  },
  {
   "cell_type": "markdown",
   "id": "30a52bd5",
   "metadata": {},
   "source": [
    "Que4. Calculate seconds per day again, but this time save the result in a variable called seconds_per_day\n"
   ]
  },
  {
   "cell_type": "code",
   "execution_count": 4,
   "id": "633ddf4d",
   "metadata": {},
   "outputs": [
    {
     "name": "stdout",
     "output_type": "stream",
     "text": [
      "86400\n"
     ]
    }
   ],
   "source": [
    "seconds_per_day = 24*60*60\n",
    "print(seconds_per_day)\n"
   ]
  },
  {
   "cell_type": "code",
   "execution_count": null,
   "id": "24453c84",
   "metadata": {},
   "outputs": [],
   "source": []
  },
  {
   "cell_type": "markdown",
   "id": "642f4f3f",
   "metadata": {},
   "source": [
    "Que5. Divide seconds_per_day by seconds_per_hour. Use floating-point (/) division.\n"
   ]
  },
  {
   "cell_type": "code",
   "execution_count": 5,
   "id": "5a4c6234",
   "metadata": {},
   "outputs": [
    {
     "name": "stdout",
     "output_type": "stream",
     "text": [
      "24.0\n"
     ]
    }
   ],
   "source": [
    "print(seconds_per_day/seconds_per_hour)\n"
   ]
  },
  {
   "cell_type": "code",
   "execution_count": null,
   "id": "ca460eb4",
   "metadata": {},
   "outputs": [],
   "source": []
  },
  {
   "cell_type": "markdown",
   "id": "aeaea29d",
   "metadata": {},
   "source": [
    "Que6. Divide seconds_per_day by seconds_per_hour, using integer (//) division. Did this number agree\n",
    "      with the floating-point value from the previous question, aside from the final .0?\n"
   ]
  },
  {
   "cell_type": "code",
   "execution_count": 6,
   "id": "5f789763",
   "metadata": {},
   "outputs": [
    {
     "name": "stdout",
     "output_type": "stream",
     "text": [
      "24 -> yes this values agree with the floating point value from the pervious question\n"
     ]
    }
   ],
   "source": [
    "print(seconds_per_day//seconds_per_hour, end='')\n",
    "print(' -> yes this values agree with the floating point value from the pervious question')\n"
   ]
  },
  {
   "cell_type": "code",
   "execution_count": null,
   "id": "0a8bc150",
   "metadata": {},
   "outputs": [],
   "source": []
  },
  {
   "cell_type": "markdown",
   "id": "78382588",
   "metadata": {},
   "source": [
    "Que7. Write a generator, genPrimes, that returns the sequence of prime numbers on successive calls to\n",
    "      its next() method: 2, 3, 5, 7, 11, ...\n"
   ]
  },
  {
   "cell_type": "code",
   "execution_count": 9,
   "id": "f0d70262",
   "metadata": {},
   "outputs": [
    {
     "name": "stdout",
     "output_type": "stream",
     "text": [
      "2\n",
      "3\n",
      "5\n",
      "7\n",
      "11\n",
      "13\n",
      "17\n",
      "19\n",
      "23\n",
      "25\n",
      "29\n",
      "31\n",
      "35\n",
      "37\n",
      "41\n",
      "43\n",
      "47\n",
      "49\n",
      "53\n",
      "55\n"
     ]
    }
   ],
   "source": [
    "def genPrimes():\n",
    "    n = 0\n",
    "    while True:\n",
    "        if n == 2 or n == 3 :\n",
    "            yield n \n",
    "        elif ((n-1)%6 == 0 or (n+1)%6 == 0) and n !=1:\n",
    "            yield n \n",
    "        n = n+1\n",
    "            \n",
    "output = genPrimes()\n",
    "for ele in range(20):\n",
    "    print(next(output))\n",
    "    "
   ]
  },
  {
   "cell_type": "code",
   "execution_count": null,
   "id": "067d1f4b",
   "metadata": {},
   "outputs": [],
   "source": []
  },
  {
   "cell_type": "code",
   "execution_count": null,
   "id": "d7a35ce0",
   "metadata": {},
   "outputs": [],
   "source": []
  }
 ],
 "metadata": {
  "kernelspec": {
   "display_name": "Python 3 (ipykernel)",
   "language": "python",
   "name": "python3"
  },
  "language_info": {
   "codemirror_mode": {
    "name": "ipython",
    "version": 3
   },
   "file_extension": ".py",
   "mimetype": "text/x-python",
   "name": "python",
   "nbconvert_exporter": "python",
   "pygments_lexer": "ipython3",
   "version": "3.9.13"
  }
 },
 "nbformat": 4,
 "nbformat_minor": 5
}
