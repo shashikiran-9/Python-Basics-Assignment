{
 "cells": [
  {
   "cell_type": "code",
   "execution_count": null,
   "id": "c9ec6928",
   "metadata": {},
   "outputs": [],
   "source": [
    "                            Programmimg Assignment No 04"
   ]
  },
  {
   "cell_type": "code",
   "execution_count": null,
   "id": "3231d142",
   "metadata": {},
   "outputs": [],
   "source": []
  },
  {
   "cell_type": "code",
   "execution_count": 2,
   "id": "f4cf7a20",
   "metadata": {},
   "outputs": [
    {
     "name": "stdout",
     "output_type": "stream",
     "text": [
      "Enter The Number: 5\n",
      "factorial of 5 is 120\n"
     ]
    }
   ],
   "source": [
    "# Que 1. Write a Python Program to Find the Factorial of a Number?\n",
    "\n",
    "num = int(input(\"Enter The Number: \"))\n",
    "\n",
    "factorial = 1\n",
    "\n",
    "if num<0:\n",
    "    print( \"Factorial Dose not Exit\")\n",
    "elif num == 0:\n",
    "    print( \"Factorial of Zero is 1\")\n",
    "else:\n",
    "    for i in range(1,num+1):\n",
    "        factorial = factorial*i\n",
    "    print( \"factorial of {} is {}\".format(num,factorial))\n",
    "    "
   ]
  },
  {
   "cell_type": "code",
   "execution_count": 4,
   "id": "076a8a7d",
   "metadata": {},
   "outputs": [],
   "source": [
    " \n",
    "def factorial():\n",
    "    num = int(input(\"Enter Number: \"))\n",
    "    factorial = 1\n",
    "    \n",
    "    if num<0:\n",
    "        print(\"Factorial dose not exist\")\n",
    "        \n",
    "    elif num == 0:\n",
    "        print(\"Factorial of 0 : 1\")\n",
    "        \n",
    "    else:\n",
    "        for i in range(1,num+1):\n",
    "            factorial = factorial*i\n",
    "        print(f\"Factorial of {num} : {factorial}\")\n",
    "        \n",
    "        #print(\"Factorial of {} is {} \".format(num,factorial))"
   ]
  },
  {
   "cell_type": "code",
   "execution_count": 5,
   "id": "01243aaa",
   "metadata": {},
   "outputs": [
    {
     "name": "stdout",
     "output_type": "stream",
     "text": [
      "Enter Number: -1\n",
      "Factorial dose not exist\n"
     ]
    }
   ],
   "source": [
    "factorial()"
   ]
  },
  {
   "cell_type": "code",
   "execution_count": 6,
   "id": "b20b9f97",
   "metadata": {},
   "outputs": [
    {
     "name": "stdout",
     "output_type": "stream",
     "text": [
      "Enter Number: 0\n",
      "Factorial of 0 : 1\n"
     ]
    }
   ],
   "source": [
    "factorial()"
   ]
  },
  {
   "cell_type": "code",
   "execution_count": 7,
   "id": "97345df4",
   "metadata": {},
   "outputs": [
    {
     "name": "stdout",
     "output_type": "stream",
     "text": [
      "Enter Number: 5\n",
      "Factorial of 5 : 120\n"
     ]
    }
   ],
   "source": [
    "factorial()"
   ]
  },
  {
   "cell_type": "code",
   "execution_count": null,
   "id": "452e9d3a",
   "metadata": {},
   "outputs": [],
   "source": []
  },
  {
   "cell_type": "code",
   "execution_count": 1,
   "id": "c18ee884",
   "metadata": {},
   "outputs": [
    {
     "name": "stdout",
     "output_type": "stream",
     "text": [
      "Enter Number: 5\n",
      "Tabel of 5\n",
      "5 X 1 = 5\n",
      "5 X 2 = 10\n",
      "5 X 3 = 15\n",
      "5 X 4 = 20\n",
      "5 X 5 = 25\n",
      "5 X 6 = 30\n",
      "5 X 7 = 35\n",
      "5 X 8 = 40\n",
      "5 X 9 = 45\n",
      "5 X 10 = 50\n"
     ]
    }
   ],
   "source": [
    "# Que 2. Write a Python Program to Display the multiplication Table?\n",
    "\n",
    "num = int(input(\"Enter Number: \"))\n",
    "print(\"Tabel of\", num)\n",
    "\n",
    "for i in   range(1,11):\n",
    "    tabel = num *i \n",
    "    print (\"{} X {} = {}\".format(num,i,tabel))"
   ]
  },
  {
   "cell_type": "code",
   "execution_count": 5,
   "id": "94129cae",
   "metadata": {},
   "outputs": [],
   "source": [
    "def tabel():\n",
    "    num = int(input(\"Enter Number: \"))\n",
    "    print(\"Tabel of\",num)\n",
    "    \n",
    "    for i in range(1,11):\n",
    "        tabel =num *i\n",
    "        print (\"{} X {} = {}\".format(num,i,tabel))"
   ]
  },
  {
   "cell_type": "code",
   "execution_count": 6,
   "id": "f9cb3026",
   "metadata": {},
   "outputs": [
    {
     "name": "stdout",
     "output_type": "stream",
     "text": [
      "Enter Number: 5\n",
      "Tabel of 5\n",
      "5 X 1 = 5\n",
      "5 X 2 = 10\n",
      "5 X 3 = 15\n",
      "5 X 4 = 20\n",
      "5 X 5 = 25\n",
      "5 X 6 = 30\n",
      "5 X 7 = 35\n",
      "5 X 8 = 40\n",
      "5 X 9 = 45\n",
      "5 X 10 = 50\n"
     ]
    }
   ],
   "source": [
    "tabel()\n"
   ]
  },
  {
   "cell_type": "code",
   "execution_count": null,
   "id": "33603a50",
   "metadata": {},
   "outputs": [],
   "source": []
  },
  {
   "cell_type": "code",
   "execution_count": 8,
   "id": "8bc62fb4",
   "metadata": {},
   "outputs": [
    {
     "name": "stdout",
     "output_type": "stream",
     "text": [
      "Enter Fibonacci Squence Length: 5\n",
      "Fibonacci Sequence\n",
      "0\n",
      "1\n",
      "1\n",
      "2\n",
      "3\n"
     ]
    }
   ],
   "source": [
    "# Que 3. Write a Python Program to Print the Fibonacci sequence?\n",
    "# Solution Fibonacci number Fn = Fn-1 + Fn-2\n",
    "\n",
    "num = int(input(\"Enter Fibonacci Squence Length: \"))\n",
    "\n",
    "n1, n2 = 0,1\n",
    " \n",
    "count =0\n",
    "\n",
    "if num<= 0:\n",
    "    print(\"Enter the Positive Number\")\n",
    "elif num == 1:\n",
    "    print(\"Fibonacci Sequence of\".format(num,\"is\",n1))\n",
    "    #print(n1)\n",
    "    \n",
    "else:\n",
    "    print(\"Fibonacci Sequence\")\n",
    "    while count<num:\n",
    "        print(n1)\n",
    "        nth = n1+n2\n",
    "        n1=n2\n",
    "        n2=nth\n",
    "        count += 1\n",
    "        \n",
    "    "
   ]
  },
  {
   "cell_type": "code",
   "execution_count": null,
   "id": "c93a8d57",
   "metadata": {},
   "outputs": [],
   "source": []
  },
  {
   "cell_type": "code",
   "execution_count": 10,
   "id": "b58eb467",
   "metadata": {},
   "outputs": [
    {
     "name": "stdout",
     "output_type": "stream",
     "text": [
      "Enter the Number: 153\n",
      "153 is not armstrong number\n"
     ]
    }
   ],
   "source": [
    "# Que 4. Write a Python Program to Check Armstrong Number?\n",
    "\n",
    "num = int(input(\"Enter the Number: \"))\n",
    "\n",
    "power = len(str(num))\n",
    "\n",
    "y = num\n",
    "sum = 0\n",
    "while y > 0:\n",
    "    digit = y % 10\n",
    "    sum = sum + digit ** power \n",
    "    y = y/10\n",
    "if num == sum :\n",
    "    print(f\" {num} is a armstrong number\")\n",
    "else:\n",
    "    print(f\"{num} is not armstrong number\")"
   ]
  },
  {
   "cell_type": "code",
   "execution_count": null,
   "id": "a6e7518f",
   "metadata": {},
   "outputs": [],
   "source": []
  },
  {
   "cell_type": "code",
   "execution_count": 11,
   "id": "255a6c1d",
   "metadata": {},
   "outputs": [
    {
     "name": "stdout",
     "output_type": "stream",
     "text": [
      "starting number: 100\n",
      "ending number: 1000\n",
      "153\n",
      "370\n",
      "371\n",
      "407\n"
     ]
    }
   ],
   "source": [
    "# Que 5. Write a Python Program to Find Armstrong Number in an Interval?\n",
    "\n",
    "num_1 = int(input(\"starting number: \"))\n",
    "num_2 = int(input(\"ending number: \"))\n",
    "\n",
    "for i in range(num_1,num_2+1):\n",
    "    power = len(str(i))\n",
    "    temp = i\n",
    "    sum = 0\n",
    "    while temp > 0:\n",
    "        digit = temp % 10\n",
    "        sum = sum + digit ** power\n",
    "        temp = temp//10\n",
    "    if i == sum :\n",
    "        print(i)\n",
    "        "
   ]
  },
  {
   "cell_type": "code",
   "execution_count": null,
   "id": "419a2162",
   "metadata": {},
   "outputs": [],
   "source": []
  },
  {
   "cell_type": "code",
   "execution_count": 12,
   "id": "d070803c",
   "metadata": {},
   "outputs": [
    {
     "name": "stdout",
     "output_type": "stream",
     "text": [
      "Enter Number: 10\n",
      "Sum of natural numbers upto 55 is 10\n"
     ]
    }
   ],
   "source": [
    "# Que 6. Write a Python Program to Find the Sum of Natural Numbers?\n",
    "\n",
    "num = int(input(\"Enter Number: \"))\n",
    "\n",
    "sum =0\n",
    "for i in range(1,num+1):\n",
    "    sum = sum + i\n",
    "print(\"Sum of natural numbers upto {} is {}\".format (sum,num)) \n",
    "\n"
   ]
  },
  {
   "cell_type": "code",
   "execution_count": null,
   "id": "60e5f72d",
   "metadata": {},
   "outputs": [],
   "source": []
  },
  {
   "cell_type": "code",
   "execution_count": null,
   "id": "64b53e15",
   "metadata": {},
   "outputs": [],
   "source": []
  }
 ],
 "metadata": {
  "kernelspec": {
   "display_name": "Python 3 (ipykernel)",
   "language": "python",
   "name": "python3"
  },
  "language_info": {
   "codemirror_mode": {
    "name": "ipython",
    "version": 3
   },
   "file_extension": ".py",
   "mimetype": "text/x-python",
   "name": "python",
   "nbconvert_exporter": "python",
   "pygments_lexer": "ipython3",
   "version": "3.9.12"
  }
 },
 "nbformat": 4,
 "nbformat_minor": 5
}
