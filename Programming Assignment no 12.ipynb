{
 "cells": [
  {
   "cell_type": "code",
   "execution_count": null,
   "id": "70a2c5d1",
   "metadata": {},
   "outputs": [],
   "source": [
    "                        Programming Assignment No : 12"
   ]
  },
  {
   "cell_type": "code",
   "execution_count": null,
   "id": "539293dd",
   "metadata": {},
   "outputs": [],
   "source": []
  },
  {
   "cell_type": "markdown",
   "id": "ba209cab",
   "metadata": {},
   "source": [
    "Que No. 1. Write a Python program to Extract Unique values dictionary values?\n",
    "\n",
    "Solution:\n",
    "          When it is required to extract unique values from a dictionary is created, and the 'sorted' method and dictionary               comprehension is used.\n",
    "          "
   ]
  },
  {
   "cell_type": "code",
   "execution_count": 1,
   "id": "daa12021",
   "metadata": {},
   "outputs": [
    {
     "name": "stdout",
     "output_type": "stream",
     "text": [
      "The dictionary is : \n",
      "{'hi': [5, 3, 8, 0], 'there': [22, 51, 63, 77], 'how': [7, 0, 22], 'are': [12, 11, 45], 'you': [56, 31, 89, 90]}\n",
      "The unique values are : \n",
      "[0, 3, 5, 7, 8, 11, 12, 22, 31, 45, 51, 56, 63, 77, 89, 90]\n"
     ]
    }
   ],
   "source": [
    "my_dict = {'hi' : [5, 3, 8, 0],\n",
    "          'there' : [22, 51, 63, 77],\n",
    "          'how' : [7, 0, 22],\n",
    "          'are' : [12, 11, 45],\n",
    "          'you' : [56, 31, 89, 90]}\n",
    "\n",
    "print(\"The dictionary is : \")\n",
    "print(my_dict)\n",
    "\n",
    "my_result = list(sorted({elem for val in my_dict.values() for elem in val}))\n",
    "\n",
    "print(\"The unique values are : \")\n",
    "print(my_result)\n"
   ]
  },
  {
   "cell_type": "code",
   "execution_count": null,
   "id": "4826682b",
   "metadata": {},
   "outputs": [],
   "source": []
  },
  {
   "cell_type": "markdown",
   "id": "0345f2bf",
   "metadata": {},
   "source": [
    "Que No. 2. Write a Python program to find the sum of all items in a dictionary?\n"
   ]
  },
  {
   "cell_type": "code",
   "execution_count": 2,
   "id": "69b0f9c3",
   "metadata": {},
   "outputs": [
    {
     "name": "stdout",
     "output_type": "stream",
     "text": [
      "Sum of dictionary values : 14\n"
     ]
    }
   ],
   "source": [
    "# sum function\n",
    "def Sum(myDict):\n",
    "    sum_ = 0\n",
    "    for i in myDict:\n",
    "        sum_ = sum_ + myDict[i]\n",
    "    return sum_\n",
    "\n",
    "#Diver Function \n",
    "dict = {'T': 1, 'U': 2, 'T': 3, 'O': 4, 'R': 5}\n",
    "print(\"Sum of dictionary values :\", Sum(dict))\n"
   ]
  },
  {
   "cell_type": "code",
   "execution_count": 3,
   "id": "3fcca68b",
   "metadata": {},
   "outputs": [
    {
     "name": "stdout",
     "output_type": "stream",
     "text": [
      "Sum of dictionary values : 14\n"
     ]
    }
   ],
   "source": [
    "# sum function \n",
    "def Sum(dict):\n",
    "    sum_ = 0\n",
    "    for i in dict.values():\n",
    "        sum_ = sum_ + i\n",
    "    return sum_\n",
    "\n",
    "# Driver Function\n",
    "dict = {'T': 1, 'U': 2, 'T': 3, 'O': 4, 'R': 5}\n",
    "print(\"Sum of dictionary values :\",Sum(dict))\n"
   ]
  },
  {
   "cell_type": "code",
   "execution_count": 4,
   "id": "523fce0d",
   "metadata": {},
   "outputs": [
    {
     "name": "stdout",
     "output_type": "stream",
     "text": [
      "Sum of dictionary values : 14\n"
     ]
    }
   ],
   "source": [
    "# Sum function \n",
    "def Sum(dict):\n",
    "    sum_ = 0\n",
    "    for i in dict.keys():\n",
    "        sum_ = sum_ + dict[i]\n",
    "    return sum_\n",
    "# Driver Function\n",
    "dict = {'T': 1, 'U': 2, 'T': 3, 'O':4, 'R': 5}\n",
    "print(\"Sum of dictionary values :\", Sum(dict))\n"
   ]
  },
  {
   "cell_type": "code",
   "execution_count": null,
   "id": "cdb8b848",
   "metadata": {},
   "outputs": [],
   "source": []
  },
  {
   "cell_type": "markdown",
   "id": "3488ced1",
   "metadata": {},
   "source": [
    "Que No. 3. Write a Python program to Merging two Dictionaries?\n",
    "\n",
    "Solution:\n",
    "          In this tutorial, we will learn to write a program to mergo two dictionaries in python. For two given dictionaries we           have to mergo them and return a single dictionary that will have the values of both the dictionaries. Merging simply           mean that we are joining the two ditionaries together."
   ]
  },
  {
   "cell_type": "code",
   "execution_count": 5,
   "id": "ac7240d0",
   "metadata": {},
   "outputs": [
    {
     "name": "stdout",
     "output_type": "stream",
     "text": [
      "MERGED: \n",
      "{'x': 4, 'y': 8, 'z': 5, 1: 8, 2: 6}\n"
     ]
    }
   ],
   "source": [
    "dic1= {'x': 3, 'y': 8, 'z': 5}\n",
    "dic2= {1: 8, 'x': 4, 2: 6}\n",
    "\n",
    "merge_dic= {**dic1,**dic2}\n",
    "\n",
    "print(\"MERGED: \")\n",
    "print(merge_dic)\n",
    "\n"
   ]
  },
  {
   "cell_type": "code",
   "execution_count": 6,
   "id": "4a4bee1b",
   "metadata": {},
   "outputs": [
    {
     "name": "stdout",
     "output_type": "stream",
     "text": [
      "MERGED: \n",
      "{'x': 2, 'y': 4, 'c': 5, 'B': 8, 2: 11}\n"
     ]
    }
   ],
   "source": [
    "dic1= {'x': 2, 'y': 8, 'c': 5}\n",
    "dic2= {'B': 8, 'y': 4, 2: 11}\n",
    "\n",
    "dic1.update(dic2)\n",
    "\n",
    "print(\"MERGED: \")\n",
    "print(dic1)\n"
   ]
  },
  {
   "cell_type": "code",
   "execution_count": null,
   "id": "fc73e11a",
   "metadata": {},
   "outputs": [],
   "source": []
  },
  {
   "cell_type": "markdown",
   "id": "9ab99891",
   "metadata": {},
   "source": [
    "Que No. 4. Write a Python program to convert key-values list to flat dictionary?\n",
    "\n",
    "Solution:\n",
    "          When it is required to covert a dictionary, that contains pairs of key values into a flat list, dictionary                     comprehension can be used.\n",
    "          It iterates through the dictionary and zips them using the 'Zip' method. \n",
    "          The Zip method takes iterables, aggregates them into a tuple, and returns it as the result.\n",
    "          "
   ]
  },
  {
   "cell_type": "code",
   "execution_count": 3,
   "id": "6d940f46",
   "metadata": {},
   "outputs": [
    {
     "name": "stdout",
     "output_type": "stream",
     "text": [
      "The dictionary is : \n",
      "{'month_num': [1, 2, 3, 4, 5, 6], 'name_of_month': ['Jan', 'Feb', 'March', 'Apr', 'May', 'June']}\n",
      "The flattened dictionary is: \n",
      "{1: 'Jan', 2: 'Feb', 3: 'March', 4: 'Apr', 5: 'May', 6: 'June'}\n"
     ]
    }
   ],
   "source": [
    "from itertools import product\n",
    "\n",
    "my_dict = {'month_num' : [1,2,3,4,5,6,], 'name_of_month' : ['Jan', 'Feb', 'March', 'Apr', 'May', 'June']}\n",
    "\n",
    "print(\"The dictionary is : \")\n",
    "print(my_dict)\n",
    "\n",
    "my_result = dict(zip(my_dict['month_num'], my_dict['name_of_month']))\n",
    "\n",
    "print(\"The flattened dictionary is: \")\n",
    "print(my_result)"
   ]
  },
  {
   "cell_type": "code",
   "execution_count": null,
   "id": "f168f1b2",
   "metadata": {},
   "outputs": [],
   "source": []
  },
  {
   "cell_type": "markdown",
   "id": "48e1f231",
   "metadata": {},
   "source": [
    "Que No. 5. Write a Python program to insertion at the beginning in OrderedDict?\n",
    "\n",
    "Solution:\n",
    "          In this tutorial,we will learn how to write a program that will insert at the beginning in an ordered using python.             For a given dictionary. that is an orderedDict, We have to insert items at the beginning of the dictionary.\n",
    "          In an OrderedDict the order of the insertion of keys is maintained, unlike in a normal dictionary where the order of           the keys is not saved.\n",
    "          "
   ]
  },
  {
   "cell_type": "code",
   "execution_count": 16,
   "id": "64183f28",
   "metadata": {},
   "outputs": [
    {
     "name": "stdout",
     "output_type": "stream",
     "text": [
      "Resultant Dictionary :\n",
      "OrderedDict([('D', '400'), ('A', '100'), ('B', '200'), ('C', '300')])\n"
     ]
    }
   ],
   "source": [
    "from collections import OrderedDict\n",
    "dic1 = OrderedDict([('A', '100'),('B', '200'),('C', '300')])\n",
    "insrt = OrderedDict([(\"D\", '400')])\n",
    "\n",
    "final = OrderedDict(list(insrt.items())+list(dic1.items()))\n",
    "\n",
    "#print result\n",
    "print(\"Resultant Dictionary :\")\n",
    "print(final)\n"
   ]
  },
  {
   "cell_type": "code",
   "execution_count": 17,
   "id": "1e3a70a2",
   "metadata": {},
   "outputs": [
    {
     "name": "stdout",
     "output_type": "stream",
     "text": [
      "OrderedDict([('A', '100'), ('B', '200'), ('c', '300'), ('D', '400')])\n",
      "Resultant Dictionary :\n",
      "OrderedDict([('D', '400'), ('A', '100'), ('B', '200'), ('c', '300')])\n"
     ]
    }
   ],
   "source": [
    "from collections import OrderedDict \n",
    "dic1 = OrderedDict([('A', '100'),('B', '200'),('c', '300')])\n",
    "\n",
    "dic1.update({\"D\": '400'})\n",
    "print(dic1)\n",
    "\n",
    "dic1.move_to_end(\"D\", last=False)\n",
    "\n",
    "print(\"Resultant Dictionary :\")\n",
    "print(dic1)\n"
   ]
  },
  {
   "cell_type": "code",
   "execution_count": null,
   "id": "5600c2ee",
   "metadata": {},
   "outputs": [],
   "source": []
  },
  {
   "cell_type": "markdown",
   "id": "35342b04",
   "metadata": {},
   "source": [
    "Que No. 6. Write a Python program to check order of character in string using OrderedDict()?\n"
   ]
  },
  {
   "cell_type": "code",
   "execution_count": 19,
   "id": "8e539500",
   "metadata": {},
   "outputs": [
    {
     "name": "stdout",
     "output_type": "stream",
     "text": [
      "The string is \n",
      "Hi Mark\n",
      "The input pattern is \n",
      "Ma\n",
      "The order of pattern is correct\n"
     ]
    }
   ],
   "source": [
    "from collections import OrderedDict\n",
    "def check_order(my_input, my_pattern):\n",
    "    my_dict = OrderedDict.fromkeys(my_input)\n",
    "    pattern_length = 0\n",
    "    for key,value in my_dict.items():\n",
    "        if(key == my_pattern[pattern_length]):\n",
    "            pattern_length = pattern_length + 1\n",
    "            \n",
    "        if (pattern_length == (len(my_pattern))):\n",
    "            return 'The order of pattern is correct'\n",
    "        \n",
    "    return 'The order of pattern is incorrect'\n",
    "\n",
    "my_input = 'Hi Mark'\n",
    "input_pattern = 'Ma'\n",
    "print(\"The string is \")\n",
    "print(my_input)\n",
    "print(\"The input pattern is \")\n",
    "print(input_pattern)\n",
    "print(check_order(my_input,input_pattern))\n"
   ]
  },
  {
   "cell_type": "code",
   "execution_count": null,
   "id": "899261af",
   "metadata": {},
   "outputs": [],
   "source": []
  },
  {
   "cell_type": "markdown",
   "id": "4eb4f7bf",
   "metadata": {},
   "source": [
    "Que No. 7. Write a Python program to sort Python Dictionaries by Key or Value?\n",
    "\n",
    "Solution:\n",
    "          In this tutorial, we will learn to sort dictionaries by key or value in python. A dictionary can be sorted based on its keys, where the value and the keys are displayed in increasing order of the keys. There is also anther way to sort a dictionary and that is based on the values where the keys and the values are displayed in increasing order of the value.\n",
    "          "
   ]
  },
  {
   "cell_type": "code",
   "execution_count": 20,
   "id": "200c3b99",
   "metadata": {},
   "outputs": [
    {
     "name": "stdout",
     "output_type": "stream",
     "text": [
      "sorting on the basis of keys\n",
      "(1, 43) (2, 9) (3, 8) (4, 23) (5, 10) (6, 77) "
     ]
    }
   ],
   "source": [
    "key_value={}\n",
    "\n",
    "key_value[5] = 10\n",
    "key_value[3] = 8\n",
    "key_value[6] = 77\n",
    "key_value[4] = 23\n",
    "key_value[2] = 9\n",
    "key_value[1] = 43\n",
    "\n",
    "print(\"sorting on the basis of keys\")\n",
    "\n",
    "for i in sorted(key_value) :\n",
    "    print((i, key_value[i]), end=\" \")\n",
    "    "
   ]
  },
  {
   "cell_type": "code",
   "execution_count": 1,
   "id": "560d1545",
   "metadata": {},
   "outputs": [
    {
     "name": "stdout",
     "output_type": "stream",
     "text": [
      "sorting on the basis of values\n",
      "[(3, 8), (2, 9), (5, 10), (4, 23), (1, 43), (6, 77)]\n"
     ]
    }
   ],
   "source": [
    "key_value={}\n",
    "key_value[5] = 10\n",
    "key_value[3] = 8\n",
    "key_value[6] = 77\n",
    "key_value[4] = 23\n",
    "key_value[2] = 9\n",
    "key_value[1] = 43\n",
    "\n",
    "print(\"sorting on the basis of values\")\n",
    "\n",
    "print(sorted(key_value.items(), key=lambda keyval: (keyval[1], keyval[0])))\n"
   ]
  },
  {
   "cell_type": "code",
   "execution_count": null,
   "id": "fbded731",
   "metadata": {},
   "outputs": [],
   "source": []
  },
  {
   "cell_type": "code",
   "execution_count": null,
   "id": "cfa117e1",
   "metadata": {},
   "outputs": [],
   "source": []
  }
 ],
 "metadata": {
  "kernelspec": {
   "display_name": "Python 3 (ipykernel)",
   "language": "python",
   "name": "python3"
  },
  "language_info": {
   "codemirror_mode": {
    "name": "ipython",
    "version": 3
   },
   "file_extension": ".py",
   "mimetype": "text/x-python",
   "name": "python",
   "nbconvert_exporter": "python",
   "pygments_lexer": "ipython3",
   "version": "3.9.13"
  }
 },
 "nbformat": 4,
 "nbformat_minor": 5
}
