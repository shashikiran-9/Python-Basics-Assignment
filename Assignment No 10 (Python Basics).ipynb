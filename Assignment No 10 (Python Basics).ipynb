{
 "cells": [
  {
   "cell_type": "markdown",
   "id": "a0707f35",
   "metadata": {},
   "source": [
    "                                 Assignment No 10 (Python Basics)"
   ]
  },
  {
   "cell_type": "code",
   "execution_count": null,
   "id": "a09b7186",
   "metadata": {},
   "outputs": [],
   "source": []
  },
  {
   "cell_type": "markdown",
   "id": "264e2c29",
   "metadata": {},
   "source": [
    "Que1. How do you distinguish between shutil.copy() and shutil.copytree()?\n",
    "\n",
    "Ans:\n",
    "     The shutil.copy() function will copy a single file, while shutil.copytree() will copy an entire folder, along with all        its contents. \n",
    "     "
   ]
  },
  {
   "cell_type": "code",
   "execution_count": null,
   "id": "49d3f570",
   "metadata": {},
   "outputs": [],
   "source": []
  },
  {
   "cell_type": "markdown",
   "id": "e594ae23",
   "metadata": {},
   "source": [
    "Que2. What function is used to rename files??\n",
    "\n",
    "Ans: \n",
    "     The shutil.copy() function will copy a single file, while shutil.copytree() will copy an entire folder, along with all its      contents.\n",
    "     "
   ]
  },
  {
   "cell_type": "code",
   "execution_count": null,
   "id": "5aa5b5f6",
   "metadata": {},
   "outputs": [],
   "source": []
  },
  {
   "cell_type": "markdown",
   "id": "7f91a5bd",
   "metadata": {},
   "source": [
    " Que3. What is the difference between the delete functions in the send2trash and shutil modules?\n",
    "\n",
    "Ans: \n",
    "     The send2trash functions will move a file or folder to the recycle bin, while shutil functions will permanently delete          files and folders.\n",
    "     "
   ]
  },
  {
   "cell_type": "code",
   "execution_count": null,
   "id": "a442c5ef",
   "metadata": {},
   "outputs": [],
   "source": []
  },
  {
   "cell_type": "markdown",
   "id": "ef5a765f",
   "metadata": {},
   "source": [
    "Que4. ZipFile objects have a close() method just like File objects’ close() method. What ZipFile method is\n",
    "      equivalent to File objects’ open() method?\n",
    "      \n",
    "Ans:\n",
    "     ZipFiles Module provides a method called as zipfile.ZipFile() to read and write to zipFiles. it takes arugments such as        filename and mode etc zipfile.ZipFile('filename',mode = 'r')\n",
    "     "
   ]
  },
  {
   "cell_type": "code",
   "execution_count": null,
   "id": "7fe6ef61",
   "metadata": {},
   "outputs": [],
   "source": []
  },
  {
   "cell_type": "markdown",
   "id": "fb2989e6",
   "metadata": {},
   "source": [
    "Que5. Create a programme that searches a folder tree for files with a certain file extension (such as .pdf\n",
    "      or .jpg). Copy these files from whatever location they are in to a new folder.\n"
   ]
  },
  {
   "cell_type": "code",
   "execution_count": 7,
   "id": "7246857d",
   "metadata": {},
   "outputs": [],
   "source": [
    "import os \n",
    "import shutil\n",
    "\n",
    "def search_copy(source,destination,extensions):\n",
    "    source = os.path.abspath(source)\n",
    "    destination = os.path.abspath(destination)\n",
    "    for foldername, subfolder, filenames in os.walk(source):\n",
    "        print(f'Folder Name ➞ {foldername}',end='\\n\\n')\n",
    "        print(f'Sub Folders ➞ {subfolder}',end='\\n\\n')\n",
    "        print(f'Files ➞ {filenames}',end='\\n\\n')\n",
    "        for filename in filenames:\n",
    "            fileName,extension = os.path.splitext(filename)\n",
    "            if extension in extensions:\n",
    "                targeFile = foldername+os.path.sep+fileName+extension\n",
    "                shutil.copy(targetFile, destination)\n",
    "        print(f'Files copied successfully from {source} to {destination}')\n",
    "              \n",
    "extensions = ['.pdf', '.jpg', '.ipynb']\n",
    "source = 'Source Folder'\n",
    "destination = 'Destination Folder'\n",
    "search_copy(source, destination, extensions) \n",
    "              \n",
    "        "
   ]
  },
  {
   "cell_type": "code",
   "execution_count": null,
   "id": "37fc6eb3",
   "metadata": {},
   "outputs": [],
   "source": []
  },
  {
   "cell_type": "code",
   "execution_count": null,
   "id": "b4f0d2e8",
   "metadata": {},
   "outputs": [],
   "source": []
  }
 ],
 "metadata": {
  "kernelspec": {
   "display_name": "Python 3 (ipykernel)",
   "language": "python",
   "name": "python3"
  },
  "language_info": {
   "codemirror_mode": {
    "name": "ipython",
    "version": 3
   },
   "file_extension": ".py",
   "mimetype": "text/x-python",
   "name": "python",
   "nbconvert_exporter": "python",
   "pygments_lexer": "ipython3",
   "version": "3.9.13"
  }
 },
 "nbformat": 4,
 "nbformat_minor": 5
}
