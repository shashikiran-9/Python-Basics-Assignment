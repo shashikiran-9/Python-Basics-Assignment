{
 "cells": [
  {
   "cell_type": "markdown",
   "id": "a11399b6",
   "metadata": {},
   "source": [
    "                         Programming Assignment No :- 01"
   ]
  },
  {
   "cell_type": "code",
   "execution_count": null,
   "id": "a1b8b164",
   "metadata": {},
   "outputs": [],
   "source": []
  },
  {
   "cell_type": "code",
   "execution_count": 5,
   "id": "270ea9ab",
   "metadata": {},
   "outputs": [
    {
     "name": "stdout",
     "output_type": "stream",
     "text": [
      "Hello Python\n"
     ]
    }
   ],
   "source": [
    " #Question No 1 :-  Write a Python program to print \"Hello Python\"?\n",
    "    \n",
    " print(\"Hello Python\")"
   ]
  },
  {
   "cell_type": "code",
   "execution_count": null,
   "id": "3f0f4472",
   "metadata": {},
   "outputs": [],
   "source": []
  },
  {
   "cell_type": "code",
   "execution_count": 6,
   "id": "e0857f9a",
   "metadata": {},
   "outputs": [],
   "source": [
    " #Question No 2 :-  Write a Python program to do arithmetical operations addition and division.?\n",
    "    \n",
    " def add(a,b):\n",
    "     return a+b\n",
    "    \n",
    " def divide(a,b):\n",
    "     return a/b"
   ]
  },
  {
   "cell_type": "code",
   "execution_count": 7,
   "id": "e90a22fa",
   "metadata": {},
   "outputs": [
    {
     "data": {
      "text/plain": [
       "50"
      ]
     },
     "execution_count": 7,
     "metadata": {},
     "output_type": "execute_result"
    }
   ],
   "source": [
    " add(45,5)"
   ]
  },
  {
   "cell_type": "code",
   "execution_count": 8,
   "id": "5161953b",
   "metadata": {},
   "outputs": [
    {
     "data": {
      "text/plain": [
       "9.0"
      ]
     },
     "execution_count": 8,
     "metadata": {},
     "output_type": "execute_result"
    }
   ],
   "source": [
    "divide(45,5)"
   ]
  },
  {
   "cell_type": "code",
   "execution_count": 12,
   "id": "bc615b48",
   "metadata": {},
   "outputs": [
    {
     "name": "stdout",
     "output_type": "stream",
     "text": [
      "Enter first number:45\n",
      "Enter Second Number:5\n",
      "arithematic opertor:+\n",
      "Total:  50\n"
     ]
    }
   ],
   "source": [
    "\n",
    " a = int(input('Enter first number:'))\n",
    " b = int(input('Enter Second Number:')) \n",
    " c = input ('arithematic opertor:')\n",
    "    \n",
    " if c == \"+\":\n",
    "    x = a+b\n",
    "    print('Total: ',x)\n",
    " elif c == \"/\":\n",
    "    y = a/b\n",
    "    print('Total: ',y)\n",
    " else:\n",
    "    print(\"Opertor not defind\")\n"
   ]
  },
  {
   "cell_type": "code",
   "execution_count": 15,
   "id": "37a9b333",
   "metadata": {},
   "outputs": [
    {
     "name": "stdout",
     "output_type": "stream",
     "text": [
      "Enter first number:45\n",
      "Enter Second Number:5\n",
      "arithematic opertor:/\n",
      "Total:  9.0\n"
     ]
    }
   ],
   "source": [
    " \n",
    " a = int(input('Enter first number:'))\n",
    " b = int(input('Enter Second Number:'))\n",
    " c = input('arithematic opertor:')\n",
    "    \n",
    " if c == \"+\":\n",
    "    x = a+b\n",
    "    print('Total: ',x)\n",
    " elif c == \"/\":\n",
    "    y = a/b\n",
    "    print('Total: ',y)\n",
    " else:\n",
    "    print(\"Opertor not defind\")\n",
    "    \n"
   ]
  },
  {
   "cell_type": "code",
   "execution_count": 16,
   "id": "4e790ac7",
   "metadata": {},
   "outputs": [
    {
     "name": "stdout",
     "output_type": "stream",
     "text": [
      "Enter first number:45\n",
      "Enter Second number:5\n",
      "arithematic opertor:*\n",
      "Opertor not defind\n"
     ]
    }
   ],
   "source": [
    "\n",
    " a = int(input('Enter first number:'))\n",
    " b = int(input('Enter Second number:'))\n",
    " c = input('arithematic opertor:')\n",
    "    \n",
    " if c == \"+\":\n",
    "    x = a+b\n",
    "    print('Total: ',x)\n",
    " elif c == \"/\":\n",
    "    y = a/b\n",
    "    print('Total: ',y)\n",
    " else:\n",
    "    print(\"Opertor not defind\")"
   ]
  },
  {
   "cell_type": "code",
   "execution_count": null,
   "id": "788ba6c8",
   "metadata": {},
   "outputs": [],
   "source": []
  },
  {
   "cell_type": "code",
   "execution_count": 2,
   "id": "3853b51a",
   "metadata": {},
   "outputs": [],
   "source": [
    " #Question No 3 :-  Write a Python program to find the area of a triangle?\n",
    "    \n",
    " # Solution :- Area of Triangle = (Base* Height)/2\n",
    "\n",
    " def Area_of_Triangle(a,b):\n",
    "     Area = a*b/2\n",
    "     print(Area)"
   ]
  },
  {
   "cell_type": "code",
   "execution_count": 3,
   "id": "0c5db25e",
   "metadata": {},
   "outputs": [
    {
     "name": "stdout",
     "output_type": "stream",
     "text": [
      "250.0\n"
     ]
    }
   ],
   "source": [
    " Area_of_Triangle(50,10)"
   ]
  },
  {
   "cell_type": "code",
   "execution_count": 4,
   "id": "94384a98",
   "metadata": {},
   "outputs": [
    {
     "name": "stdout",
     "output_type": "stream",
     "text": [
      "Value of Base: 50\n",
      "Value of Height: 10\n",
      "Area of Triangle:  250.0\n"
     ]
    }
   ],
   "source": [
    " base = int(input('Value of Base: '))\n",
    " height = int(input(\"Value of Height: \"))\n",
    " \n",
    " Area = base*height/2\n",
    "\n",
    " def Area_of_triangle(base,height):\n",
    "     print('Area of Triangle: ',Area)\n",
    "    \n",
    " Area_of_triangle(base,height)   "
   ]
  },
  {
   "cell_type": "code",
   "execution_count": null,
   "id": "d51b95ec",
   "metadata": {},
   "outputs": [],
   "source": [
    " "
   ]
  },
  {
   "cell_type": "code",
   "execution_count": null,
   "id": "7493718f",
   "metadata": {},
   "outputs": [],
   "source": [
    " #Question No 4 :-  Write a Python program to swap two variables?"
   ]
  },
  {
   "cell_type": "code",
   "execution_count": 5,
   "id": "9ea4e234",
   "metadata": {},
   "outputs": [
    {
     "name": "stdout",
     "output_type": "stream",
     "text": [
      "Enter First Number: 10\n",
      "Enter Second Number: 20\n",
      "Before swap X is 10 , Y is 20\n",
      "After swap X is 20 , Y is 10\n"
     ]
    }
   ],
   "source": [
    " num_1 = int(input(\"Enter First Number: \"))\n",
    "    \n",
    " num_2 = int(input(\"Enter Second Number: \"))\n",
    "\n",
    " print(\"Before swap\", \"X is\", num_1, \",\" , \"Y is\",num_2)\n",
    " \n",
    " num_1,num_2 = num_2,num_1\n",
    "    \n",
    " print(\"After swap\", \"X is\", num_1, \",\" , \"Y is\",num_2)"
   ]
  },
  {
   "cell_type": "code",
   "execution_count": null,
   "id": "7b523657",
   "metadata": {},
   "outputs": [],
   "source": []
  },
  {
   "cell_type": "code",
   "execution_count": 9,
   "id": "56ac4533",
   "metadata": {},
   "outputs": [],
   "source": [
    " # Question No 5 :-  Write a Python program to generate a random number?\n",
    "    \n",
    " import numpy as np\n",
    "\n",
    " random_number= np.random.randn(5)"
   ]
  },
  {
   "cell_type": "code",
   "execution_count": 10,
   "id": "cc4cfd0f",
   "metadata": {},
   "outputs": [
    {
     "data": {
      "text/plain": [
       "array([ 0.67925871,  0.75765976, -0.19463186, -2.30649112, -1.00998573])"
      ]
     },
     "execution_count": 10,
     "metadata": {},
     "output_type": "execute_result"
    }
   ],
   "source": [
    " random_number"
   ]
  },
  {
   "cell_type": "code",
   "execution_count": null,
   "id": "606767a8",
   "metadata": {},
   "outputs": [],
   "source": []
  }
 ],
 "metadata": {
  "kernelspec": {
   "display_name": "Python 3 (ipykernel)",
   "language": "python",
   "name": "python3"
  },
  "language_info": {
   "codemirror_mode": {
    "name": "ipython",
    "version": 3
   },
   "file_extension": ".py",
   "mimetype": "text/x-python",
   "name": "python",
   "nbconvert_exporter": "python",
   "pygments_lexer": "ipython3",
   "version": "3.9.12"
  }
 },
 "nbformat": 4,
 "nbformat_minor": 5
}
