{
 "cells": [
  {
   "cell_type": "markdown",
   "id": "666ad499",
   "metadata": {},
   "source": [
    "                                  Assignment No 05 (Python Basics)"
   ]
  },
  {
   "cell_type": "code",
   "execution_count": null,
   "id": "ad659994",
   "metadata": {},
   "outputs": [],
   "source": []
  },
  {
   "cell_type": "markdown",
   "id": "56448cc1",
   "metadata": {},
   "source": [
    "Que 1.  What does an empty dictionary's code look like?\n",
    "\n",
    "Ans:    Two curly brackets : {}"
   ]
  },
  {
   "cell_type": "code",
   "execution_count": 1,
   "id": "6e067dbb",
   "metadata": {},
   "outputs": [
    {
     "name": "stdout",
     "output_type": "stream",
     "text": [
      "Created empty dictionary: {}\n",
      "<class 'dict'>\n"
     ]
    }
   ],
   "source": [
    " my_new_dict = {}\n",
    "    \n",
    " print(\"Created empty dictionary:\", my_new_dict)\n",
    "\n",
    " print(type(my_new_dict))"
   ]
  },
  {
   "cell_type": "code",
   "execution_count": null,
   "id": "4fa446ba",
   "metadata": {},
   "outputs": [],
   "source": []
  },
  {
   "cell_type": "code",
   "execution_count": null,
   "id": "335aeb9c",
   "metadata": {},
   "outputs": [],
   "source": [
    "Que 2. What is the value of a dictionary value with the key 'foo' and the value 42?\n",
    "\n",
    "Ans:   {'foo' : 42}\n",
    "    "
   ]
  },
  {
   "cell_type": "code",
   "execution_count": 2,
   "id": "e7ef39cc",
   "metadata": {},
   "outputs": [
    {
     "name": "stdout",
     "output_type": "stream",
     "text": [
      "{'foo': 42}\n"
     ]
    }
   ],
   "source": [
    " d = {\"foo\" : 42}\n",
    "    \n",
    " print(d)   "
   ]
  },
  {
   "cell_type": "code",
   "execution_count": null,
   "id": "7cdb3f6a",
   "metadata": {},
   "outputs": [],
   "source": []
  },
  {
   "cell_type": "markdown",
   "id": "a3275a09",
   "metadata": {},
   "source": [
    "Que 3. What is the most significant distinction between a dictionary and a list?\n",
    "\n",
    "Ans:   Most significant difference:\n",
    "       Dictionary:- The items stored in a dictionary are unordered\n",
    "       List:- The items in a list are orderd.\n"
   ]
  },
  {
   "cell_type": "code",
   "execution_count": 3,
   "id": "e7ccdecb",
   "metadata": {},
   "outputs": [
    {
     "name": "stdout",
     "output_type": "stream",
     "text": [
      "{'Vegetable': 'potato', 'Fruit': 'banana', 'Chacalate': 'gems'}\n"
     ]
    }
   ],
   "source": [
    " sample_dict = {\"Vegetable\": \"potato\", \"Fruit\": \"banana\", \"Chacalate\": \"gems\"}\n",
    "    \n",
    " print(sample_dict)   "
   ]
  },
  {
   "cell_type": "code",
   "execution_count": 4,
   "id": "765cbc13",
   "metadata": {},
   "outputs": [
    {
     "name": "stdout",
     "output_type": "stream",
     "text": [
      "['Python', 'is', 'fun']\n"
     ]
    }
   ],
   "source": [
    " sample_list = [\"Python\", \"is\", \"fun\"]\n",
    "    \n",
    " print(sample_list)   "
   ]
  },
  {
   "cell_type": "code",
   "execution_count": null,
   "id": "b1b756de",
   "metadata": {},
   "outputs": [],
   "source": []
  },
  {
   "cell_type": "markdown",
   "id": "b173d574",
   "metadata": {},
   "source": [
    "Que 4.  What happens if you try to access spam['foo'] if spam is {'bar':100}?\n",
    "\n",
    "Ans:   We get a keyError error"
   ]
  },
  {
   "cell_type": "code",
   "execution_count": 10,
   "id": "71dba3f0",
   "metadata": {
    "scrolled": true
   },
   "outputs": [
    {
     "ename": "KeyError",
     "evalue": "'foo'",
     "output_type": "error",
     "traceback": [
      "\u001b[1;31m---------------------------------------------------------------------------\u001b[0m",
      "\u001b[1;31mKeyError\u001b[0m                                  Traceback (most recent call last)",
      "Input \u001b[1;32mIn [10]\u001b[0m, in \u001b[0;36m<cell line: 3>\u001b[1;34m()\u001b[0m\n\u001b[0;32m      1\u001b[0m \u001b[38;5;66;03m#This will give us key error\u001b[39;00m\n\u001b[0;32m      2\u001b[0m spam \u001b[38;5;241m=\u001b[39m {\u001b[38;5;124m'\u001b[39m\u001b[38;5;124mbar\u001b[39m\u001b[38;5;124m'\u001b[39m: \u001b[38;5;241m100\u001b[39m}\n\u001b[1;32m----> 3\u001b[0m \u001b[43mspam\u001b[49m\u001b[43m[\u001b[49m\u001b[38;5;124;43m'\u001b[39;49m\u001b[38;5;124;43mfoo\u001b[39;49m\u001b[38;5;124;43m'\u001b[39;49m\u001b[43m]\u001b[49m\n",
      "\u001b[1;31mKeyError\u001b[0m: 'foo'"
     ]
    }
   ],
   "source": [
    " #This will give us key error\n",
    " spam = {'bar': 100}\n",
    " spam['foo']\n"
   ]
  },
  {
   "cell_type": "code",
   "execution_count": null,
   "id": "27189308",
   "metadata": {},
   "outputs": [],
   "source": []
  },
  {
   "cell_type": "markdown",
   "id": "9f136492",
   "metadata": {},
   "source": [
    "Que 5. If a dictionary is stored in spam, what is the difference between the expressions 'cat' in spam and 'cat' in                    spam.keys()?\n",
    "\n",
    "Ans:  There is no difference. The in operator checks whether a value exists as a key in the dictionary\n"
   ]
  },
  {
   "cell_type": "code",
   "execution_count": 8,
   "id": "201d42aa",
   "metadata": {},
   "outputs": [
    {
     "data": {
      "text/plain": [
       "True"
      ]
     },
     "execution_count": 8,
     "metadata": {},
     "output_type": "execute_result"
    }
   ],
   "source": [
    " spam = {'cat': 100}\n",
    "    \n",
    " 'cat' in spam    "
   ]
  },
  {
   "cell_type": "code",
   "execution_count": 9,
   "id": "109665e8",
   "metadata": {},
   "outputs": [
    {
     "data": {
      "text/plain": [
       "True"
      ]
     },
     "execution_count": 9,
     "metadata": {},
     "output_type": "execute_result"
    }
   ],
   "source": [
    " #There is no difference, both\n",
    " 'cat' in spam.keys()\n",
    "      "
   ]
  },
  {
   "cell_type": "code",
   "execution_count": null,
   "id": "ec2d8266",
   "metadata": {},
   "outputs": [],
   "source": []
  },
  {
   "cell_type": "markdown",
   "id": "74e22189",
   "metadata": {},
   "source": [
    "Que 6.  If a dictionary is stored in spam, what is the difference between the expressions 'cat' in spam and\n",
    "        'cat' in spam.values()?\n",
    "        \n",
    "Ans:   'cat' in spam checks whether there is a 'cat' key in the dictionary, while 'cat'in spam.values() checks whether there is         a value 'cat' for one of the keys in spam.     "
   ]
  },
  {
   "cell_type": "code",
   "execution_count": 11,
   "id": "f3cb6005",
   "metadata": {},
   "outputs": [
    {
     "data": {
      "text/plain": [
       "True"
      ]
     },
     "execution_count": 11,
     "metadata": {},
     "output_type": "execute_result"
    }
   ],
   "source": [
    " spam = {'cat': 100}\n",
    " \n",
    " 'cat' in spam"
   ]
  },
  {
   "cell_type": "code",
   "execution_count": 12,
   "id": "dc3ac73d",
   "metadata": {},
   "outputs": [
    {
     "data": {
      "text/plain": [
       "False"
      ]
     },
     "execution_count": 12,
     "metadata": {},
     "output_type": "execute_result"
    }
   ],
   "source": [
    " #'cat' in spam checks whether \n",
    " #'cat' in spam.values() checks\n",
    "\n",
    " spam = {'cat': 100}\n",
    " \n",
    " 'cat' in spam.values()"
   ]
  },
  {
   "cell_type": "code",
   "execution_count": null,
   "id": "71a8ec08",
   "metadata": {},
   "outputs": [],
   "source": []
  },
  {
   "cell_type": "markdown",
   "id": "6bc46535",
   "metadata": {},
   "source": [
    "Que 7. What is a shortcut for the following code?\n",
    "       if 'color' not in spam:\n",
    "       spam['color'] = 'black'\n",
    "    \n",
    "Ans:   spam.setdefault('color', 'black')    "
   ]
  },
  {
   "cell_type": "code",
   "execution_count": 13,
   "id": "9b898727",
   "metadata": {},
   "outputs": [
    {
     "data": {
      "text/plain": [
       "{'cat': 100, 'color': 'black'}"
      ]
     },
     "execution_count": 13,
     "metadata": {},
     "output_type": "execute_result"
    }
   ],
   "source": [
    " spam = {'cat': 100}\n",
    "    \n",
    " spam.setdefault('color', 'black')\n",
    "\n",
    " spam"
   ]
  },
  {
   "cell_type": "code",
   "execution_count": null,
   "id": "8c39d649",
   "metadata": {},
   "outputs": [],
   "source": []
  },
  {
   "cell_type": "markdown",
   "id": "11002740",
   "metadata": {},
   "source": [
    "Que 8.  How do you \"pretty print\" dictionary values using which module and function?\n",
    "\n",
    "Ans:   pprint.pprint() "
   ]
  },
  {
   "cell_type": "code",
   "execution_count": 8,
   "id": "e4d39d60",
   "metadata": {},
   "outputs": [],
   "source": [
    " import pprint\n",
    "    \n",
    " dct_arr = [ \n",
    "          {'Name': 'shree', 'Age': '23', 'Country': 'India'},\n",
    "          {'Name': 'Anna', 'Age': '28', 'Country': 'china'}, \n",
    "          {'Name': 'shiva', 'Age': '30', 'Country': 'USA'},\n",
    "          {'Name': 'jai', 'Age': '35', 'Country': 'Uk'},\n",
    "       ] \n"
   ]
  },
  {
   "cell_type": "code",
   "execution_count": 9,
   "id": "fb28839a",
   "metadata": {},
   "outputs": [
    {
     "name": "stdout",
     "output_type": "stream",
     "text": [
      "[{'Age': '23', 'Country': 'India', 'Name': 'shree'},\n",
      " {'Age': '28', 'Country': 'china', 'Name': 'Anna'},\n",
      " {'Age': '30', 'Country': 'USA', 'Name': 'shiva'},\n",
      " {'Age': '35', 'Country': 'Uk', 'Name': 'jai'}]\n"
     ]
    }
   ],
   "source": [
    " #printing with pprint()\n",
    "    \n",
    " pprint.pprint(dct_arr)   "
   ]
  },
  {
   "cell_type": "code",
   "execution_count": 10,
   "id": "fb9d3a4a",
   "metadata": {},
   "outputs": [
    {
     "name": "stdout",
     "output_type": "stream",
     "text": [
      "[{'Name': 'shree', 'Age': '23', 'Country': 'India'}, {'Name': 'Anna', 'Age': '28', 'Country': 'china'}, {'Name': 'shiva', 'Age': '30', 'Country': 'USA'}, {'Name': 'jai', 'Age': '35', 'Country': 'Uk'}]\n"
     ]
    }
   ],
   "source": [
    " #Printing With print()\n",
    " print(dct_arr)   "
   ]
  },
  {
   "cell_type": "code",
   "execution_count": null,
   "id": "bdefe368",
   "metadata": {},
   "outputs": [],
   "source": []
  }
 ],
 "metadata": {
  "kernelspec": {
   "display_name": "Python 3 (ipykernel)",
   "language": "python",
   "name": "python3"
  },
  "language_info": {
   "codemirror_mode": {
    "name": "ipython",
    "version": 3
   },
   "file_extension": ".py",
   "mimetype": "text/x-python",
   "name": "python",
   "nbconvert_exporter": "python",
   "pygments_lexer": "ipython3",
   "version": "3.9.12"
  }
 },
 "nbformat": 4,
 "nbformat_minor": 5
}
