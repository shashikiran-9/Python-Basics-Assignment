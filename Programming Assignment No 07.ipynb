{
 "cells": [
  {
   "cell_type": "markdown",
   "id": "66e03af6",
   "metadata": {},
   "source": [
    "                            Programmging Assignment No 07"
   ]
  },
  {
   "cell_type": "code",
   "execution_count": null,
   "id": "698085f5",
   "metadata": {},
   "outputs": [],
   "source": []
  },
  {
   "cell_type": "code",
   "execution_count": 3,
   "id": "396a88cd",
   "metadata": {},
   "outputs": [
    {
     "name": "stdout",
     "output_type": "stream",
     "text": [
      "Length of array: 5\n",
      "1\n",
      "2\n",
      "3\n",
      "4\n",
      "5\n",
      "Provied array: [1, 2, 3, 4, 5] \n",
      "sum give array is 15\n"
     ]
    }
   ],
   "source": [
    "# Que 1. Write a Python Program to find sum of array?\n",
    "\n",
    "array = []\n",
    "size = int(input(\"Length of array: \"))\n",
    "for i in range(size):\n",
    "    elements = int(input())\n",
    "    array.append(elements)\n",
    "    \n",
    "print(\"Provied array: {} \\nsum give array is {}\".format(array,sum(array)))\n"
   ]
  },
  {
   "cell_type": "code",
   "execution_count": 4,
   "id": "5bff2041",
   "metadata": {},
   "outputs": [
    {
     "name": "stdout",
     "output_type": "stream",
     "text": [
      "Enter the Array: 1,2,3,4,5\n",
      "The sum of Array is 15\n"
     ]
    }
   ],
   "source": [
    "def sum_array():\n",
    "    array = eval(input(\"Enter the Array: \"))\n",
    "    print(\"The sum of Array is {}\".format(sum(array)))\n",
    "    \n",
    "sum_array()\n"
   ]
  },
  {
   "cell_type": "code",
   "execution_count": null,
   "id": "2a6b380b",
   "metadata": {},
   "outputs": [],
   "source": []
  },
  {
   "cell_type": "code",
   "execution_count": 5,
   "id": "7d31b32f",
   "metadata": {},
   "outputs": [
    {
     "name": "stdout",
     "output_type": "stream",
     "text": [
      "Length of array: 5\n",
      "10\n",
      "20\n",
      "30\n",
      "40\n",
      "50\n",
      "Provided array: [10, 20, 30, 40, 50] \n",
      " Largest Element in array is : 50\n"
     ]
    }
   ],
   "source": [
    "# Que 2. Write a Python Program to find largest element in an array?\n",
    "\n",
    "array = []\n",
    "size = int(input(\"Length of array: \"))\n",
    "for i in range(size):\n",
    "    elements = int(input())\n",
    "    array.append(elements)\n",
    "    \n",
    "print(\"Provided array: {} \\n Largest Element in array is : {}\".format(array,max(array))) \n"
   ]
  },
  {
   "cell_type": "code",
   "execution_count": 6,
   "id": "a060b722",
   "metadata": {},
   "outputs": [
    {
     "name": "stdout",
     "output_type": "stream",
     "text": [
      "Enter the Array: 10,20,30,40,50\n",
      "Largest Element in array is 50\n"
     ]
    }
   ],
   "source": [
    "def max_array():\n",
    "    array = eval(input(\"Enter the Array: \"))\n",
    "    print(\"Largest Element in array is {}\".format(max(array)))\n",
    "    \n",
    "max_array()\n"
   ]
  },
  {
   "cell_type": "code",
   "execution_count": null,
   "id": "e406f3ea",
   "metadata": {},
   "outputs": [],
   "source": []
  },
  {
   "cell_type": "code",
   "execution_count": 7,
   "id": "4232b6ec",
   "metadata": {},
   "outputs": [
    {
     "name": "stdout",
     "output_type": "stream",
     "text": [
      "Length of array:5\n",
      "10\n",
      "20\n",
      "30\n",
      "40\n",
      "50\n",
      "Provided array: [10, 20, 30, 40, 50] \n",
      "Rotation array is: [50, 40, 30, 20, 10]\n"
     ]
    }
   ],
   "source": [
    "# Que 3. Write a Python Program for array rotation?\n",
    "\n",
    "array = []\n",
    "size = int(input(\"Length of array:\"))\n",
    "for i in range(size):\n",
    "    elements = int(input())\n",
    "    array.append(elements)\n",
    "    \n",
    "print(\"Provided array: {} \\nRotation array is: {}\".format(array,array[::-1]))\n"
   ]
  },
  {
   "cell_type": "code",
   "execution_count": 8,
   "id": "e238499f",
   "metadata": {},
   "outputs": [
    {
     "name": "stdout",
     "output_type": "stream",
     "text": [
      "Enter the Array: 10,20,30,40,50\n",
      "Rotation array is (50, 40, 30, 20, 10)\n"
     ]
    }
   ],
   "source": [
    "def rot_array():\n",
    "    array = eval(input(\"Enter the Array: \"))\n",
    "    print(\"Rotation array is {}\".format(array[::-1]))\n",
    "    \n",
    "rot_array()\n"
   ]
  },
  {
   "cell_type": "code",
   "execution_count": null,
   "id": "f7999377",
   "metadata": {},
   "outputs": [],
   "source": []
  },
  {
   "cell_type": "code",
   "execution_count": 10,
   "id": "6919f4be",
   "metadata": {},
   "outputs": [
    {
     "name": "stdout",
     "output_type": "stream",
     "text": [
      "Length of array: 5\n",
      "10\n",
      "20\n",
      "30\n",
      "40\n",
      "50\n",
      "[10, 20, 30, 40, 50]\n",
      "splitted part is:  [10, 20]\n",
      "after spliting remaining array is: [30, 40, 50]\n",
      "Fine Array:  [10, 20, 30, 40, 50]\n"
     ]
    }
   ],
   "source": [
    "# Que 4. Write a Python Program to Split the array and add the first part to the end?\n",
    "\n",
    "array = []\n",
    "size = int(input(\"Length of array: \"))\n",
    "for i in range(size):\n",
    "    elements = int(input())\n",
    "    array.append(elements)\n",
    "print(array)\n",
    "\n",
    "mid = size//2\n",
    "\n",
    "split_1 = array[:mid]\n",
    "print(\"splitted part is: \",split_1)\n",
    "\n",
    "split_2 = array[mid:]\n",
    "print(\"after spliting remaining array is:\",split_2)\n",
    "\n",
    "array = split_1+split_2\n",
    "print(\"Fine Array: \",array)\n"
   ]
  },
  {
   "cell_type": "code",
   "execution_count": null,
   "id": "04489c43",
   "metadata": {},
   "outputs": [],
   "source": []
  },
  {
   "cell_type": "code",
   "execution_count": 11,
   "id": "b2640dbd",
   "metadata": {},
   "outputs": [
    {
     "name": "stdout",
     "output_type": "stream",
     "text": [
      "Length of array: 5\n",
      "10\n",
      "20\n",
      "30\n",
      "40\n",
      "50\n",
      "[10, 20, 30, 40, 50]\n",
      "True\n"
     ]
    }
   ],
   "source": [
    "# QUe 5. Write a Python Program to check if given array is Monotonic?\n",
    "\n",
    "def monotonic(array):\n",
    "    return(all(array[i]<=array[i+1] for i in range(len(array)-1))or\n",
    "           all(array[i]>=array[i+1] for i in range(len(array)-1)))\n",
    "\n",
    "array = []\n",
    "size = int(input(\"Length of array: \"))\n",
    "for i in range(size):\n",
    "    elements = int(input())\n",
    "    array.append(elements)\n",
    "print(array)\n",
    "\n",
    "print(monotonic(array))\n"
   ]
  },
  {
   "cell_type": "code",
   "execution_count": 15,
   "id": "38b0252d",
   "metadata": {},
   "outputs": [
    {
     "name": "stdout",
     "output_type": "stream",
     "text": [
      "Enter the Array: 10,20,30,40,50\n",
      "Array (10, 20, 30, 40, 50) is Monotonic\n",
      "Enter the Array: 10,20,40,30,50\n",
      "Array (10, 20, 40, 30, 50) is Not Monotonic\n"
     ]
    }
   ],
   "source": [
    "def checkMonotonic():\n",
    "    in_arr = eval(input(\"Enter the Array: \"))\n",
    "    if(all(in_arr[i]<=in_arr[i+1]for i in range(len(in_arr)-1)) or all(in_arr[i]>=in_arr[i+1] for i in range(len(in_arr)-1))):\n",
    "        print(f'Array {in_arr} is Monotonic')\n",
    "    else:\n",
    "        print(f'Array {in_arr} is Not Monotonic')\n",
    "        \n",
    "        \n",
    "checkMonotonic()\n",
    "checkMonotonic()\n"
   ]
  },
  {
   "cell_type": "code",
   "execution_count": null,
   "id": "fea6c254",
   "metadata": {},
   "outputs": [],
   "source": []
  },
  {
   "cell_type": "code",
   "execution_count": null,
   "id": "243c4612",
   "metadata": {},
   "outputs": [],
   "source": []
  }
 ],
 "metadata": {
  "kernelspec": {
   "display_name": "Python 3 (ipykernel)",
   "language": "python",
   "name": "python3"
  },
  "language_info": {
   "codemirror_mode": {
    "name": "ipython",
    "version": 3
   },
   "file_extension": ".py",
   "mimetype": "text/x-python",
   "name": "python",
   "nbconvert_exporter": "python",
   "pygments_lexer": "ipython3",
   "version": "3.9.12"
  }
 },
 "nbformat": 4,
 "nbformat_minor": 5
}
