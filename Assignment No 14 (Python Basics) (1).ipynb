{
 "cells": [
  {
   "cell_type": "markdown",
   "id": "188f3292",
   "metadata": {},
   "source": [
    "                                      Assignment No 14 (Python Basics)"
   ]
  },
  {
   "cell_type": "code",
   "execution_count": null,
   "id": "251bc350",
   "metadata": {},
   "outputs": [],
   "source": []
  },
  {
   "cell_type": "markdown",
   "id": "6746af40",
   "metadata": {},
   "source": [
    "Que1. What does RGBA stand for?\n",
    "\n",
    "Ans:\n",
    "     An RGBA value of 4 integers, each ranging from 0 to 255. The four integers correspond to the amount of red, green, blue,        and alpha (transparency) in the color.\n",
    "     "
   ]
  },
  {
   "cell_type": "code",
   "execution_count": null,
   "id": "c4ac7afe",
   "metadata": {},
   "outputs": [],
   "source": []
  },
  {
   "cell_type": "markdown",
   "id": "786c0061",
   "metadata": {},
   "source": [
    "Que2. From the Pillow module, how do you get the RGBA value of any images?\n",
    "\n",
    "Ans:\n",
    "     A function call to ImageColor('CornflowerBlue','RGBA') will return (100, 149, 237, 255), the RGBA value for that color.\n",
    "     "
   ]
  },
  {
   "cell_type": "code",
   "execution_count": null,
   "id": "00772ae7",
   "metadata": {},
   "outputs": [],
   "source": []
  },
  {
   "cell_type": "markdown",
   "id": "6cc84044",
   "metadata": {},
   "source": [
    "Que3. What is a box tuple, and how does it work?\n",
    "\n",
    "Ans:\n",
    "     A box tuple is a tuple value of four integers:the left edge x-coordinate, the top edge y-coordinate, the width, and the        height,respectively.\n",
    "     "
   ]
  },
  {
   "cell_type": "code",
   "execution_count": null,
   "id": "8ea31b0d",
   "metadata": {},
   "outputs": [],
   "source": []
  },
  {
   "cell_type": "markdown",
   "id": "04a0c583",
   "metadata": {},
   "source": [
    "Que4. Use your image and load in notebook then, How can you find out the width and height of an\n",
    "      Image object?\n"
   ]
  },
  {
   "cell_type": "code",
   "execution_count": null,
   "id": "a779f836",
   "metadata": {},
   "outputs": [],
   "source": [
    "from PIL import Image\n",
    "pic = Image.open('pic.png')\n",
    "print(f'Width, Height -> {pic.size}') # Approach 1\n",
    "print(f'Width, Height -> {pic.width},{pic.height}') # Approach 2\n",
    "width,height = pic.size\n",
    "print(f'Width, Height -> {width},{height}') # Approach 3\n"
   ]
  },
  {
   "cell_type": "code",
   "execution_count": null,
   "id": "a9a3e7e9",
   "metadata": {},
   "outputs": [],
   "source": []
  },
  {
   "cell_type": "markdown",
   "id": "acb4cdc1",
   "metadata": {},
   "source": [
    "Que5. What method would you call to get Image object for a 100×100 image, excluding the lower-left\n",
    "      quarter of it?\n"
   ]
  },
  {
   "cell_type": "code",
   "execution_count": null,
   "id": "9b50959a",
   "metadata": {},
   "outputs": [],
   "source": [
    "from PIL import Image\n",
    "img = Image.open('pic.png')\n",
    "new_img = img.crop((0,50,50,50))\n"
   ]
  },
  {
   "cell_type": "code",
   "execution_count": null,
   "id": "c0d4e312",
   "metadata": {},
   "outputs": [],
   "source": []
  },
  {
   "cell_type": "markdown",
   "id": "2c21adf3",
   "metadata": {},
   "source": [
    "Que6. After making changes to an Image object, how could you save it as an image file?\n"
   ]
  },
  {
   "cell_type": "code",
   "execution_count": null,
   "id": "72cd5ec7",
   "metadata": {},
   "outputs": [],
   "source": [
    "from PIL import Image\n",
    "pic = Image.open('pic.png')\n",
    "pic.save('pic2.png')\n"
   ]
  },
  {
   "cell_type": "code",
   "execution_count": null,
   "id": "9b05a215",
   "metadata": {},
   "outputs": [],
   "source": []
  },
  {
   "cell_type": "markdown",
   "id": "4213aec5",
   "metadata": {},
   "source": [
    "Que7. What module contains Pillow’s shape-drawing code?\n",
    "\n",
    "Ans:\n",
    "     Pillows ImageDraw module contains Shape drawing methods. The 'ImageDraw' module provides simple 2D graphics support for        Image Object. Generally, We use this module to create new images, annotate or retouch existing images and to generate          graphics on the fly web use. The graphics commands support the drawing of shapes and annotation of text.\n",
    "     "
   ]
  },
  {
   "cell_type": "code",
   "execution_count": null,
   "id": "e551933a",
   "metadata": {},
   "outputs": [],
   "source": []
  },
  {
   "cell_type": "markdown",
   "id": "e851dfde",
   "metadata": {},
   "source": [
    "Que8. Image objects do not have drawing methods. What kind of object does? How do you get this kind\n",
    "      of object?\n",
    "\n",
    "Ans:\n",
    "     ImageDraw objects have shape-drawing methods such as point(), line(), or rectangle(). The are returned by passing the          Image object to the ImageDraw.Draw() function.\n",
    "     "
   ]
  },
  {
   "cell_type": "code",
   "execution_count": null,
   "id": "7e27d7d2",
   "metadata": {},
   "outputs": [],
   "source": []
  }
 ],
 "metadata": {
  "kernelspec": {
   "display_name": "Python 3 (ipykernel)",
   "language": "python",
   "name": "python3"
  },
  "language_info": {
   "codemirror_mode": {
    "name": "ipython",
    "version": 3
   },
   "file_extension": ".py",
   "mimetype": "text/x-python",
   "name": "python",
   "nbconvert_exporter": "python",
   "pygments_lexer": "ipython3",
   "version": "3.9.13"
  }
 },
 "nbformat": 4,
 "nbformat_minor": 5
}
