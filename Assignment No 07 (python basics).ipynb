{
 "cells": [
  {
   "cell_type": "markdown",
   "id": "9dd46174",
   "metadata": {},
   "source": [
    "                                Assignment No 07(python basics)"
   ]
  },
  {
   "cell_type": "code",
   "execution_count": null,
   "id": "d959cc83",
   "metadata": {},
   "outputs": [],
   "source": []
  },
  {
   "cell_type": "markdown",
   "id": "1d028ed4",
   "metadata": {},
   "source": [
    "Que1. What is the name of the feature responsible for generating Regex objects?\n",
    "\n",
    "Ans:\n",
    "    The re.compile() function return Regex objects. In anther words, We can compile a regular expression into a regex object to     look for occurrences of the same pattern inside various target strings without rewriting it.\n",
    "    "
   ]
  },
  {
   "cell_type": "code",
   "execution_count": null,
   "id": "5bf9d43a",
   "metadata": {},
   "outputs": [],
   "source": []
  },
  {
   "cell_type": "markdown",
   "id": "7e316e39",
   "metadata": {},
   "source": [
    "Que2. Why do raw strings often appear in Regex objects?\n",
    "\n",
    "Ans: \n",
    "     Regular expressions use the backslash character(\") to indicate special forms (Metacharacters) or to allow special              characters (special sequences) to be used without invoking their special meaning. This collides with Python's usage of the      same character for the same purpose in string literals. Hence, Raw strings are used(e.g.r\"\\n\") so that backslashes do not      have to be escaped. "
   ]
  },
  {
   "cell_type": "code",
   "execution_count": null,
   "id": "de984b88",
   "metadata": {},
   "outputs": [],
   "source": []
  },
  {
   "cell_type": "markdown",
   "id": "60bf109f",
   "metadata": {},
   "source": [
    "Que3. What is the return value of the search() method?\n",
    "\n",
    "Ans:\n",
    "    The search() method returns match objects.\n",
    "    "
   ]
  },
  {
   "cell_type": "code",
   "execution_count": null,
   "id": "58bf3de6",
   "metadata": {},
   "outputs": [],
   "source": []
  },
  {
   "cell_type": "markdown",
   "id": "17516519",
   "metadata": {},
   "source": [
    "Que4. From a Match item, how do you get the actual strings that match the pattern?\n",
    "\n",
    "Ans:\n",
    "     The group() method returns strings of the matched text.\n",
    "     "
   ]
  },
  {
   "cell_type": "code",
   "execution_count": null,
   "id": "3181ec5e",
   "metadata": {},
   "outputs": [],
   "source": []
  },
  {
   "cell_type": "markdown",
   "id": "a3fcdcc0",
   "metadata": {},
   "source": [
    "Que5. In the regex which created from the r'(\\d\\d\\d)-(\\d\\d\\d-\\d\\d\\d\\d)', what does group zero cover?\n",
    "      Group 2? Group 1?\n",
    "      \n",
    "Ans:\n",
    "     In the Regex r'(\\d\\d\\d)-(\\d\\d\\d-\\d\\d\\d\\d)' the zero group covers the entire pattern match where as the first group cover(\\d\\d\\d-\\d\\d\\d\\d)\n",
    "     "
   ]
  },
  {
   "cell_type": "code",
   "execution_count": 1,
   "id": "6df2db1b",
   "metadata": {},
   "outputs": [
    {
     "name": "stdout",
     "output_type": "stream",
     "text": [
      "('123', '456-7891')\n",
      "123-456-7891\n",
      "123-456-7891\n",
      "123-456-7891\n"
     ]
    }
   ],
   "source": [
    "\n",
    "# Example program \n",
    "import re\n",
    "phoneNumRegex = re.compile(r'(\\d\\d\\d)-(\\d\\d\\d-\\d\\d\\d\\d)')\n",
    "mo = phoneNumRegex.search('My number is 123-456-7891.')\n",
    "print(mo.groups()) # Prints all groups in a tuple format\n",
    "print(mo.group()) # Always returns the fully matched string\n",
    "print(mo.group()) # Return the first group\n",
    "print(mo.group()) # Returns the second group\n",
    "\n"
   ]
  },
  {
   "cell_type": "code",
   "execution_count": null,
   "id": "fc3e6e53",
   "metadata": {},
   "outputs": [],
   "source": []
  },
  {
   "cell_type": "markdown",
   "id": "77ab3cb6",
   "metadata": {},
   "source": [
    "Que6. In standard expression syntax, parentheses and intervals have distinct meanings. How can you tell\n",
    "      a regex that you want it to fit real parentheses and periods?\n",
    "      \n",
    "Ans:\n",
    "      The.(and) escape characters in the raw string passed to re.compile() will match actual parenthesis characters.\n",
    "      "
   ]
  },
  {
   "cell_type": "code",
   "execution_count": 10,
   "id": "e731a65a",
   "metadata": {},
   "outputs": [
    {
     "name": "stdout",
     "output_type": "stream",
     "text": [
      "(123) 456-7891\n"
     ]
    }
   ],
   "source": [
    "\n",
    "# Example Program\n",
    "import re \n",
    "phoneNumRegex = re.compile(r'(\\(\\d\\d\\d\\)) (\\d\\d\\d-\\d\\d\\d\\d)')\n",
    "mo = phoneNumRegex.search('My Phone number is (123) 456-7891.')\n",
    "print(mo.group())\n"
   ]
  },
  {
   "cell_type": "code",
   "execution_count": null,
   "id": "a42fb6f1",
   "metadata": {},
   "outputs": [],
   "source": []
  },
  {
   "cell_type": "markdown",
   "id": "2b94f700",
   "metadata": {},
   "source": [
    "Que7. The findall() method returns a string list or a list of string tuples. What causes it to return one of\n",
    "      the two options?\n",
    "    \n",
    "Ans: \n",
    "     If the regex has no groups, a list of strings is returned. If the regex has groups, a list of tuples of strings is              returned.\n",
    "     "
   ]
  },
  {
   "cell_type": "code",
   "execution_count": 13,
   "id": "347ffcb9",
   "metadata": {},
   "outputs": [
    {
     "name": "stdout",
     "output_type": "stream",
     "text": [
      "[('(123)', '456-7891')]\n",
      "['123-456-7891']\n"
     ]
    }
   ],
   "source": [
    "\n",
    "# Example Program\n",
    "import re \n",
    "phoneNumRegex = re.compile(r'(\\(\\d\\d\\d\\)) (\\d\\d\\d-\\d\\d\\d\\d)')\n",
    "mo = phoneNumRegex.findall('My Phone number is (123) 456-7891')\n",
    "print(mo)\n",
    "\n",
    "\n",
    "# Example Program\n",
    "import re\n",
    "phoneNumRegex = re.compile(r'\\d{3}-\\d{3}-\\d{4}')\n",
    "mo = phoneNumRegex.findall('My number is 123-456-7891.')\n",
    "print(mo) # Prints all groups in a tuple format\n",
    "\n"
   ]
  },
  {
   "cell_type": "code",
   "execution_count": null,
   "id": "6985f5cc",
   "metadata": {},
   "outputs": [],
   "source": []
  },
  {
   "cell_type": "markdown",
   "id": "4e08e4c7",
   "metadata": {},
   "source": [
    "Que8. In standard expressions, what does the | character mean?\n",
    "\n",
    "Ans: \n",
    "     The | character signifies matching \"either, or\" between two groups.\n",
    "     "
   ]
  },
  {
   "cell_type": "code",
   "execution_count": null,
   "id": "246970e1",
   "metadata": {},
   "outputs": [],
   "source": []
  },
  {
   "cell_type": "markdown",
   "id": "2c59d8b2",
   "metadata": {},
   "source": [
    "Que9. In regular expressions, what does the character stand for?\n",
    "\n",
    "Ans:\n",
    "     The ? character can either mean \"match zero or one of the preceding group\" or be used to signify nongreedy matching.\n",
    "     "
   ]
  },
  {
   "cell_type": "code",
   "execution_count": null,
   "id": "4ddec3e0",
   "metadata": {},
   "outputs": [],
   "source": []
  },
  {
   "cell_type": "markdown",
   "id": "3894fb97",
   "metadata": {},
   "source": [
    "Que10.In regular expressions, what is the difference between the + and * characters?\n",
    "\n",
    "Ans: \n",
    "     In Regular Expressions,* Represents Zero ore more occurances of the preceedind group, whereas+represents one or more occurances of the preceeding group.\n",
    "     "
   ]
  },
  {
   "cell_type": "code",
   "execution_count": null,
   "id": "bd391db5",
   "metadata": {},
   "outputs": [],
   "source": []
  },
  {
   "cell_type": "markdown",
   "id": "ba6acb71",
   "metadata": {},
   "source": [
    "Que11. What is the difference between {4} and {4,5} in regular expression?\n",
    "\n",
    "Ans: \n",
    "     The {4} matches exactly three instances of the precedind group. The{4,5}matches between three and five instances."
   ]
  },
  {
   "cell_type": "code",
   "execution_count": null,
   "id": "2477bf81",
   "metadata": {},
   "outputs": [],
   "source": []
  },
  {
   "cell_type": "markdown",
   "id": "bb7af27a",
   "metadata": {},
   "source": [
    "que12. What do you mean by the \\d, \\w, and \\s shorthand character classes signify in regular\n",
    "       expressions?\n",
    "       \n",
    "Ans:\n",
    "     The \\d,\\w,and\\s shorthand character classes match a single digit,word,or space character, respectively.\n",
    "     "
   ]
  },
  {
   "cell_type": "code",
   "execution_count": null,
   "id": "2574f7b8",
   "metadata": {},
   "outputs": [],
   "source": []
  },
  {
   "cell_type": "markdown",
   "id": "8f468207",
   "metadata": {},
   "source": [
    "Que13. What do means by \\D, \\W, and \\S shorthand character classes signify in regular expressions?\n",
    "\n",
    "Ans:\n",
    "     The \\d,\\w,and\\s shorthand character classes match a single digit,word,or space character, respectively.\n",
    "     "
   ]
  },
  {
   "cell_type": "code",
   "execution_count": null,
   "id": "410758ce",
   "metadata": {},
   "outputs": [],
   "source": []
  },
  {
   "cell_type": "markdown",
   "id": "5e4c8e8a",
   "metadata": {},
   "source": [
    "Que14. What is the difference between .*? and .*?\n",
    "\n",
    "Ans:\n",
    "     .* is a greedy mode, which returns the longest string that meets the condition. Whereas.*? is a non greedy mode which           returns the shortest string that meets the condition."
   ]
  },
  {
   "cell_type": "code",
   "execution_count": null,
   "id": "e9e9be43",
   "metadata": {},
   "outputs": [],
   "source": []
  },
  {
   "cell_type": "markdown",
   "id": "a523c733",
   "metadata": {},
   "source": [
    "Que15. What is the syntax for matching both numbers and lowercase letters with a character class?\n",
    "\n",
    "Ans: \n",
    "     Either [0-9a-z] or [a-z0-9]\n",
    "     "
   ]
  },
  {
   "cell_type": "code",
   "execution_count": null,
   "id": "a0b3d709",
   "metadata": {},
   "outputs": [],
   "source": []
  },
  {
   "cell_type": "markdown",
   "id": "085293e6",
   "metadata": {},
   "source": [
    "Que16. What is the procedure for making a normal expression in regax case insensitive?\n",
    "\n",
    "Ans: \n",
    "    We can pass re.!GNORECASE as a flag to make a normal expression case insensitive.\n"
   ]
  },
  {
   "cell_type": "code",
   "execution_count": null,
   "id": "edab5c90",
   "metadata": {},
   "outputs": [],
   "source": []
  },
  {
   "cell_type": "markdown",
   "id": "b67f8d28",
   "metadata": {},
   "source": [
    "Que17. What does the . character normally match? What does it match if re.DOTALL is passed as 2nd\n",
    "       argument in re.compile()?\n",
    "       \n",
    "Ans: \n",
    "      The. character normally matches any character except the newline character. If re.DOTALL is passed as the second argument       to re.compile(), then the dot will also match newline characters.\n",
    "      "
   ]
  },
  {
   "cell_type": "code",
   "execution_count": null,
   "id": "fb2e8018",
   "metadata": {},
   "outputs": [],
   "source": []
  },
  {
   "cell_type": "markdown",
   "id": "e7324f3b",
   "metadata": {},
   "source": [
    "Que18. If numReg = re.compile(r'\\d+'), what will numRegex.sub('X', '11 drummers, 10 pipers, five rings, 4 hen')\n",
    "         return?\n",
    "         \n",
    "Ans:\n",
    "     The output will be 'X drummers, Xpipers, five rings, X hen's"
   ]
  },
  {
   "cell_type": "code",
   "execution_count": 1,
   "id": "c3687ec3",
   "metadata": {},
   "outputs": [
    {
     "data": {
      "text/plain": [
       "'x drummers, x pipers, five rings, x hen'"
      ]
     },
     "execution_count": 1,
     "metadata": {},
     "output_type": "execute_result"
    }
   ],
   "source": [
    "import re\n",
    "numReg = re.compile(r'\\d+')\n",
    "numReg.sub('x', '11 drummers, 10 pipers, five rings, 4 hen')\n",
    "\n"
   ]
  },
  {
   "cell_type": "code",
   "execution_count": null,
   "id": "4159a808",
   "metadata": {},
   "outputs": [],
   "source": []
  },
  {
   "cell_type": "markdown",
   "id": "86658e9c",
   "metadata": {},
   "source": [
    "Que19. What does passing re.VERBOSE as the 2nd argument to re.compile() allow to do?\n",
    "\n",
    "Ans:\n",
    "     re.VERBOSE will allow to add whitespace and comments to string passed to re.compile().\n",
    "     "
   ]
  },
  {
   "cell_type": "code",
   "execution_count": 2,
   "id": "702a2510",
   "metadata": {},
   "outputs": [],
   "source": [
    "# without Using VERBOSE \n",
    "regex_email = re.compile(r'^([a-z0-9_\\.-]+)@([0-9a-z\\.-]+)\\.([a-z\\.]{2, 6})$', re.IGNORECASE)\n",
    "                         \n",
    "# using VERBOSE \n",
    "regex_email = re.compile(r\"\"\"\n",
    "                            ^([a-z0-9\\.-]+)      # local part like username\n",
    "                            @                    # single @ sign\n",
    "                            ([0-9a-z\\.-]+)       # Domain name like google\n",
    "                            \\.                   # single Dot .\n",
    "                            ([a-z]{2,6})$        # Toop level Domain like com/in/org\n",
    "                          \"\"\",re.VERBOSE | re.IGNORECASE)\n",
    "\n"
   ]
  },
  {
   "cell_type": "code",
   "execution_count": null,
   "id": "0b40554d",
   "metadata": {},
   "outputs": [],
   "source": []
  },
  {
   "cell_type": "markdown",
   "id": "f2a10833",
   "metadata": {},
   "source": [
    "Que20. How would you write a regex that match a number with comma for every three digits? It must\n",
    "       match the given following:\n",
    "        '42'\n",
    "        '1,234'\n",
    "        '6,368,745\n",
    "        but not the followig:\n",
    "        '12,34,567' (which has only two digits between the commas)\n",
    "        '1234' (which lacks commas)\n",
    "\n"
   ]
  },
  {
   "cell_type": "code",
   "execution_count": 4,
   "id": "f934fc69",
   "metadata": {},
   "outputs": [
    {
     "name": "stdout",
     "output_type": "stream",
     "text": [
      "Output: 42 -> <re.Match object; span=(0, 2), match='42'>\n",
      "Output: 1,234 -> <re.Match object; span=(0, 5), match='1,234'>\n",
      "Output: 6,368,745 -> <re.Match object; span=(0, 9), match='6,368,745'>\n",
      "Output: 12,34,567 -> None\n",
      "Output: 1234 -> None\n"
     ]
    }
   ],
   "source": [
    "\n",
    "import re \n",
    "pattern = r'^\\d{1,3}(,\\d{3})*$'\n",
    "pagex = re.compile(pattern)\n",
    "for ele in ['42', '1,234', '6,368,745', '12,34,567', '1234']:\n",
    "    print('Output:',ele, '->', pagex.search(ele))\n",
    "    \n"
   ]
  },
  {
   "cell_type": "code",
   "execution_count": null,
   "id": "25892622",
   "metadata": {},
   "outputs": [],
   "source": []
  },
  {
   "cell_type": "markdown",
   "id": "5c5ba1ab",
   "metadata": {},
   "source": [
    "Que21. How would you write a regex that matches the full name of someone whose last name is\n",
    "       Watanabe? You can assume that the first name that comes before it will always be one word that\n",
    "       begins with a capital letter. The regex must match the following:\n",
    "    \n",
    "       'Haruto Watanabe'\n",
    "\n",
    "       'Alice Watanabe'\n",
    "\n",
    "       'RoboCop Watanabe'\n",
    "\n",
    "       but not the following:\n",
    "\n",
    "       'haruto Watanabe' (where the first name is not capitalized)\n",
    "\n",
    "       'Mr. Watanabe' (where the preceding word has a nonletter character)\n",
    " \n",
    "       'Watanabe' (which has no first name)\n",
    "\n",
    "       'Haruto watanabe' (where Watanabe is not capitalized)\n",
    "\n"
   ]
  },
  {
   "cell_type": "code",
   "execution_count": 5,
   "id": "db620604",
   "metadata": {},
   "outputs": [
    {
     "name": "stdout",
     "output_type": "stream",
     "text": [
      "Output:  Haruto Watanabe -> <re.Match object; span=(0, 15), match='Haruto Watanabe'>\n",
      "Output:  Alice Watanabe -> <re.Match object; span=(0, 14), match='Alice Watanabe'>\n",
      "Output:  RoboCop Watanabe -> <re.Match object; span=(4, 16), match='Cop Watanabe'>\n",
      "Output:  haruto Watanabe -> None\n",
      "Output:  Mr. Watanabe -> None\n",
      "Output:  Watanabe -> None\n",
      "Output:  Haruto Watanabe -> <re.Match object; span=(0, 15), match='Haruto Watanabe'>\n"
     ]
    }
   ],
   "source": [
    "import re \n",
    "pattern = r'[A-Z]{1}[a-z]*\\sWatanabe'\n",
    "namex = re.compile(pattern)\n",
    "for name in ['Haruto Watanabe', 'Alice Watanabe', 'RoboCop Watanabe', 'haruto Watanabe', 'Mr. Watanabe', 'Watanabe', 'Haruto Watanabe']:\n",
    "    print('Output: ',name,'->',namex.search(name))\n",
    "    \n",
    "    \n"
   ]
  },
  {
   "cell_type": "code",
   "execution_count": null,
   "id": "fa86f606",
   "metadata": {},
   "outputs": [],
   "source": []
  },
  {
   "cell_type": "markdown",
   "id": "853d0fca",
   "metadata": {},
   "source": [
    "Que22. How would you write a regex that matches a sentence where the first word is either Alice, Bob,\n",
    "       or Carol; the second word is either eats, pets, or throws; the third word is apples, cats, or baseballs;\n",
    "       and the sentence ends with a period? This regex should be case-insensitive. It must match the\n",
    "       following:\n",
    "       \n",
    "       'Alice eats apples.'\n",
    "\n",
    "       'Bob pets cats.'\n",
    "\n",
    "       'Carol throws baseballs.'\n",
    "\n",
    "       'Alice throws Apples.'\n",
    "\n",
    "       'BOB EATS CATS.'\n",
    "\n",
    "       but not the following:\n",
    "\n",
    "       'RoboCop eats apples.'\n",
    "\n",
    "      'ALICE THROWS FOOTBALLS.'\n",
    "\n",
    "      'Carol eats 7 cats.'\n",
    "\n"
   ]
  },
  {
   "cell_type": "code",
   "execution_count": 6,
   "id": "a5f8ebfd",
   "metadata": {},
   "outputs": [
    {
     "name": "stdout",
     "output_type": "stream",
     "text": [
      "Output:  Alice eats apples. -> <re.Match object; span=(0, 18), match='Alice eats apples.'>\n",
      "Output:  Bob pets cats. -> <re.Match object; span=(0, 14), match='Bob pets cats.'>\n",
      "Output:  Carol throws baseballs -> None\n",
      "Output:  Alice throws Apples. -> <re.Match object; span=(0, 20), match='Alice throws Apples.'>\n",
      "Output:  BOB EATS CATS. -> <re.Match object; span=(0, 14), match='BOB EATS CATS.'>\n",
      "Output:  RoboCop eats apples. -> None\n",
      "Output:  ALICE THROWS FOOztBALLS. -> None\n",
      "Output:  Carol eats 7 cats. -> None\n"
     ]
    }
   ],
   "source": [
    "import re \n",
    "pattern = r'(Alice|Bob|Carol)\\s(eats|pets|throws)\\s(apples|cats|baseballs)\\.'\n",
    "casex = re.compile(pattern,re.IGNORECASE)\n",
    "for ele in ['Alice eats apples.','Bob pets cats.','Carol throws baseballs','Alice throws Apples.','BOB EATS CATS.','RoboCop eats apples.','ALICE THROWS FOOztBALLS.','Carol eats 7 cats.']:\n",
    "    print('Output: ',ele,'->',casex.search(ele))\n",
    "    \n",
    "    "
   ]
  },
  {
   "cell_type": "code",
   "execution_count": null,
   "id": "6de956fc",
   "metadata": {},
   "outputs": [],
   "source": []
  },
  {
   "cell_type": "code",
   "execution_count": null,
   "id": "f4496167",
   "metadata": {},
   "outputs": [],
   "source": []
  },
  {
   "cell_type": "code",
   "execution_count": null,
   "id": "145e0958",
   "metadata": {},
   "outputs": [],
   "source": []
  }
 ],
 "metadata": {
  "kernelspec": {
   "display_name": "Python 3 (ipykernel)",
   "language": "python",
   "name": "python3"
  },
  "language_info": {
   "codemirror_mode": {
    "name": "ipython",
    "version": 3
   },
   "file_extension": ".py",
   "mimetype": "text/x-python",
   "name": "python",
   "nbconvert_exporter": "python",
   "pygments_lexer": "ipython3",
   "version": "3.9.13"
  }
 },
 "nbformat": 4,
 "nbformat_minor": 5
}
