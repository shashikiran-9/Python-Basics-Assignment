{
 "cells": [
  {
   "cell_type": "markdown",
   "id": "5927763f",
   "metadata": {},
   "source": [
    "                                Programming Assignment No 02"
   ]
  },
  {
   "cell_type": "code",
   "execution_count": null,
   "id": "da921589",
   "metadata": {},
   "outputs": [],
   "source": []
  },
  {
   "cell_type": "code",
   "execution_count": 2,
   "id": "117b358a",
   "metadata": {},
   "outputs": [
    {
     "name": "stdout",
     "output_type": "stream",
     "text": [
      "Enter Kilometer:10.5\n",
      "Totaal km converters into Miles 6.5243955\n"
     ]
    }
   ],
   "source": [
    " # Question No 1:  Write a Python program to convert kilometers to miles?\n",
    "    \n",
    " km = float(input(\"Enter Kilometer:\"))\n",
    "\n",
    " miles = km* 0.621371\n",
    "    \n",
    " print(\"Totaal km converters into Miles\",miles)   "
   ]
  },
  {
   "cell_type": "code",
   "execution_count": 3,
   "id": "21ec97b4",
   "metadata": {},
   "outputs": [
    {
     "name": "stdout",
     "output_type": "stream",
     "text": [
      "Enter Kilometer:10.5\n",
      "km is converted into miles: 6.5243955\n"
     ]
    }
   ],
   "source": [
    " def km_to_miles():\n",
    "     km = float(input(\"Enter Kilometer:\"))\n",
    "     miles = km* 0.621371\n",
    "     print(\"km is converted into miles:\", miles)\n",
    "\n",
    " km_to_miles()"
   ]
  },
  {
   "cell_type": "code",
   "execution_count": null,
   "id": "7b7d2d2c",
   "metadata": {},
   "outputs": [],
   "source": []
  },
  {
   "cell_type": "code",
   "execution_count": 4,
   "id": "87f33a79",
   "metadata": {},
   "outputs": [
    {
     "name": "stdout",
     "output_type": "stream",
     "text": [
      "Degree of celcius: 40\n",
      "Degree celsius converted into fahrenheight:  104.0\n"
     ]
    }
   ],
   "source": [
    " #Question No 2:  Write a Python program to convert Celsius to Fahrenheit?\n",
    "    \n",
    " celsius = float(input(\"Degree of celcius: \"))\n",
    " \n",
    " fahrenheit = (celsius * 9/5) + 32\n",
    " print(\"Degree celsius converted into fahrenheight: \", fahrenheit)"
   ]
  },
  {
   "cell_type": "code",
   "execution_count": null,
   "id": "498070af",
   "metadata": {},
   "outputs": [],
   "source": []
  },
  {
   "cell_type": "code",
   "execution_count": 5,
   "id": "0dca079c",
   "metadata": {
    "collapsed": true
   },
   "outputs": [
    {
     "name": "stdout",
     "output_type": "stream",
     "text": [
      "Degree of celsius: 40\n",
      "40.0 Degree celsius is equal to 104.0 Degree fahrenheit\n"
     ]
    }
   ],
   "source": [
    " def celsius_to_fahrenheit():\n",
    "        \n",
    "     celsius = float(input(\"Degree of celsius: \"))   \n",
    "     fahrenheit = (celsius * 9/5) + 32\n",
    "        \n",
    "     print(\"{} Degree celsius is equal to {} Degree fahrenheit\". format(celsius, fahrenheit) )\n",
    "    \n",
    " celsius_to_fahrenheit()    "
   ]
  },
  {
   "cell_type": "code",
   "execution_count": null,
   "id": "2dbf90d0",
   "metadata": {},
   "outputs": [],
   "source": []
  },
  {
   "cell_type": "code",
   "execution_count": 1,
   "id": "551903e5",
   "metadata": {},
   "outputs": [
    {
     "name": "stdout",
     "output_type": "stream",
     "text": [
      "Display of year: 1994\n",
      "Display of Month: 6\n",
      "     June 1994\n",
      "Mo Tu We Th Fr Sa Su\n",
      "       1  2  3  4  5\n",
      " 6  7  8  9 10 11 12\n",
      "13 14 15 16 17 18 19\n",
      "20 21 22 23 24 25 26\n",
      "27 28 29 30\n",
      "\n"
     ]
    }
   ],
   "source": [
    " #Question No 3:  Write a Python program to display calendar?\n",
    "    \n",
    " import calendar\n",
    "\n",
    " year = int(input(\"Display of year: \"))\n",
    " month = int(input (\"Display of Month: \"))\n",
    "\n",
    " print(calendar.month(year,month))\n",
    "    "
   ]
  },
  {
   "cell_type": "code",
   "execution_count": 2,
   "id": "100eb8eb",
   "metadata": {},
   "outputs": [
    {
     "name": "stdout",
     "output_type": "stream",
     "text": [
      "Display of Calender year: 1994\n",
      "                                  1994\n",
      "\n",
      "      January                   February                   March\n",
      "Mo Tu We Th Fr Sa Su      Mo Tu We Th Fr Sa Su      Mo Tu We Th Fr Sa Su\n",
      "                1  2          1  2  3  4  5  6          1  2  3  4  5  6\n",
      " 3  4  5  6  7  8  9       7  8  9 10 11 12 13       7  8  9 10 11 12 13\n",
      "10 11 12 13 14 15 16      14 15 16 17 18 19 20      14 15 16 17 18 19 20\n",
      "17 18 19 20 21 22 23      21 22 23 24 25 26 27      21 22 23 24 25 26 27\n",
      "24 25 26 27 28 29 30      28                        28 29 30 31\n",
      "31\n",
      "\n",
      "       April                      May                       June\n",
      "Mo Tu We Th Fr Sa Su      Mo Tu We Th Fr Sa Su      Mo Tu We Th Fr Sa Su\n",
      "             1  2  3                         1             1  2  3  4  5\n",
      " 4  5  6  7  8  9 10       2  3  4  5  6  7  8       6  7  8  9 10 11 12\n",
      "11 12 13 14 15 16 17       9 10 11 12 13 14 15      13 14 15 16 17 18 19\n",
      "18 19 20 21 22 23 24      16 17 18 19 20 21 22      20 21 22 23 24 25 26\n",
      "25 26 27 28 29 30         23 24 25 26 27 28 29      27 28 29 30\n",
      "                          30 31\n",
      "\n",
      "        July                     August                  September\n",
      "Mo Tu We Th Fr Sa Su      Mo Tu We Th Fr Sa Su      Mo Tu We Th Fr Sa Su\n",
      "             1  2  3       1  2  3  4  5  6  7                1  2  3  4\n",
      " 4  5  6  7  8  9 10       8  9 10 11 12 13 14       5  6  7  8  9 10 11\n",
      "11 12 13 14 15 16 17      15 16 17 18 19 20 21      12 13 14 15 16 17 18\n",
      "18 19 20 21 22 23 24      22 23 24 25 26 27 28      19 20 21 22 23 24 25\n",
      "25 26 27 28 29 30 31      29 30 31                  26 27 28 29 30\n",
      "\n",
      "      October                   November                  December\n",
      "Mo Tu We Th Fr Sa Su      Mo Tu We Th Fr Sa Su      Mo Tu We Th Fr Sa Su\n",
      "                1  2          1  2  3  4  5  6                1  2  3  4\n",
      " 3  4  5  6  7  8  9       7  8  9 10 11 12 13       5  6  7  8  9 10 11\n",
      "10 11 12 13 14 15 16      14 15 16 17 18 19 20      12 13 14 15 16 17 18\n",
      "17 18 19 20 21 22 23      21 22 23 24 25 26 27      19 20 21 22 23 24 25\n",
      "24 25 26 27 28 29 30      28 29 30                  26 27 28 29 30 31\n",
      "31\n",
      "\n"
     ]
    }
   ],
   "source": [
    " import calendar \n",
    "    \n",
    " year = int(input(\"Display of Calender year: \"))\n",
    " \n",
    " print(calendar.calendar (year)) \n",
    "\n"
   ]
  },
  {
   "cell_type": "code",
   "execution_count": 6,
   "id": "0720b4d7",
   "metadata": {},
   "outputs": [
    {
     "name": "stdout",
     "output_type": "stream",
     "text": [
      "Display of calendar year: 1994\n",
      "Display of Month: 6\n",
      "     June 1994\n",
      "Mo Tu We Th Fr Sa Su\n",
      "       1  2  3  4  5\n",
      " 6  7  8  9 10 11 12\n",
      "13 14 15 16 17 18 19\n",
      "20 21 22 23 24 25 26\n",
      "27 28 29 30\n",
      "\n"
     ]
    }
   ],
   "source": [
    " def display_calendar():\n",
    "     year = int(input(\"Display of calendar year: \"))\n",
    "     month = int(input(\"Display of Month: \"))\n",
    "     print(calendar.month(year,month))   \n",
    " display_calendar()    "
   ]
  },
  {
   "cell_type": "code",
   "execution_count": 7,
   "id": "e500134a",
   "metadata": {},
   "outputs": [
    {
     "name": "stdout",
     "output_type": "stream",
     "text": [
      "Display of calendar year: 1994\n",
      "                                  1994\n",
      "\n",
      "      January                   February                   March\n",
      "Mo Tu We Th Fr Sa Su      Mo Tu We Th Fr Sa Su      Mo Tu We Th Fr Sa Su\n",
      "                1  2          1  2  3  4  5  6          1  2  3  4  5  6\n",
      " 3  4  5  6  7  8  9       7  8  9 10 11 12 13       7  8  9 10 11 12 13\n",
      "10 11 12 13 14 15 16      14 15 16 17 18 19 20      14 15 16 17 18 19 20\n",
      "17 18 19 20 21 22 23      21 22 23 24 25 26 27      21 22 23 24 25 26 27\n",
      "24 25 26 27 28 29 30      28                        28 29 30 31\n",
      "31\n",
      "\n",
      "       April                      May                       June\n",
      "Mo Tu We Th Fr Sa Su      Mo Tu We Th Fr Sa Su      Mo Tu We Th Fr Sa Su\n",
      "             1  2  3                         1             1  2  3  4  5\n",
      " 4  5  6  7  8  9 10       2  3  4  5  6  7  8       6  7  8  9 10 11 12\n",
      "11 12 13 14 15 16 17       9 10 11 12 13 14 15      13 14 15 16 17 18 19\n",
      "18 19 20 21 22 23 24      16 17 18 19 20 21 22      20 21 22 23 24 25 26\n",
      "25 26 27 28 29 30         23 24 25 26 27 28 29      27 28 29 30\n",
      "                          30 31\n",
      "\n",
      "        July                     August                  September\n",
      "Mo Tu We Th Fr Sa Su      Mo Tu We Th Fr Sa Su      Mo Tu We Th Fr Sa Su\n",
      "             1  2  3       1  2  3  4  5  6  7                1  2  3  4\n",
      " 4  5  6  7  8  9 10       8  9 10 11 12 13 14       5  6  7  8  9 10 11\n",
      "11 12 13 14 15 16 17      15 16 17 18 19 20 21      12 13 14 15 16 17 18\n",
      "18 19 20 21 22 23 24      22 23 24 25 26 27 28      19 20 21 22 23 24 25\n",
      "25 26 27 28 29 30 31      29 30 31                  26 27 28 29 30\n",
      "\n",
      "      October                   November                  December\n",
      "Mo Tu We Th Fr Sa Su      Mo Tu We Th Fr Sa Su      Mo Tu We Th Fr Sa Su\n",
      "                1  2          1  2  3  4  5  6                1  2  3  4\n",
      " 3  4  5  6  7  8  9       7  8  9 10 11 12 13       5  6  7  8  9 10 11\n",
      "10 11 12 13 14 15 16      14 15 16 17 18 19 20      12 13 14 15 16 17 18\n",
      "17 18 19 20 21 22 23      21 22 23 24 25 26 27      19 20 21 22 23 24 25\n",
      "24 25 26 27 28 29 30      28 29 30                  26 27 28 29 30 31\n",
      "31\n",
      "\n"
     ]
    }
   ],
   "source": [
    " def display_calendar():\n",
    "     year = int(input(\"Display of calendar year: \"))\n",
    "    \n",
    "     print(calendar.calendar(year))\n",
    " display_calendar()\n"
   ]
  },
  {
   "cell_type": "code",
   "execution_count": null,
   "id": "3c9aa66e",
   "metadata": {},
   "outputs": [],
   "source": []
  },
  {
   "cell_type": "code",
   "execution_count": 8,
   "id": "6706c410",
   "metadata": {},
   "outputs": [
    {
     "name": "stdout",
     "output_type": "stream",
     "text": [
      "Enter 'a' Values: 1\n",
      "Enter 'b' Values: 1\n",
      "Enter 'c' Values: -2\n",
      "Quadratic eqution is 1.0x^2 + 1.0x + -2.0 = 0\n",
      "Values of our quadratic eqution are (1+0j) and (-2+0j)\n"
     ]
    }
   ],
   "source": [
    " #Question No 4:  Write a Python program to solve quadratic equation?\n",
    "    \n",
    " # Our quadratic equation is ax^2bx+c = 0\n",
    "\n",
    " # x = (-b+- sqrt(b**2 - 4-a*c)/ 2*a)\n",
    "    \n",
    " import cmath\n",
    " import math\n",
    "    \n",
    " a = float(input(\"Enter 'a' Values: \"))\n",
    " b = float(input(\"Enter 'b' Values: \"))\n",
    " c = float(input(\"Enter 'c' Values: \"))\n",
    "\n",
    " print(\"Quadratic eqution is {}x^2 + {}x + {} = 0\". format(a,b,c))\n",
    "    \n",
    " if a == 0:\n",
    "    print(\"a is not equal to zero\")\n",
    " else:\n",
    "     r = (b ** 2) - (4 * a * c)\n",
    "     x1 = (-b + cmath.sqrt(r))/2 * a \n",
    "     \n",
    "     x2 = (-b - cmath.sqrt(r))/2 * a \n",
    "    \n",
    "     print(\"Values of our quadratic eqution are {} and {}\". format(x1,x2))\n",
    "        "
   ]
  },
  {
   "cell_type": "code",
   "execution_count": null,
   "id": "6b9d2ea6",
   "metadata": {},
   "outputs": [],
   "source": []
  },
  {
   "cell_type": "code",
   "execution_count": 10,
   "id": "88f54c49",
   "metadata": {},
   "outputs": [
    {
     "name": "stdout",
     "output_type": "stream",
     "text": [
      "Enter First Number: 10\n",
      "Enter Second Number: 22\n",
      "Before Swping num_1 is 10.0 num_2 is 22.0\n",
      "After Swaping num_1 is 22.0 num_2 is 10.0\n"
     ]
    }
   ],
   "source": [
    " #Question No 5:  Write a Python program to swap two variables without temp variable?\n",
    "    \n",
    " num_1 = float(input(\"Enter First Number: \"))\n",
    " num_2 = float(input(\"Enter Second Number: \"))\n",
    "    \n",
    " print(\"Before Swping\", \"num_1 is\",num_1, \"num_2 is\",num_2)\n",
    " \n",
    " num_1,num_2 = num_2,num_1\n",
    "\n",
    " print(\"After Swaping\", \"num_1 is\",num_1, \"num_2 is\", num_2)"
   ]
  },
  {
   "cell_type": "code",
   "execution_count": 11,
   "id": "9346234c",
   "metadata": {},
   "outputs": [
    {
     "name": "stdout",
     "output_type": "stream",
     "text": [
      "Enter first Number: 10\n",
      "Enter Second Number: 22\n",
      "Before Swapping num_1 is 10.0 and num_2 is 22.0\n",
      "After Swapping num_1 is 22.0 and num_2 is 10.0\n"
     ]
    }
   ],
   "source": [
    " num_1 = float(input(\"Enter first Number: \"))\n",
    " num_2 = float(input(\"Enter Second Number: \"))\n",
    "\n",
    " print('Before Swapping num_1 is {} and num_2 is {}'. format(num_1,num_2))\n",
    "    \n",
    " num_1 = num_1 + num_2\n",
    " num_2 = num_1 - num_2\n",
    " num_1 = num_1 - num_2\n",
    "\n",
    " print('After Swapping num_1 is {} and num_2 is {}'. format(num_1,num_2))"
   ]
  },
  {
   "cell_type": "code",
   "execution_count": 13,
   "id": "57f69197",
   "metadata": {},
   "outputs": [
    {
     "name": "stdout",
     "output_type": "stream",
     "text": [
      "Enter first Number: 10\n",
      "Enter Second Number: 22\n",
      "Before swapping num_1 is 10.0 and num_2 is 22.0\n",
      "None\n",
      "After Swapping num_1 is 22.0 and num_2 is 10.0\n"
     ]
    }
   ],
   "source": [
    " def swap_variable():\n",
    "     num_1 = float(input(\"Enter first Number: \"))\n",
    "     num_2 = float(input(\"Enter Second Number: \"))\n",
    "        \n",
    "     print(print('Before swapping num_1 is {} and num_2 is {}'. format(num_1,num_2)))\n",
    "    \n",
    "     num_1,num_2 = num_2,num_1\n",
    "        \n",
    "     print('After Swapping num_1 is {} and num_2 is {}'. format(num_1,num_2))  \n",
    "    \n",
    " swap_variable()    "
   ]
  },
  {
   "cell_type": "code",
   "execution_count": null,
   "id": "d2c51e16",
   "metadata": {},
   "outputs": [],
   "source": []
  }
 ],
 "metadata": {
  "kernelspec": {
   "display_name": "Python 3 (ipykernel)",
   "language": "python",
   "name": "python3"
  },
  "language_info": {
   "codemirror_mode": {
    "name": "ipython",
    "version": 3
   },
   "file_extension": ".py",
   "mimetype": "text/x-python",
   "name": "python",
   "nbconvert_exporter": "python",
   "pygments_lexer": "ipython3",
   "version": "3.9.12"
  }
 },
 "nbformat": 4,
 "nbformat_minor": 5
}
